{
 "cells": [
  {
   "cell_type": "code",
   "execution_count": 52,
   "metadata": {},
   "outputs": [
    {
     "name": "stdout",
     "output_type": "stream",
     "text": [
      "Looking in indexes: https://pypi.org/simple, https://pypi.ngc.nvidia.com\n",
      "Requirement already satisfied: mysql-connector-python in c:\\users\\alex\\appdata\\local\\programs\\python\\python310\\lib\\site-packages (8.0.31)\n",
      "Requirement already satisfied: protobuf<=3.20.1,>=3.11.0 in c:\\users\\alex\\appdata\\local\\programs\\python\\python310\\lib\\site-packages (from mysql-connector-python) (3.20.1)\n"
     ]
    }
   ],
   "source": [
    "#install connector api using the command below.\n",
    "!pip install mysql-connector-python"
   ]
  },
  {
   "cell_type": "code",
   "execution_count": 53,
   "metadata": {},
   "outputs": [],
   "source": [
    "# Import the MySQL Connector/Python\n",
    "import mysql.connector as connector"
   ]
  },
  {
   "cell_type": "code",
   "execution_count": 54,
   "metadata": {},
   "outputs": [
    {
     "name": "stdout",
     "output_type": "stream",
     "text": [
      "Connection between MySQL and Python is established.\n",
      "\n"
     ]
    }
   ],
   "source": [
    "# Establish connection between Python and MySQL database via connector API\n",
    "connection=connector.connect(host=\"localhost\",\n",
    "                             user=\"CapstoneAuthor\", # use your own\n",
    "                             password=\"admin\", # use your own\n",
    "                            )\n",
    "print(\"Connection between MySQL and Python is established.\\n\")"
   ]
  },
  {
   "cell_type": "code",
   "execution_count": 55,
   "metadata": {},
   "outputs": [
    {
     "name": "stdout",
     "output_type": "stream",
     "text": [
      "Cursor is created to communicate with the MySQL using Python.\n",
      "\n"
     ]
    }
   ],
   "source": [
    "# Create cursor object to communicate with entire MySQL database\n",
    "cursor = connection.cursor()\n",
    "print(\"Cursor is created to communicate with the MySQL using Python.\\n\")"
   ]
  },
  {
   "cell_type": "code",
   "execution_count": 56,
   "metadata": {},
   "outputs": [],
   "source": [
    "#Set Checks\n",
    "cursor.execute(\"SET @OLD_UNIQUE_CHECKS=@@UNIQUE_CHECKS, UNIQUE_CHECKS=0;\")\n",
    "cursor.execute(\"SET @OLD_FOREIGN_KEY_CHECKS=@@FOREIGN_KEY_CHECKS, FOREIGN_KEY_CHECKS=0;\")\n",
    "cursor.execute(\"SET @OLD_SQL_MODE=@@SQL_MODE, SQL_MODE='ONLY_FULL_GROUP_BY,STRICT_TRANS_TABLES,NO_ZERO_IN_DATE,NO_ZERO_DATE,ERROR_FOR_DIVISION_BY_ZERO,NO_ENGINE_SUBSTITUTION';\")"
   ]
  },
  {
   "cell_type": "code",
   "execution_count": 57,
   "metadata": {},
   "outputs": [],
   "source": [
    "#Name schema for use Name as 'schema'\n",
    "schema = \"TestDisenchantment\""
   ]
  },
  {
   "cell_type": "code",
   "execution_count": 58,
   "metadata": {},
   "outputs": [],
   "source": [
    "#Define Drop, create and use commands to reset the default schema\n",
    "\n",
    "dropSchema = \"DROP SCHEMA IF EXISTS `\"+schema+\"` ;\"\n",
    "createSchema= \"CREATE SCHEMA IF NOT EXISTS `\"+schema+\"` DEFAULT CHARACTER SET utf8mb3 ;\"\n",
    "useSchema = \"USE `\"+schema+\"` ;\"\n"
   ]
  },
  {
   "cell_type": "code",
   "execution_count": 60,
   "metadata": {},
   "outputs": [
    {
     "name": "stdout",
     "output_type": "stream",
     "text": [
      "schema TestDisenchantment is set for use.\n"
     ]
    }
   ],
   "source": [
    "try:\n",
    "    cursor.execute(dropSchema)\n",
    "    cursor.execute(createSchema)\n",
    "    cursor.execute(useSchema)\n",
    "    print(\"Schema \"+schema+\" is set for use.\")\n",
    "except:\n",
    "    print(\"Error setting \"+schema+\" for use\")"
   ]
  },
  {
   "cell_type": "code",
   "execution_count": 63,
   "metadata": {},
   "outputs": [],
   "source": [
    "## -----------------------------------------------------\n",
    "## Table `episode` statements\n",
    "## -----------------------------------------------------\n",
    "\n",
    "dropEpisodeTable = \"DROP TABLE IF EXISTS `\"+schema+\"`.`episode` ;\"\n",
    "\n",
    "createEpisodeTable= \"\"\"CREATE TABLE IF NOT EXISTS `\"\"\"+schema+\"\"\"`.`episode` (\n",
    "  `EpisodeID` INT NOT NULL AUTO_INCREMENT,\n",
    "  `Part` INT NULL DEFAULT NULL,\n",
    "  `Episode` INT NULL DEFAULT NULL,\n",
    "  `Name` VARCHAR(45) NULL DEFAULT NULL,\n",
    "  `Synopsis` VARCHAR(255) NULL DEFAULT NULL,\n",
    "  PRIMARY KEY (`EpisodeID`),\n",
    "  UNIQUE INDEX `EpisodeID_UNIQUE` (`EpisodeID` ASC) VISIBLE)\n",
    "ENGINE = InnoDB\n",
    "DEFAULT CHARACTER SET = utf8mb3;\"\"\"\n"
   ]
  },
  {
   "cell_type": "code",
   "execution_count": 64,
   "metadata": {},
   "outputs": [
    {
     "name": "stdout",
     "output_type": "stream",
     "text": [
      "Table 'episode' created.\n"
     ]
    }
   ],
   "source": [
    "## -----------------------------------------------------\n",
    "## #Execute create episode as new table\n",
    "## -----------------------------------------------------\n",
    "try:\n",
    "    cursor.execute(dropEpisodeTable)\n",
    "    cursor.execute(createEpisodeTable)\n",
    "    print(\"Table 'episode' created.\")\n",
    "except:\n",
    "    print(\"Error creating table 'episode'.\")"
   ]
  },
  {
   "cell_type": "code",
   "execution_count": 65,
   "metadata": {},
   "outputs": [],
   "source": [
    "## -----------------------------------------------------\n",
    "## #Table 'event' statements\n",
    "## -----------------------------------------------------\n",
    "dropEventTable = \"\"\"DROP TABLE IF EXISTS `\"\"\"+schema+\"\"\"`.`event` ;\"\"\"\n",
    "\n",
    "createEventTable = \"\"\"CREATE TABLE IF NOT EXISTS `\"\"\"+schema+\"\"\"`.`event` (\n",
    "  `EventID` INT NOT NULL AUTO_INCREMENT,\n",
    "  `EventName` VARCHAR(45) CHARACTER SET 'armscii8' NULL DEFAULT NULL,\n",
    "  `EpisodeID` INT NOT NULL,\n",
    "  `EventDescription` VARCHAR(255) NULL DEFAULT NULL,\n",
    "  `Timestamp` DECIMAL(3,0) NULL DEFAULT NULL,\n",
    "  PRIMARY KEY (`EventID`),\n",
    "  INDEX `fk_Event_Episodes_idx` (`EpisodeID` ASC) VISIBLE,\n",
    "  CONSTRAINT `fk_Event_Episodes`\n",
    "    FOREIGN KEY (`EpisodeID`)\n",
    "    REFERENCES `\"\"\"+schema+\"\"\"`.`episode` (`EpisodeID`))\n",
    "ENGINE = InnoDB\n",
    "DEFAULT CHARACTER SET = utf8mb3;\"\"\""
   ]
  },
  {
   "cell_type": "code",
   "execution_count": 67,
   "metadata": {},
   "outputs": [
    {
     "name": "stdout",
     "output_type": "stream",
     "text": [
      "Table 'event' created.\n"
     ]
    }
   ],
   "source": [
    "## -----------------------------------------------------\n",
    "## #Execute create event as new table\n",
    "## -----------------------------------------------------\n",
    "try:\n",
    "    cursor.execute(dropEventTable)\n",
    "    cursor.execute(createEventTable)\n",
    "    print(\"Table 'event' created.\")\n",
    "except:\n",
    "    print(\"Error creating table 'event'.\")"
   ]
  },
  {
   "cell_type": "code",
   "execution_count": null,
   "metadata": {},
   "outputs": [],
   "source": [
    "## -----------------------------------------------------\n",
    "## Table `Object` statements\n",
    "## -----------------------------------------------------\n",
    "\n",
    "dropObjectStatement = \"\"\"DROP TABLE IF EXISTS `\"\"\"+schema+\"\"\"`.`object` ;\"\"\"\n",
    "createObjectStatement = \"\"\"CREATE TABLE IF NOT EXISTS `\"\"\"+schema+\"\"\"`.`object` (\n",
    "  `ObjectID` INT NOT NULL AUTO_INCREMENT,\n",
    "  `ObjectTypeID` INT NOT NULL,\n",
    "  `ObjectReferenceName` VARCHAR(45) NULL DEFAULT NULL,\n",
    "  `ObjectDescription` VARCHAR(255) NULL DEFAULT NULL,\n",
    "  PRIMARY KEY (`ObjectID`),\n",
    "  UNIQUE INDEX `ObjectID_UNIQUE` (`ObjectID` ASC) VISIBLE,\n",
    "  UNIQUE INDEX `ObjectReferenceName_UNIQUE` (`ObjectReferenceName` ASC) VISIBLE)\n",
    "ENGINE = InnoDB\n",
    "DEFAULT CHARACTER SET = utf8mb3;\"\"\""
   ]
  }
 ],
 "metadata": {
  "kernelspec": {
   "display_name": "Python 3",
   "language": "python",
   "name": "python3"
  },
  "language_info": {
   "name": "python",
   "version": "3.10.8"
  },
  "orig_nbformat": 4
 },
 "nbformat": 4,
 "nbformat_minor": 2
}
