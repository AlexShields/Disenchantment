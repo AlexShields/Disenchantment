{
 "cells": [
  {
   "cell_type": "code",
   "execution_count": 1,
   "metadata": {},
   "outputs": [
    {
     "name": "stdout",
     "output_type": "stream",
     "text": [
      "Looking in indexes: https://pypi.org/simple, https://pypi.ngc.nvidia.com\n",
      "Requirement already satisfied: mysql-connector-python in c:\\users\\alex\\appdata\\local\\programs\\python\\python310\\lib\\site-packages (8.0.31)\n",
      "Requirement already satisfied: protobuf<=3.20.1,>=3.11.0 in c:\\users\\alex\\appdata\\local\\programs\\python\\python310\\lib\\site-packages (from mysql-connector-python) (3.20.1)\n",
      "Note: you may need to restart the kernel to use updated packages.\n"
     ]
    }
   ],
   "source": [
    "#install connector api using the command below.\n",
    "%pip install mysql-connector-python"
   ]
  },
  {
   "cell_type": "code",
   "execution_count": 2,
   "metadata": {},
   "outputs": [],
   "source": [
    "# Import the MySQL Connector/Python\n",
    "import mysql.connector as connector\n",
    "\n"
   ]
  },
  {
   "cell_type": "code",
   "execution_count": 3,
   "metadata": {},
   "outputs": [],
   "source": [
    "# Import tkinter\n",
    "import tkinter as tk\n"
   ]
  },
  {
   "cell_type": "code",
   "execution_count": 4,
   "metadata": {},
   "outputs": [
    {
     "name": "stdout",
     "output_type": "stream",
     "text": [
      "Connection between MySQL and Python is established.\n",
      "\n"
     ]
    }
   ],
   "source": [
    "# Establish connection between Python and MySQL database via connector API\n",
    "connection=connector.connect(host=\"localhost\",\n",
    "                             user=\"DisenchantmentAdmin\", # use your own\n",
    "                             password=\"Bean\", # use your own\n",
    "                             raise_on_warnings=True\n",
    "                            )\n",
    "print(\"Connection between MySQL and Python is established.\\n\")"
   ]
  },
  {
   "cell_type": "code",
   "execution_count": 5,
   "metadata": {},
   "outputs": [
    {
     "name": "stdout",
     "output_type": "stream",
     "text": [
      "Cursor is created to communicate with the MySQL using Python.\n",
      "\n"
     ]
    }
   ],
   "source": [
    "# Create cursor object to communicate with entire MySQL database\n",
    "cursor = connection.cursor()\n",
    "print(\"Cursor is created to communicate with the MySQL using Python.\\n\")"
   ]
  },
  {
   "cell_type": "code",
   "execution_count": 6,
   "metadata": {},
   "outputs": [],
   "source": [
    "#Set Checks\n",
    "cursor.execute(\"SET @OLD_UNIQUE_CHECKS=@@UNIQUE_CHECKS, UNIQUE_CHECKS=0;\")\n",
    "cursor.execute(\"SET @OLD_FOREIGN_KEY_CHECKS=@@FOREIGN_KEY_CHECKS, FOREIGN_KEY_CHECKS=0;\")\n",
    "cursor.execute(\"SET @OLD_SQL_MODE=@@SQL_MODE, SQL_MODE='ONLY_FULL_GROUP_BY,STRICT_TRANS_TABLES,NO_ZERO_IN_DATE,NO_ZERO_DATE,ERROR_FOR_DIVISION_BY_ZERO,NO_ENGINE_SUBSTITUTION';\")"
   ]
  },
  {
   "cell_type": "code",
   "execution_count": 7,
   "metadata": {},
   "outputs": [],
   "source": [
    "#Name schema for use Name as 'schema'\n",
    "schema = \"testdisenchantment\""
   ]
  },
  {
   "cell_type": "code",
   "execution_count": 8,
   "metadata": {},
   "outputs": [],
   "source": [
    "#Define Drop, create and use commands to reset the default schema\n",
    "\n",
    "dropSchema = \"DROP SCHEMA IF EXISTS `\"+schema+\"` ;\"\n",
    "createSchema= \"CREATE SCHEMA IF NOT EXISTS `\"+schema+\"` ;\"\n"
   ]
  },
  {
   "cell_type": "code",
   "execution_count": 9,
   "metadata": {},
   "outputs": [],
   "source": [
    "#set schema for use\n",
    "useSchema = \"USE `\"+schema+\"` ;\""
   ]
  },
  {
   "cell_type": "code",
   "execution_count": 10,
   "metadata": {},
   "outputs": [
    {
     "name": "stdout",
     "output_type": "stream",
     "text": [
      "no existing database\n",
      "Schema testdisenchantment is set for use.\n"
     ]
    }
   ],
   "source": [
    "try:\n",
    "    cursor.execute(dropSchema)\n",
    "    print(\"existing database dropped\")\n",
    "except:\n",
    "    print(\"no existing database\")\n",
    "\n",
    "try:\n",
    "    cursor.execute(createSchema)\n",
    "except:\n",
    "    print(\"fail to create schema\")\n",
    "    \n",
    "try:\n",
    "    cursor.execute(useSchema)\n",
    "    print(\"Schema \"+schema+\" is set for use.\")\n",
    "except:\n",
    "    print(\"error setting database for use\")\n"
   ]
  },
  {
   "cell_type": "code",
   "execution_count": 11,
   "metadata": {},
   "outputs": [],
   "source": [
    "## -----------------------------------------------------\n",
    "## Table `episode` statements\n",
    "## -----------------------------------------------------\n",
    "\n",
    "dropEpisodeTable = \"DROP TABLE IF EXISTS `\"+schema+\"`.`episode` ;\"\n",
    "\n",
    "createEpisodeTable= \"\"\"CREATE TABLE IF NOT EXISTS `\"\"\"+schema+\"\"\"`.`episode` (\n",
    "  `EpisodeID` INT NOT NULL AUTO_INCREMENT,\n",
    "  `PartID` INT NULL DEFAULT NULL,\n",
    "  `EpisodeName` VARCHAR(255) NULL DEFAULT NULL,\n",
    "  `Synopsis` VARCHAR(4095) NULL DEFAULT NULL,\n",
    "  PRIMARY KEY (`EpisodeID`),\n",
    "  UNIQUE INDEX `EpisodeID_UNIQUE` (`EpisodeID` ASC) VISIBLE)\n",
    "ENGINE = InnoDB\n",
    "DEFAULT CHARACTER SET = utf8mb4;\"\"\"\n"
   ]
  },
  {
   "cell_type": "code",
   "execution_count": 12,
   "metadata": {},
   "outputs": [
    {
     "name": "stdout",
     "output_type": "stream",
     "text": [
      "no existing table\n",
      "Table 'episode' initiated.\n"
     ]
    }
   ],
   "source": [
    "## -----------------------------------------------------\n",
    "## #Execute initiate episode as new table\n",
    "## -----------------------------------------------------\n",
    "try:\n",
    "    cursor.execute(dropEpisodeTable)\n",
    "except:\n",
    "    print(\"no existing table\")\n",
    "try:\n",
    "    cursor.execute(createEpisodeTable)\n",
    "    print(\"Table 'episode' initiated.\")\n",
    "except:\n",
    "    print(\"Error initiating table 'episode'.\")"
   ]
  },
  {
   "cell_type": "code",
   "execution_count": 13,
   "metadata": {},
   "outputs": [],
   "source": [
    "## -----------------------------------------------------\n",
    "## #Table 'scene' statements\n",
    "## -----------------------------------------------------\n",
    "dropSceneTable = \"\"\"DROP TABLE IF EXISTS `\"\"\"+schema+\"\"\"`.`scene` ;\"\"\"\n",
    "\n",
    "createSceneTable = \"\"\"CREATE TABLE IF NOT EXISTS `\"\"\"+schema+\"\"\"`.`scene` (\n",
    "  `SceneID` INT NOT NULL AUTO_INCREMENT,\n",
    "  `SceneName` VARCHAR(255) CHARACTER SET 'armscii8' NULL DEFAULT NULL,\n",
    "  `EpisodeID` INT NOT NULL,\n",
    "  `SceneDescription` VARCHAR(4095) NULL DEFAULT NULL,\n",
    "  `Timestamp` DECIMAL(9,3) NULL DEFAULT NULL,\n",
    "  PRIMARY KEY (`SceneID`),\n",
    "  INDEX `fk_Scene_Episodes_idx` (`EpisodeID` ASC) VISIBLE,\n",
    "  CONSTRAINT `fk_Scene_Episodes`\n",
    "    FOREIGN KEY (`EpisodeID`)\n",
    "    REFERENCES `\"\"\"+schema+\"\"\"`.`episode` (`EpisodeID`))\n",
    "ENGINE = InnoDB\n",
    "DEFAULT CHARACTER SET = utf8mb4;\"\"\""
   ]
  },
  {
   "cell_type": "code",
   "execution_count": 14,
   "metadata": {},
   "outputs": [
    {
     "name": "stdout",
     "output_type": "stream",
     "text": [
      "no existing table\n",
      "Table 'scene' initiated.\n"
     ]
    }
   ],
   "source": [
    "## -----------------------------------------------------\n",
    "## #Execute initiate scene as new table\n",
    "## -----------------------------------------------------\n",
    "try:\n",
    "    cursor.execute(dropSceneTable)\n",
    "except:\n",
    "    print(\"no existing table\")\n",
    "try:\n",
    "    cursor.execute(createSceneTable)\n",
    "    print(\"Table 'scene' initiated.\")\n",
    "except:\n",
    "    print(\"Error initiating table 'scene'.\")"
   ]
  },
  {
   "cell_type": "code",
   "execution_count": 15,
   "metadata": {},
   "outputs": [],
   "source": [
    "## -----------------------------------------------------\n",
    "## Table `Element` statements\n",
    "## -----------------------------------------------------\n",
    "\n",
    "dropElementStatement = \"\"\"DROP TABLE IF EXISTS `\"\"\"+schema+\"\"\"`.`element` ;\"\"\"\n",
    "createElementStatement = \"\"\"CREATE TABLE IF NOT EXISTS `\"\"\"+schema+\"\"\"`.`element` (\n",
    "  `ElementID` INT NOT NULL AUTO_INCREMENT,\n",
    "  `ElementType` VARCHAR(45) NOT NULL,\n",
    "  `ElementReferenceName` VARCHAR(255) NULL DEFAULT NULL,\n",
    "  `ElementDescription` VARCHAR(4095) NULL DEFAULT NULL,\n",
    "  PRIMARY KEY (`ElementID`),\n",
    "  UNIQUE INDEX `ElementID_UNIQUE` (`ElementID` ASC) VISIBLE,\n",
    "  UNIQUE INDEX `ElementReferenceName_UNIQUE` (`ElementReferenceName` ASC) VISIBLE)\n",
    "ENGINE = InnoDB\n",
    "DEFAULT CHARACTER SET = utf8mb4;\"\"\""
   ]
  },
  {
   "cell_type": "code",
   "execution_count": 16,
   "metadata": {},
   "outputs": [
    {
     "name": "stdout",
     "output_type": "stream",
     "text": [
      "no existing table\n",
      "Table 'scene' initiated.\n"
     ]
    }
   ],
   "source": [
    "## -----------------------------------------------------\n",
    "## #Execute initiate element as new table\n",
    "## -----------------------------------------------------\n",
    "try:\n",
    "    cursor.execute(dropElementStatement)\n",
    "except:\n",
    "    print(\"no existing table\")\n",
    "try:\n",
    "    cursor.execute(createElementStatement)\n",
    "    print(\"Table 'scene' initiated.\")\n",
    "except:\n",
    "    print(\"Error initiating table 'scene'.\")"
   ]
  },
  {
   "cell_type": "code",
   "execution_count": 17,
   "metadata": {},
   "outputs": [],
   "source": [
    "## -----------------------------------------------------\n",
    "## Table sceneincludeselement\n",
    "## -----------------------------------------------------\n",
    "dropSceneIncludesElementStatement = \"\"\"DROP TABLE IF EXISTS `\"\"\"+schema+\"\"\"`.`sceneincludeselement` ;\"\"\"\n",
    "createSceneIncludesElementStatement = \"\"\"CREATE TABLE IF NOT EXISTS `\"\"\"+schema+\"\"\"`.`sceneincludeselement` (\n",
    "  `SceneIncludesElementID` INT NOT NULL AUTO_INCREMENT,\n",
    "  `SceneID` INT NOT NULL,\n",
    "  `ElementID` INT NOT NULL,\n",
    "  `InclusionDescription` VARCHAR(4095) NULL DEFAULT NULL,\n",
    "  `SequentialID` DECIMAL(11,5) NULL DEFAULT NULL,\n",
    "  PRIMARY KEY (`SceneIncludesElementID`),\n",
    "  INDEX `fk_SceneIncludesElement_Scenes1_idx` (`SceneID` ASC) VISIBLE,\n",
    "  INDEX `fk_SceneIncludesElement_Element1_idx` (`ElementID` ASC) VISIBLE,\n",
    "  CONSTRAINT `fk_SceneIncludesElement_Scenes1`\n",
    "    FOREIGN KEY (`SceneID`)\n",
    "    REFERENCES `\"\"\"+schema+\"\"\"`.`scene` (`SceneID`),\n",
    "  CONSTRAINT `fk_SceneIncludesElement_Element1`\n",
    "    FOREIGN KEY (`ElementID`)\n",
    "    REFERENCES `\"\"\"+schema+\"\"\"`.`element` (`ElementID`))\n",
    "ENGINE = InnoDB\n",
    "DEFAULT CHARACTER SET = utf8mb4;\"\"\""
   ]
  },
  {
   "cell_type": "code",
   "execution_count": 18,
   "metadata": {},
   "outputs": [
    {
     "name": "stdout",
     "output_type": "stream",
     "text": [
      "no existing table\n",
      "Table 'sceneincludeselement' initiated.\n"
     ]
    }
   ],
   "source": [
    "## -----------------------------------------------------\n",
    "## #Execute initiate sceneincludeselement as new table\n",
    "## -----------------------------------------------------\n",
    "try:\n",
    "    cursor.execute(dropSceneIncludesElementStatement)\n",
    "except:\n",
    "    print(\"no existing table\")\n",
    "try:\n",
    "    cursor.execute(createSceneIncludesElementStatement)\n",
    "    print(\"Table 'sceneincludeselement' initiated.\")\n",
    "except:\n",
    "    print(\"Error initiating table 'sceneincludeselement'.\")"
   ]
  },
  {
   "cell_type": "code",
   "execution_count": 19,
   "metadata": {},
   "outputs": [],
   "source": [
    "## -----------------------------------------------------\n",
    "## Table traitduration`\n",
    "## -----------------------------------------------------\n",
    "dropTraitDurationStatement = \"\"\"DROP TABLE IF EXISTS `\"\"\"+schema+\"\"\"`.`traitduration` ;\"\"\"\n",
    "createTraitDurationStatement = \"\"\"CREATE TABLE IF NOT EXISTS `\"\"\"+schema+\"\"\"`.`traitduration` (\n",
    "  `TraitDurationID` INT NOT NULL AUTO_INCREMENT,\n",
    "  `StartSceneDescription` VARCHAR(4095) NULL,\n",
    "  `EndSceneDescription` VARCHAR(4095) NULL DEFAULT NULL,\n",
    "  `StartSceneIncludesElementID` INT NULL,\n",
    "  `EndSceneIncludesElementID` INT NULL DEFAULT NULL,\n",
    "  PRIMARY KEY (`TraitDurationID`),\n",
    "  INDEX `fk_traitduration_sceneincludeselement1_idx` (`StartSceneIncludesElementID` ASC) VISIBLE,\n",
    "  INDEX `fk_traitduration_sceneincludeselement2_idx` (`EndSceneIncludesElementID` ASC) VISIBLE,\n",
    "  CONSTRAINT `fk_traitduration_sceneincludeselement1`\n",
    "    FOREIGN KEY (`StartSceneIncludesElementID`)\n",
    "    REFERENCES `\"\"\"+schema+\"\"\"`.`sceneincludeselement` (`SceneIncludesElementID`),\n",
    "  CONSTRAINT `fk_traitduration_sceneincludeselement2`\n",
    "    FOREIGN KEY (`EndSceneIncludesElementID`)\n",
    "    REFERENCES `\"\"\"+schema+\"\"\"`.`sceneincludeselement` (`SceneIncludesElementID`))\n",
    "ENGINE = InnoDB\n",
    "DEFAULT CHARACTER SET = utf8mb4;\"\"\"\n"
   ]
  },
  {
   "cell_type": "code",
   "execution_count": 20,
   "metadata": {},
   "outputs": [],
   "source": [
    "## -----------------------------------------------------\n",
    "## Table relationshipduration`\n",
    "## -----------------------------------------------------\n",
    "dropRelationshipDurationStatement = \"\"\"DROP TABLE IF EXISTS `\"\"\"+schema+\"\"\"`.`relationshipduration` ;\"\"\"\n",
    "createRelationshipDurationStatement = \"\"\"CREATE TABLE IF NOT EXISTS `\"\"\"+schema+\"\"\"`.`relationshipduration` (\n",
    "  `RelationshipDurationID` INT NOT NULL AUTO_INCREMENT,\n",
    "  `StartSceneDescription` VARCHAR(4095) NULL,\n",
    "  `EndSceneDescription` VARCHAR(4095) NULL DEFAULT NULL,\n",
    "  `StartSceneIncludesElementID` INT NULL,\n",
    "  `EndSceneIncludesElementID` INT NULL DEFAULT NULL,\n",
    "  PRIMARY KEY (`RelationshipDurationID`),\n",
    "  INDEX `fk_relationshipduration_sceneincludeselement1_idx` (`StartSceneIncludesElementID` ASC) VISIBLE,\n",
    "  INDEX `fk_relationshipduration_sceneincludeselement2_idx` (`EndSceneIncludesElementID` ASC) VISIBLE,\n",
    "  CONSTRAINT `fk_relationshipduration_sceneincludeselement1`\n",
    "    FOREIGN KEY (`StartSceneIncludesElementID`)\n",
    "    REFERENCES `\"\"\"+schema+\"\"\"`.`sceneincludeselement` (`SceneIncludesElementID`),\n",
    "  CONSTRAINT `fk_relationshipduration_sceneincludeselement2`\n",
    "    FOREIGN KEY (`EndSceneIncludesElementID`)\n",
    "    REFERENCES `\"\"\"+schema+\"\"\"`.`sceneincludeselement` (`SceneIncludesElementID`))\n",
    "ENGINE = InnoDB\n",
    "DEFAULT CHARACTER SET = utf8mb4;\"\"\"\n"
   ]
  },
  {
   "cell_type": "code",
   "execution_count": 21,
   "metadata": {},
   "outputs": [
    {
     "name": "stdout",
     "output_type": "stream",
     "text": [
      "no existing table\n",
      "Table 'traitduration' initiated.\n"
     ]
    }
   ],
   "source": [
    "## -----------------------------------------------------\n",
    "## #Execute initiate traitduration as new table\n",
    "## -----------------------------------------------------\n",
    "try:\n",
    "    cursor.execute(dropTraitDurationStatement)\n",
    "except:\n",
    "    print(\"no existing table\")\n",
    "try:\n",
    "    cursor.execute(createTraitDurationStatement)\n",
    "    print(\"Table 'traitduration' initiated.\")\n",
    "except:\n",
    "    print(\"Error initiating table 'traitduration'.\")"
   ]
  },
  {
   "cell_type": "code",
   "execution_count": 22,
   "metadata": {},
   "outputs": [
    {
     "name": "stdout",
     "output_type": "stream",
     "text": [
      "no existing table\n",
      "Table 'relationshipduration' initiated.\n"
     ]
    }
   ],
   "source": [
    "## -----------------------------------------------------\n",
    "## #Execute initiate relationshipduration as new table\n",
    "## -----------------------------------------------------\n",
    "try:\n",
    "    cursor.execute(dropRelationshipDurationStatement)\n",
    "except:\n",
    "    print(\"no existing table\")\n",
    "try:\n",
    "    cursor.execute(createRelationshipDurationStatement)\n",
    "    print(\"Table 'relationshipduration' initiated.\")\n",
    "except:\n",
    "    print(\"Error initiating table 'relationshipduration'.\")"
   ]
  },
  {
   "cell_type": "code",
   "execution_count": 23,
   "metadata": {},
   "outputs": [],
   "source": [
    "\n",
    "## -----------------------------------------------------\n",
    "## Table trait\n",
    "## -----------------------------------------------------\n",
    "dropTraitStatement = \"\"\"DROP TABLE IF EXISTS `\"\"\"+schema+\"\"\"`.`trait` ;\"\"\"\n",
    "createTraitStatement = \"\"\"CREATE TABLE IF NOT EXISTS `\"\"\" + schema + \"\"\"`.`trait` (\n",
    "  `TraitID` INT NOT NULL AUTO_INCREMENT,\n",
    "  `TraitName` VARCHAR(255) NULL DEFAULT NULL,\n",
    "  `TraitUniversalDescription` VARCHAR(255) NULL DEFAULT NULL,\n",
    "  PRIMARY KEY (`TraitID`)\n",
    ")\n",
    "ENGINE = InnoDB\n",
    "DEFAULT CHARACTER SET = utf8mb4;\"\"\""
   ]
  },
  {
   "cell_type": "code",
   "execution_count": 24,
   "metadata": {},
   "outputs": [
    {
     "name": "stdout",
     "output_type": "stream",
     "text": [
      "no existing table\n",
      "Table 'trait' initiated.\n"
     ]
    }
   ],
   "source": [
    "## -----------------------------------------------------\n",
    "## #Execute initiate trait as new table\n",
    "## -----------------------------------------------------\n",
    "try:\n",
    "    cursor.execute(dropTraitStatement)\n",
    "except:\n",
    "    print(\"no existing table\")\n",
    "try:\n",
    "    cursor.execute(createTraitStatement)\n",
    "    print(\"Table 'trait' initiated.\")\n",
    "except:\n",
    "    print(\"Error initiating table 'trait'.\")"
   ]
  },
  {
   "cell_type": "code",
   "execution_count": 25,
   "metadata": {},
   "outputs": [],
   "source": [
    "#----------------------------\n",
    "# Table elementhastrait\n",
    "#-----------------------------------------------------------\n",
    "dropElementHasTraitStatement = \"\"\"DROP TABLE IF EXISTS `\"\"\"+schema+\"\"\"`.`elementhastrait` ;\"\"\"\n",
    "createElementHasTraitStatement = \"\"\"CREATE TABLE IF NOT EXISTS `\"\"\"+schema+\"\"\"`.`elementhastrait` (\n",
    "  `ElementHasTraitID` INT NOT NULL AUTO_INCREMENT,\n",
    "  `ElementID` INT NOT NULL,\n",
    "  `TraitID` INT NOT NULL,\n",
    "  `TraitDurationID` INT NULL,\n",
    "  `ElementHasTraitDescription` VARCHAR(4095) NULL DEFAULT NULL,\n",
    "  `TraitPriority` DECIMAL(4,2) NULL DEFAULT NULL,\n",
    "  PRIMARY KEY (`ElementHasTraitID`),\n",
    "  INDEX `fk_ElementHasTrait_Element1_idx` (`ElementID` ASC) VISIBLE,\n",
    "  INDEX `fk_ElementHasTrait_Trait1_idx` (`TraitID` ASC) VISIBLE,\n",
    "  INDEX `fk_ElementHasTrait_TraitDuration1_idx` (`TraitDurationID` ASC) VISIBLE,\n",
    "  CONSTRAINT `fk_ElementHasTrait_TraitDuration1`\n",
    "    FOREIGN KEY (`TraitDurationID`)\n",
    "    REFERENCES `\"\"\"+schema+\"\"\"`.`traitduration` (`TraitDurationID`),\n",
    "  CONSTRAINT `fk_ElementHasTrait_Element2`\n",
    "    FOREIGN KEY (`ElementID`)\n",
    "    REFERENCES `\"\"\"+schema+\"\"\"`.`element` (`ElementID`),\n",
    "  CONSTRAINT `fk_ElementHasTrait_Trait1`\n",
    "    FOREIGN KEY (`TraitID`)\n",
    "    REFERENCES `\"\"\"+schema+\"\"\"`.`trait` (`TraitID`)\n",
    ")\n",
    "ENGINE = InnoDB\n",
    "DEFAULT CHARACTER SET = utf8mb4;\"\"\""
   ]
  },
  {
   "cell_type": "code",
   "execution_count": 26,
   "metadata": {},
   "outputs": [
    {
     "name": "stdout",
     "output_type": "stream",
     "text": [
      "no existing table\n",
      "Table 'elementhastrait' initiated.\n"
     ]
    }
   ],
   "source": [
    "## -----------------------------------------------------\n",
    "## #Execute initiate elementhastrait as new table\n",
    "## -----------------------------------------------------\n",
    "try:\n",
    "    cursor.execute(dropElementHasTraitStatement)\n",
    "except:\n",
    "    print(\"no existing table\")\n",
    "try:\n",
    "    cursor.execute(createElementHasTraitStatement)\n",
    "    print(\"Table 'elementhastrait' initiated.\")\n",
    "except connector.Error as error:\n",
    "    print(f\"Error creating 'elementhastrait': {error}\")\n"
   ]
  },
  {
   "cell_type": "code",
   "execution_count": 27,
   "metadata": {},
   "outputs": [],
   "source": [
    "## -----------------------------------------------------\n",
    "## Table sceneaddresseselementhastrait`\n",
    "## -----------------------------------------------------\n",
    "\n",
    "dropSceneAddressesElementHasTraitStatement = \"\"\"DROP TABLE IF EXISTS `\"\"\"+schema+\"\"\"`.`sceneaddresseselementhastrait` ;\"\"\"\n",
    "createSceneAddressesElementHasTraitStatement = \"\"\"CREATE TABLE IF NOT EXISTS `\"\"\"+schema+\"\"\"`.`sceneaddresseselementhastrait` (\n",
    "  `SceneAddressesElementHasTraitID` INT NOT NULL AUTO_INCREMENT,\n",
    "  `ElementHasTraitID` INT NOT NULL,\n",
    "  `SceneAddressesElementHasTraitDescription` VARCHAR(4095) NULL DEFAULT NULL,\n",
    "  `SceneIncludesElementID` INT NOT NULL,\n",
    "  PRIMARY KEY (`SceneAddressesElementHasTraitID`),\n",
    "  UNIQUE INDEX `Scene_Has_Example_Of_Element_Has_Trait_UNIQUE` (`SceneAddressesElementHasTraitID` ASC) VISIBLE,\n",
    "  INDEX `fk_Scene_Has_Example_Of_Element_Has_Trait_Element_Has_Trait1_idx` (`ElementHasTraitID` ASC) VISIBLE,\n",
    "  INDEX `fk_Scene_Addresses_Element_Has_Trait_Scene_Includes_Element1_idx` (`SceneIncludesElementID` ASC) VISIBLE,\n",
    "  CONSTRAINT `fk_Scene_Addresses_Element_Has_Trait_Scene_Includes_Element1a`\n",
    "    FOREIGN KEY (`SceneIncludesElementID`)\n",
    "    REFERENCES `\"\"\"+schema+\"\"\"`.`sceneincludeselement` (`SceneIncludesElementID`),\n",
    "  CONSTRAINT `fk_Scene_Addresses_Element_Has_Trait_Element_Has_Trait1`\n",
    "    FOREIGN KEY (`ElementHasTraitID`)\n",
    "    REFERENCES `\"\"\"+schema+\"\"\"`.`elementhastrait` (`ElementHasTraitID`))\n",
    "ENGINE = InnoDB\n",
    "DEFAULT CHARACTER SET = utf8mb4;\"\"\"\n"
   ]
  },
  {
   "cell_type": "code",
   "execution_count": 28,
   "metadata": {},
   "outputs": [
    {
     "name": "stdout",
     "output_type": "stream",
     "text": [
      "no existing table\n",
      "Table 'sceneaddresseselementhastrait' initiated.\n"
     ]
    }
   ],
   "source": [
    "## -----------------------------------------------------\n",
    "## #Execute initiate sceneaddresseselementhastrait as new table\n",
    "## -----------------------------------------------------\n",
    "try:\n",
    "    cursor.execute(dropSceneAddressesElementHasTraitStatement)\n",
    "except:\n",
    "    print(\"no existing table\")\n",
    "try:\n",
    "    cursor.execute(createSceneAddressesElementHasTraitStatement)\n",
    "    print(\"Table 'sceneaddresseselementhastrait' initiated.\")\n",
    "except:\n",
    "    print(\"Error initiating table 'sceneaddresseselementhastrait'.\")\n"
   ]
  },
  {
   "cell_type": "code",
   "execution_count": 29,
   "metadata": {},
   "outputs": [],
   "source": [
    "## -----------------------------------------------------\n",
    "## Table relationship\n",
    "## -----------------------------------------------------\n",
    "dropRelationshipStatement = \"\"\"DROP TABLE IF EXISTS `\"\"\"+schema+\"\"\"`.`relationship` ;\"\"\"\n",
    "createRelationshipStatement = \"\"\"CREATE TABLE IF NOT EXISTS `\"\"\"+schema+\"\"\"`.`relationship` (\n",
    "  `RelationshipID` INT NOT NULL,\n",
    "  `RelationshipType` VARCHAR(255) NULL DEFAULT NULL,\n",
    "  `RelationshipTypeUniversalDescription` VARCHAR(4095) NULL DEFAULT NULL,\n",
    "  PRIMARY KEY (`RelationshipID`))\n",
    "ENGINE = InnoDB\n",
    "DEFAULT CHARACTER SET = utf8mb4;\"\"\"\n"
   ]
  },
  {
   "cell_type": "code",
   "execution_count": 30,
   "metadata": {},
   "outputs": [
    {
     "name": "stdout",
     "output_type": "stream",
     "text": [
      "no existing table\n",
      "Table 'relationship' initiated.\n"
     ]
    }
   ],
   "source": [
    "## -----------------------------------------------------\n",
    "## #Execute initiate relationship as new table\n",
    "## -----------------------------------------------------\n",
    "try:\n",
    "    cursor.execute(dropRelationshipStatement)\n",
    "except:\n",
    "    print(\"no existing table\")\n",
    "try:\n",
    "    cursor.execute(createRelationshipStatement)\n",
    "    print(\"Table 'relationship' initiated.\")\n",
    "except:\n",
    "    print(\"Error initiating table 'relationship'.\")\n"
   ]
  },
  {
   "cell_type": "code",
   "execution_count": 31,
   "metadata": {},
   "outputs": [
    {
     "name": "stdout",
     "output_type": "stream",
     "text": [
      "no existing table\n",
      "Created sceneaddresseselementrelationship table successfully.\n"
     ]
    }
   ],
   "source": [
    "dropSceneAddressesElementRelationshipStatement = \"\"\"DROP TABLE IF EXISTS `\"\"\"+schema+\"\"\"`.`sceneaddresseselementrelationship`;\"\"\"\n",
    "\n",
    "createSceneAddressesElementRelationshipStatement = \"\"\"CREATE TABLE IF NOT EXISTS `\"\"\"+schema+\"\"\"`.`sceneaddresseselementrelationship` (\n",
    "  `sceneAddressesElementRelationshipID` INT NOT NULL AUTO_INCREMENT,\n",
    "  `ElementHasRelationshipToElementID` INT NOT NULL,\n",
    "  `sceneAddressesElementRelationshipDescription` VARCHAR(4095) DEFAULT NULL,\n",
    "  `sceneIncludesElementID` INT NOT NULL,\n",
    "  `sceneElementAddressingRelationshipID` INT NULL,\n",
    "  `RelationshipID` INT NULL,\n",
    "  PRIMARY KEY (`sceneAddressesElementRelationshipID`),\n",
    "  KEY `fk_scene_Addresses_Element_Relationship_scene_Includes_Objec_idx` (`sceneIncludesElementID`),\n",
    "  KEY `fk_sceneaddresseselementrelationship_ehasrelationshipto_idx` (`ElementHasRelationshipToElementID`),\n",
    "  KEY `fk_sceneaddresseselementrelationship_relationship_idx` (`RelationshipID`),\n",
    "  CONSTRAINT `fk_scene_Addresses_Element_Relationship_scene_Includes_Element1a` FOREIGN KEY (`sceneIncludesElementID`) REFERENCES `sceneincludeselement` (`sceneIncludesElementID`),\n",
    "  CONSTRAINT `fk_sceneaddresseselementrelationship_elementhasrelationshipb1` FOREIGN KEY (`sceneIncludesElementID`) REFERENCES `elementhasrelationshiptoelement` (`ElementHasRelationshipToElementID`),\n",
    "  CONSTRAINT `fk_sceneaddresseselementrelationship_elementhasrelationshipb2` FOREIGN KEY (`sceneElementAddressingRelationshipID`) REFERENCES `element` (`ElementID`),\n",
    "  CONSTRAINT `fk_sceneaddresseselementrelationship_relationship` FOREIGN KEY (`RelationshipID`) REFERENCES `relationship` (`RelationshipID`)\n",
    ") ENGINE=InnoDB DEFAULT CHARSET=utf8mb4;\"\"\"\n",
    "\n",
    "try:\n",
    "    cursor.execute(dropSceneAddressesElementRelationshipStatement)\n",
    "except:\n",
    "    print(\"no existing table\")\n",
    "try:\n",
    "    cursor.execute(createSceneAddressesElementRelationshipStatement)\n",
    "    print(\"Created sceneaddresseselementrelationship table successfully.\")\n",
    "except connector.Error as error:\n",
    "    print(f\"Error creating sceneaddresseselementrelationship table: {error}\")\n",
    "\n"
   ]
  },
  {
   "cell_type": "code",
   "execution_count": 32,
   "metadata": {},
   "outputs": [
    {
     "name": "stdout",
     "output_type": "stream",
     "text": [
      "Table 'sceneaddresseselementrelationship' initiated.\n"
     ]
    }
   ],
   "source": [
    "## -----------------------------------------------------\n",
    "## #Execute initiate sceneaddresseselementrelationship as new table\n",
    "## -----------------------------------------------------\n",
    "try:\n",
    "    cursor.execute(dropSceneAddressesElementRelationshipStatement)\n",
    "except:\n",
    "    print(\"no existing table\")\n",
    "try:\n",
    "    cursor.execute(createSceneAddressesElementRelationshipStatement)\n",
    "    print(\"Table 'sceneaddresseselementrelationship' initiated.\")\n",
    "except:\n",
    "    print(\"Error initiating table 'sceneaddresseselementrelationship'.\")\n",
    "\n",
    "\n",
    "\n"
   ]
  },
  {
   "cell_type": "code",
   "execution_count": 33,
   "metadata": {},
   "outputs": [],
   "source": [
    "## -----------------------------------------------------\n",
    "## Table elementhasrelationshiptoelement\n",
    "## -----------------------------------------------------\n",
    "dropElementHasRelationshipToElementStatement = \"\"\"DROP TABLE IF EXISTS `\"\"\"+schema+\"\"\"`.`elementhasrelationshiptoelement` ;\"\"\"\n",
    "\n",
    "createElementHasRelationshipToElementStatement = \"\"\"CREATE TABLE IF NOT EXISTS `\"\"\"+schema+\"\"\"`.`elementhasrelationshiptoelement` (\n",
    "  `ElementHasRelationshipToElementID` INT NOT NULL,\n",
    "  `Element1ID` INT NOT NULL,\n",
    "  `RelationshipID` INT NOT NULL,\n",
    "  `Element2ID` INT NOT NULL,\n",
    "  `Explanation` VARCHAR(255) NULL DEFAULT NULL,\n",
    "  `RelationshipDurationID` INT NULL,\n",
    "  `RelationshipPriorityID` DECIMAL(4,2) NULL DEFAULT NULL,\n",
    "  `Element2InheritsTraitsFromElement1` INT NULL DEFAULT NULL,\n",
    "  PRIMARY KEY (`ElementHasRelationshipToElementID`),\n",
    "  INDEX `fk_Scene_Establishes_El_Relationship_To_El_El1_idx` (`Element1ID` ASC) VISIBLE,\n",
    "  INDEX `fk_Scene_Establishes_El_Relationship_To_El_Relation_idx` (`RelationshipID` ASC) VISIBLE,\n",
    "  INDEX `fk_Scene_Establishes_El_Relationship_To_El_El2_idx` (`Element2ID` ASC) VISIBLE,\n",
    "  INDEX `fk_Element1_Has_Relationship_To_Element2_Duration1_idx` (`RelationshipDurationID` ASC) VISIBLE,\n",
    "  CONSTRAINT `fk_Scene_Establishes_Element_Relationship_To_Element_Element1b`\n",
    "    FOREIGN KEY (`Element1ID`)\n",
    "    REFERENCES `\"\"\"+schema+\"\"\"`.`element` (`ElementID`),\n",
    "  CONSTRAINT `fk_Scene_Establishes_Element_Relationship_To_Element_Element2b`\n",
    "    FOREIGN KEY (`Element2ID`)\n",
    "    REFERENCES `\"\"\"+schema+\"\"\"`.`element` (`ElementID`),\n",
    "  CONSTRAINT `fk_Scene_Establishes_Element_Relationship_To_Element_Rel1b`\n",
    "    FOREIGN KEY (`RelationshipID`)\n",
    "    REFERENCES `\"\"\"+schema+\"\"\"`.`relationship` (`RelationshipID`),\n",
    "  CONSTRAINT `fk_Element_Has_Relationship_To_Element_Duration1b`\n",
    "    FOREIGN KEY (`RelationshipDurationID`)\n",
    "    REFERENCES `\"\"\"+schema+\"\"\"`.`relationshipduration` (`RelationshipDurationID`))\n",
    "ENGINE = InnoDB\n",
    "DEFAULT CHARACTER SET = utf8mb4;\"\"\"\n"
   ]
  },
  {
   "cell_type": "code",
   "execution_count": 34,
   "metadata": {},
   "outputs": [
    {
     "name": "stdout",
     "output_type": "stream",
     "text": [
      "no existing table\n",
      "Table 'elementhasrelationshiptoelement' initiated.\n"
     ]
    }
   ],
   "source": [
    "## -----------------------------------------------------\n",
    "## #Execute initiate elementhasrelationshiptoelement as new table\n",
    "## -----------------------------------------------------\n",
    "try:\n",
    "    cursor.execute(dropElementHasRelationshipToElementStatement)\n",
    "except:\n",
    "    print(\"no existing table\")\n",
    "try:\n",
    "    cursor.execute(createElementHasRelationshipToElementStatement)\n",
    "    print(\"Table 'elementhasrelationshiptoelement' initiated.\")\n",
    "except connector.Error as error:\n",
    "    print(f\"Error creating'elementhasrelationshiptoelement': {error}\")"
   ]
  },
  {
   "cell_type": "code",
   "execution_count": 35,
   "metadata": {},
   "outputs": [],
   "source": [
    "## -----------------------------------------------------\n",
    "## Table elementname\n",
    "## -----------------------------------------------------\n",
    "dropElementNameStatement = \"\"\"DROP TABLE IF EXISTS `\"\"\"+schema+\"\"\"`.`elementname` ;\"\"\"\n",
    "\n",
    "createElementNameStatement = \"\"\"CREATE TABLE IF NOT EXISTS `{}`.`elementname` (\n",
    "  `ElementNameID` INT NOT NULL AUTO_INCREMENT,\n",
    "  `ElementName` VARCHAR(255) NULL DEFAULT NULL,\n",
    "  `NameType` VARCHAR(255) NULL DEFAULT NULL,\n",
    "  `NamePriority` VARCHAR(255) NULL DEFAULT NULL,\n",
    "  PRIMARY KEY (`ElementNameID`))\n",
    "ENGINE = InnoDB\n",
    "DEFAULT CHARACTER SET = utf8mb4;\"\"\".format(schema)\n"
   ]
  },
  {
   "cell_type": "code",
   "execution_count": 36,
   "metadata": {},
   "outputs": [
    {
     "name": "stdout",
     "output_type": "stream",
     "text": [
      "no existing table\n",
      "Table 'elementname' initiated.\n"
     ]
    }
   ],
   "source": [
    "## -----------------------------------------------------\n",
    "## #Execute initiate elementname as new table\n",
    "## -----------------------------------------------------\n",
    "try:\n",
    "    cursor.execute(dropElementNameStatement)\n",
    "except:\n",
    "    print(\"no existing table\")\n",
    "try:\n",
    "    cursor.execute(createElementNameStatement)\n",
    "    print(\"Table 'elementname' initiated.\")\n",
    "except:\n",
    "    print(\"Error initiating table 'elementname'.\")"
   ]
  },
  {
   "cell_type": "code",
   "execution_count": 37,
   "metadata": {},
   "outputs": [],
   "source": [
    "## -----------------------------------------------------\n",
    "## Table elementhaselementname\n",
    "## -----------------------------------------------------\n",
    "dropElementHasElementNameStatement = \"\"\"DROP TABLE IF EXISTS `{}`.`elementhaselementname` ;\"\"\".format(schema)\n",
    "\n",
    "createElementHasElementNameStatement = \"\"\"CREATE TABLE IF NOT EXISTS `{}`.`elementhaselementname` (\n",
    "  `ElementHasNameID` INT NOT NULL AUTO_INCREMENT,\n",
    "  `ElementID` INT NOT NULL,\n",
    "  `ElementNameID` INT NOT NULL,\n",
    "  PRIMARY KEY (`ElementHasNameID`),\n",
    "  INDEX `fk_Element_Has_Name_Element1_idx` (`ElementID` ASC) VISIBLE,\n",
    "  INDEX `fk_Element_Has_ElementName_ElementName1_idx` (`ElementNameID` ASC) VISIBLE,\n",
    "  CONSTRAINT `fk_Element_Has_Name_Element1a`\n",
    "    FOREIGN KEY (`ElementID`)\n",
    "    REFERENCES `{}`.`element` (`ElementID`),\n",
    "  CONSTRAINT `fk_Element_Has_ElementName_ElementName1a`\n",
    "    FOREIGN KEY (`ElementNameID`)\n",
    "    REFERENCES `{}`.`elementname` (`ElementNameID`)\n",
    "    ON DELETE CASCADE\n",
    "    ON UPDATE CASCADE)\n",
    "ENGINE = InnoDB\n",
    "DEFAULT CHARACTER SET = utf8mb4;\"\"\".format(schema, schema, schema)\n"
   ]
  },
  {
   "cell_type": "code",
   "execution_count": 38,
   "metadata": {},
   "outputs": [
    {
     "name": "stdout",
     "output_type": "stream",
     "text": [
      "no existing table\n",
      "Table 'elementhaselementname' initiated.\n"
     ]
    }
   ],
   "source": [
    "## -----------------------------------------------------\n",
    "## #Execute initiate elementname as new table\n",
    "## -----------------------------------------------------\n",
    "try:\n",
    "    cursor.execute(dropElementHasElementNameStatement)\n",
    "except:\n",
    "    print(\"no existing table\")\n",
    "try:\n",
    "    cursor.execute(createElementHasElementNameStatement)\n",
    "    print(\"Table 'elementhaselementname' initiated.\")\n",
    "except:\n",
    "    print(\"Error initiating table 'elementhaselementname'.\")"
   ]
  },
  {
   "cell_type": "code",
   "execution_count": 39,
   "metadata": {},
   "outputs": [
    {
     "name": "stdout",
     "output_type": "stream",
     "text": [
      "Table 'elementhasrelationshiptoelement' initiated.\n"
     ]
    }
   ],
   "source": [
    "## -----------------------------------------------------\n",
    "## #Execute initiate elementhasrelationshiptoelement as new table\n",
    "## -----------------------------------------------------\n",
    "try:\n",
    "    cursor.execute(dropElementHasRelationshipToElementStatement)\n",
    "except:\n",
    "    print(\"no existing table\")\n",
    "try:\n",
    "    cursor.execute(createElementHasRelationshipToElementStatement)\n",
    "    print(\"Table 'elementhasrelationshiptoelement' initiated.\")\n",
    "except:\n",
    "    print(\"Error initiating table 'elementhasrelationshiptoelement'.\")"
   ]
  },
  {
   "cell_type": "code",
   "execution_count": 40,
   "metadata": {},
   "outputs": [],
   "source": [
    "## -----------------------------------------------------\n",
    "## Table scenehasexampleofelementname\n",
    "## -----------------------------------------------------\n",
    "dropSceneHasExampleOfElementNameStatement = \"\"\"DROP TABLE IF EXISTS `\"\"\"+schema+\"\"\"`.`scenehasexampleofelementname` ;\"\"\"\n",
    "\n",
    "createSceneHasExampleOfElementNameStatement = \"\"\"CREATE TABLE IF NOT EXISTS `\"\"\"+schema+\"\"\"`.`scenehasexampleofelementname` (\n",
    "  `SceneHasExampleOfElementNameID` INT NOT NULL AUTO_INCREMENT,\n",
    "  `ElementHasNameID` INT NOT NULL,\n",
    "  `EvidenceDescription` VARCHAR(4095) NULL DEFAULT NULL,\n",
    "  `SceneIncludesElementID` INT NOT NULL,\n",
    "  PRIMARY KEY (`SceneHasExampleOfElementNameID`),\n",
    "  INDEX `fk_Scene_Has_Example_Of_ElementName_Element_Has_ElementName1_idx` (`ElementHasNameID` ASC) VISIBLE,\n",
    "  INDEX `fk_Scene_Has_Example_Of_ElementName_Scene_Includes_Element1_idx` (`SceneIncludesElementID` ASC) VISIBLE,\n",
    "  CONSTRAINT `fk_Scene_Has_Example_Of_ElementName_Scene_Includes_Element1a`\n",
    "    FOREIGN KEY (`SceneIncludesElementID`)\n",
    "    REFERENCES `\"\"\"+schema+\"\"\"`.`sceneincludeselement` (`SceneIncludesElementID`),\n",
    "  CONSTRAINT `fk_Scene_Has_Example_Of_ElementName_Element_Has_ElementName1a`\n",
    "    FOREIGN KEY (`ElementHasNameID`)\n",
    "    REFERENCES `\"\"\"+schema+\"\"\"`.`elementhaselementname` (`ElementHasNameID`))\n",
    "ENGINE = InnoDB\n",
    "DEFAULT CHARACTER SET = utf8mb4;\"\"\""
   ]
  },
  {
   "cell_type": "code",
   "execution_count": 41,
   "metadata": {},
   "outputs": [
    {
     "name": "stdout",
     "output_type": "stream",
     "text": [
      "no existing table\n",
      "Table 'scenehasexampleofelementname' initiated.\n"
     ]
    }
   ],
   "source": [
    "## -----------------------------------------------------\n",
    "## #Execute initiate scenehasexampleofelementname as new table\n",
    "## -----------------------------------------------------\n",
    "try:\n",
    "    cursor.execute(dropSceneHasExampleOfElementNameStatement)\n",
    "except:\n",
    "    print(\"no existing table\")\n",
    "try:\n",
    "    cursor.execute(createSceneHasExampleOfElementNameStatement)\n",
    "    print(\"Table 'scenehasexampleofelementname' initiated.\")\n",
    "except:\n",
    "    print(\"Error initiating table 'scenehasexampleofelementname'.\")"
   ]
  },
  {
   "cell_type": "code",
   "execution_count": 42,
   "metadata": {},
   "outputs": [],
   "source": [
    "## -----------------------------------------------------\n",
    "## Table wish\n",
    "## -----------------------------------------------------\n",
    "dropWishStatement = \"\"\"DROP TABLE IF EXISTS `\"\"\"+schema+\"\"\"`.`wish` ;\"\"\"\n",
    "\n",
    "createWishStatement = \"\"\"CREATE TABLE IF NOT EXISTS `\"\"\"+schema+\"\"\"`.`wish` (\n",
    "  `WishID` INT NOT NULL AUTO_INCREMENT,\n",
    "  `WishQuote` VARCHAR(4095) NULL DEFAULT NULL,\n",
    "  `Description` VARCHAR(4095) NULL DEFAULT NULL,\n",
    "  `CurrentStatusDescription` VARCHAR(4095) NULL DEFAULT NULL,\n",
    "  PRIMARY KEY (`WishID`))\n",
    "ENGINE = InnoDB\n",
    "DEFAULT CHARACTER SET = utf8mb4;\"\"\""
   ]
  },
  {
   "cell_type": "code",
   "execution_count": 43,
   "metadata": {},
   "outputs": [
    {
     "name": "stdout",
     "output_type": "stream",
     "text": [
      "no existing table\n",
      "Table 'wish' initiated.\n"
     ]
    }
   ],
   "source": [
    "## -----------------------------------------------------\n",
    "## #Execute initiate wish as new table\n",
    "## -----------------------------------------------------\n",
    "try:\n",
    "    cursor.execute(dropWishStatement)\n",
    "except:\n",
    "    print(\"no existing table\")\n",
    "try:\n",
    "    cursor.execute(createWishStatement)\n",
    "    print(\"Table 'wish' initiated.\")\n",
    "except:\n",
    "    print(\"Error initiating table 'wish'.\")"
   ]
  },
  {
   "cell_type": "code",
   "execution_count": 44,
   "metadata": {},
   "outputs": [],
   "source": [
    "## -----------------------------------------------------\n",
    "## Table sceneincludeselementhaswish\n",
    "## -----------------------------------------------------\n",
    "\n",
    "dropSceneIncludesElementHasWishStatement = \"\"\"DROP TABLE IF EXISTS `\"\"\"+schema+\"\"\"`.`sceneincludeselementhaswish` ;\"\"\"\n",
    "\n",
    "createSceneIncludesElementHasWishStatement = \"\"\"CREATE TABLE IF NOT EXISTS `\"\"\"+schema+\"\"\"`.`sceneincludeselementhaswish` (\n",
    "  `SceneHasWishID` INT NOT NULL AUTO_INCREMENT,\n",
    "  `WishID` INT NOT NULL,\n",
    "  `WishGrantDeny` VARCHAR(5) NULL DEFAULT NULL,\n",
    "  `SceneIncludesElementID` INT NOT NULL,\n",
    "  `SceneIncludesElementHasWishDescription` VARCHAR(4095) NULL,\n",
    "  PRIMARY KEY (`SceneHasWishID`),\n",
    "  INDEX `fk_Scene_Has_Wish_Wish1_idx` (`WishID` ASC) VISIBLE,\n",
    "  INDEX `fk_Scene_Has_Wish_Scene_Includes_Element1_idx` (`SceneIncludesElementID` ASC) VISIBLE,\n",
    "  CONSTRAINT `fk_Scene_Has_Wish_Scene_Includes_Element1`\n",
    "    FOREIGN KEY (`SceneIncludesElementID`)\n",
    "    REFERENCES `\"\"\"+schema+\"\"\"`.`sceneincludeselement` (`SceneIncludesElementID`),\n",
    "  CONSTRAINT `fk_Scene_Has_Wish_Wish1`\n",
    "    FOREIGN KEY (`WishID`)\n",
    "    REFERENCES `\"\"\"+schema+\"\"\"`.`wish` (`WishID`))\n",
    "ENGINE = InnoDB\n",
    "DEFAULT CHARACTER SET = utf8mb4;\"\"\""
   ]
  },
  {
   "cell_type": "code",
   "execution_count": 45,
   "metadata": {},
   "outputs": [
    {
     "name": "stdout",
     "output_type": "stream",
     "text": [
      "no existing table\n",
      "Table 'sceneincludeselementhaswish' initiated.\n"
     ]
    }
   ],
   "source": [
    "## -----------------------------------------------------\n",
    "## #Execute initiate sceneincludeselementhaswish as new table\n",
    "## -----------------------------------------------------\n",
    "try:\n",
    "    cursor.execute(dropSceneIncludesElementHasWishStatement)\n",
    "except:\n",
    "    print(\"no existing table\")\n",
    "try:\n",
    "    cursor.execute(createSceneIncludesElementHasWishStatement)\n",
    "    print(\"Table 'sceneincludeselementhaswish' initiated.\")\n",
    "except:\n",
    "    print(\"Error initiating table 'sceneincludeselementhaswish'.\")"
   ]
  },
  {
   "cell_type": "code",
   "execution_count": 46,
   "metadata": {},
   "outputs": [],
   "source": [
    "## -----------------------------------------------------\n",
    "## procedures list\n",
    "## -----------------------------------------------------\n",
    "procedures = []"
   ]
  },
  {
   "cell_type": "code",
   "execution_count": 47,
   "metadata": {},
   "outputs": [],
   "source": [
    "SetSchemaForUse = \"\"\"USE `\"\"\"+schema+\"\"\"`;\"\"\"\n"
   ]
  },
  {
   "cell_type": "code",
   "execution_count": 48,
   "metadata": {},
   "outputs": [
    {
     "name": "stdout",
     "output_type": "stream",
     "text": [
      "Error dropping AddEndTraitDuration procedure: 1305: PROCEDURE testdisenchantment.AddEndTraitDuration does not exist\n",
      "Created AddEndTraitDuration procedure successfully.\n"
     ]
    }
   ],
   "source": [
    "## -----------------------------------------------------\n",
    "## procedure AddEndTraitDuration\n",
    "## -----------------------------------------------------\n",
    "# Drop procedure if it exists\n",
    "DropAddEndTraitDurationQuery = \"DROP PROCEDURE IF EXISTS `\" + schema + \"`.`AddEndTraitDuration`\"\n",
    "try:\n",
    "    cursor.execute(DropAddEndTraitDurationQuery)\n",
    "    print(\"Dropped AddEndTraitDuration procedure successfully.\")\n",
    "except connector.Error as error:\n",
    "    print(f\"Error dropping AddEndTraitDuration procedure: {error}\")\n",
    "\n",
    "# Create the AddEndTraitDuration procedure\n",
    "CreateAddEndTraitDurationQuery = f\"\"\"\n",
    "CREATE PROCEDURE `{schema}`.`AddEndTraitDuration`(\n",
    "    IN NewEndSceneDescription VARCHAR(4095),\n",
    "    IN NewEndSceneIncludesElementID INT\n",
    ")\n",
    "BEGIN\n",
    "    UPDATE traitduration\n",
    "    SET EndSceneDescription = IFNULL(NewEndSceneDescription, EndSceneDescription),\n",
    "        EndSceneIncludesElementID = IFNULL(NewEndSceneIncludesElementID, EndSceneIncludesElementID);\n",
    "END\n",
    "\"\"\"\n",
    "try:\n",
    "    cursor.execute(CreateAddEndTraitDurationQuery)\n",
    "    print(\"Created AddEndTraitDuration procedure successfully.\")\n",
    "except connector.Error as error:\n",
    "    print(f\"Error creating AddEndTraitDuration procedure: {error}\")"
   ]
  },
  {
   "cell_type": "code",
   "execution_count": 49,
   "metadata": {},
   "outputs": [
    {
     "name": "stdout",
     "output_type": "stream",
     "text": [
      "Error dropping AddEndRelationshipDuration procedure: 1305: PROCEDURE testdisenchantment.AddEndRelationshipDuration does not exist\n",
      "Created AddEndRelationshipDuration procedure successfully.\n"
     ]
    }
   ],
   "source": [
    "## -----------------------------------------------------\n",
    "## procedure AddEndRelationshipDuration\n",
    "## -----------------------------------------------------\n",
    "# Drop procedure if it exists\n",
    "DropAddEndRelationshipDurationQuery = \"DROP PROCEDURE IF EXISTS `\" + schema + \"`.`AddEndRelationshipDuration`\"\n",
    "try:\n",
    "    cursor.execute(DropAddEndRelationshipDurationQuery)\n",
    "    print(\"Dropped AddEndRelationshipDuration procedure successfully.\")\n",
    "except connector.Error as error:\n",
    "    print(f\"Error dropping AddEndRelationshipDuration procedure: {error}\")\n",
    "\n",
    "# Create the AddEndRelationshipDuration procedure\n",
    "CreateAddEndRelationshipDurationQuery = f\"\"\"\n",
    "CREATE PROCEDURE `{schema}`.`AddEndRelationshipDuration`(\n",
    "    IN NewEndSceneDescription VARCHAR(4095),\n",
    "    IN NewEndSceneIncludesElementID INT\n",
    ")\n",
    "BEGIN\n",
    "    UPDATE relationshipduration\n",
    "    SET EndSceneDescription = IFNULL(NewEndSceneDescription, EndSceneDescription),\n",
    "        EndSceneIncludesElementID = IFNULL(NewEndSceneIncludesElementID, EndSceneIncludesElementID);\n",
    "END\n",
    "\"\"\"\n",
    "try:\n",
    "    cursor.execute(CreateAddEndRelationshipDurationQuery)\n",
    "    print(\"Created AddEndRelationshipDuration procedure successfully.\")\n",
    "except connector.Error as error:\n",
    "    print(f\"Error creating AddEndRelationshipDuration procedure: {error}\")"
   ]
  },
  {
   "cell_type": "code",
   "execution_count": 50,
   "metadata": {},
   "outputs": [
    {
     "name": "stdout",
     "output_type": "stream",
     "text": [
      "Error dropping AddEpisode procedure: 1305: PROCEDURE testdisenchantment.AddEpisode does not exist\n",
      "Created AddEpisode procedure successfully.\n"
     ]
    }
   ],
   "source": [
    "\n",
    "## -----------------------------------------------------\n",
    "## procedure AddEpisode\n",
    "## -----------------------------------------------------\n",
    "\n",
    "# Drop procedure if it exists\n",
    "# Drop procedure if it exists\n",
    "DropAddEpisodeQuery = f\"DROP PROCEDURE IF EXISTS `{schema}`.`AddEpisode`\"\n",
    "try:\n",
    "    cursor.execute(DropAddEpisodeQuery)\n",
    "    print(\"Dropped AddEpisode procedure successfully.\")\n",
    "except connector.Error as error:\n",
    "    print(f\"Error dropping AddEpisode procedure: {error}\")\n",
    "\n",
    "# Create the AddEpisode procedure\n",
    "CreateAddEpisodeQuery = f\"\"\"\n",
    "CREATE PROCEDURE `{schema}`.`AddEpisode`(\n",
    "    IN NewPart INT,\n",
    "    IN NewEpisode INT,\n",
    "    IN NewName VARCHAR(255),\n",
    "    IN NewSynopsis VARCHAR(4095)\n",
    ")\n",
    "BEGIN\n",
    "    INSERT INTO episode (Part, Episode, Name, Synopsis)\n",
    "    VALUES (NewPart, NewEpisode, NewName, NewSynopsis);\n",
    "END\n",
    "\"\"\"\n",
    "try:\n",
    "    cursor.execute(CreateAddEpisodeQuery)\n",
    "    print(\"Created AddEpisode procedure successfully.\")\n",
    "except connector.Error as error:\n",
    "    print(f\"Error creating AddEpisode procedure: {error}\")"
   ]
  },
  {
   "cell_type": "code",
   "execution_count": 51,
   "metadata": {},
   "outputs": [
    {
     "name": "stdout",
     "output_type": "stream",
     "text": [
      "Error dropping AddScene procedure: 1305: PROCEDURE testdisenchantment.AddScene does not exist\n",
      "Created AddScene procedure successfully.\n"
     ]
    }
   ],
   "source": [
    "\n",
    "## -----------------------------------------------------\n",
    "## procedure AddScene\n",
    "## -----------------------------------------------------\n",
    "# Drop procedure if it exists\n",
    "DropAddSceneQuery = f\"DROP PROCEDURE IF EXISTS `{schema}`.`AddScene`\"\n",
    "try:\n",
    "    cursor.execute(DropAddSceneQuery)\n",
    "    print(\"Dropped AddScene procedure successfully.\")\n",
    "except connector.Error as error:\n",
    "    print(f\"Error dropping AddScene procedure: {error}\")\n",
    "\n",
    "# Create the AddScene procedure\n",
    "CreateAddSceneQuery = f\"\"\"\n",
    "CREATE PROCEDURE `{schema}`.`AddScene`(\n",
    "    IN NewSceneName VARCHAR(255),\n",
    "    IN NewEpisodeID INT,\n",
    "    IN NewSceneDescription VARCHAR(4095),\n",
    "    IN NewTimestamp DECIMAL(9, 3)\n",
    ")\n",
    "BEGIN\n",
    "    INSERT INTO scene (SceneName, EpisodeID, SceneDescription, Timestamp)\n",
    "    VALUES (NewSceneName, NewEpisodeID, NewSceneDescription, NewTimestamp);\n",
    "END\n",
    "\"\"\"\n",
    "try:\n",
    "    cursor.execute(CreateAddSceneQuery)\n",
    "    print(\"Created AddScene procedure successfully.\")\n",
    "except connector.Error as error:\n",
    "    print(f\"Error creating AddScene procedure: {error}\")"
   ]
  },
  {
   "cell_type": "code",
   "execution_count": 52,
   "metadata": {},
   "outputs": [
    {
     "name": "stdout",
     "output_type": "stream",
     "text": [
      "Error dropping AddSceneAddressesElementHasTrait procedure: 1305: PROCEDURE testdisenchantment.AddSceneAddressesElementHasTrait does not exist\n",
      "Created AddSceneAddressesElementHasTrait procedure successfully.\n"
     ]
    }
   ],
   "source": [
    "\n",
    "## -----------------------------------------------------\n",
    "## procedure AddSceneAddressesElementHasTrait\n",
    "## -----------------------------------------------------\n",
    "# Drop procedure if it exists\n",
    "DropAddSceneAddressesElementHasTraitQuery = f\"DROP PROCEDURE IF EXISTS `{schema}`.`AddSceneAddressesElementHasTrait`\"\n",
    "try:\n",
    "    cursor.execute(DropAddSceneAddressesElementHasTraitQuery)\n",
    "    print(\"Dropped AddSceneAddressesElementHasTrait procedure successfully.\")\n",
    "except connector.Error as error:\n",
    "    print(f\"Error dropping AddSceneAddressesElementHasTrait procedure: {error}\")\n",
    "\n",
    "# Create the AddSceneAddressesElementHasTrait procedure\n",
    "CreateAddSceneAddressesElementHasTraitQuery = f\"\"\"\n",
    "CREATE PROCEDURE `{schema}`.`AddSceneAddressesElementHasTrait`(\n",
    "    IN NewElementHasTraitID INT,\n",
    "    IN NewSceneAddressesElementHasTraitDescription VARCHAR(4095),\n",
    "    IN NewSceneIncludesElementID INT\n",
    ")\n",
    "BEGIN\n",
    "    INSERT INTO `{schema}`.`sceneaddresseselementhastrait` (ElementHasTraitID, SceneAddressesElementHasTraitDescription, SceneIncludesElementID)\n",
    "    VALUES (NewElementHasTraitID, NewSceneAddressesElementHasTraitDescription, NewSceneIncludesElementID);\n",
    "END\n",
    "\"\"\"\n",
    "try:\n",
    "    cursor.execute(CreateAddSceneAddressesElementHasTraitQuery)\n",
    "    print(\"Created AddSceneAddressesElementHasTrait procedure successfully.\")\n",
    "except connector.Error as error:\n",
    "    print(f\"Error creating AddSceneAddressesElementHasTrait procedure: {error}\")\n"
   ]
  },
  {
   "cell_type": "code",
   "execution_count": 53,
   "metadata": {},
   "outputs": [
    {
     "name": "stdout",
     "output_type": "stream",
     "text": [
      "Error dropping AddSceneAddressesElementRelationship procedure: 1305: PROCEDURE testdisenchantment.AddSceneAddressesElementRelationship does not exist\n",
      "Created AddSceneAddressesElementRelationship procedure successfully.\n"
     ]
    }
   ],
   "source": [
    "## -----------------------------------------------------\n",
    "## procedure AddSceneAddressesElementRelationship\n",
    "## -----------------------------------------------------\n",
    "# Drop procedure if it exists\n",
    "DropAddSceneAddressesElementRelationshipQuery = f\"DROP PROCEDURE IF EXISTS `{schema}`.`AddSceneAddressesElementRelationship`\"\n",
    "try:\n",
    "    cursor.execute(DropAddSceneAddressesElementRelationshipQuery)\n",
    "    print(\"Dropped AddSceneAddressesElementRelationship procedure successfully.\")\n",
    "except connector.Error as error:\n",
    "    print(f\"Error dropping AddSceneAddressesElementRelationship procedure: {error}\")\n",
    "\n",
    "# Create the AddSceneAddressesElementRelationship procedure\n",
    "CreateAddSceneAddressesElementRelationshipQuery = f\"\"\"\n",
    "CREATE PROCEDURE `{schema}`.`AddSceneAddressesElementRelationship`(\n",
    "    IN NewElementHasRelationshipToElementID INT,\n",
    "    IN NewSceneAddressesElementRelationshipDescription VARCHAR(4095),\n",
    "    IN NewSceneIncludesElementID INT\n",
    ")\n",
    "BEGIN\n",
    "    INSERT INTO `{schema}`.`sceneaddresseselementrelationship` (ElementHasRelationshipToElementID, SceneAddressesElementRelationshipDescription, SceneIncludesElementID)\n",
    "    VALUES (NewElementHasRelationshipToElementID, NewSceneAddressesElementRelationshipDescription, NewSceneIncludesElementID);\n",
    "END\n",
    "\"\"\"\n",
    "try:\n",
    "    cursor.execute(CreateAddSceneAddressesElementRelationshipQuery)\n",
    "    print(\"Created AddSceneAddressesElementRelationship procedure successfully.\")\n",
    "except connector.Error as error:\n",
    "    print(f\"Error creating AddSceneAddressesElementRelationship procedure: {error}\")\n"
   ]
  },
  {
   "cell_type": "code",
   "execution_count": 54,
   "metadata": {},
   "outputs": [
    {
     "name": "stdout",
     "output_type": "stream",
     "text": [
      "Error dropping AddSceneHasExampleOfElementName procedure: 1305: PROCEDURE testdisenchantment.AddSceneHasExampleOfElementName does not exist\n",
      "Created AddSceneHasExampleOfElementName procedure successfully.\n"
     ]
    }
   ],
   "source": [
    "## -----------------------------------------------------\n",
    "## procedure AddSceneHasExampleOfElementName\n",
    "## -----------------------------------------------------\n",
    "# Drop procedure if it exists\n",
    "DropAddSceneHasExampleOfElementNameQuery = f\"DROP PROCEDURE IF EXISTS `{schema}`.`AddSceneHasExampleOfElementName`\"\n",
    "try:\n",
    "    cursor.execute(DropAddSceneHasExampleOfElementNameQuery)\n",
    "    print(\"Dropped AddSceneHasExampleOfElementName procedure successfully.\")\n",
    "except connector.Error as error:\n",
    "    print(f\"Error dropping AddSceneHasExampleOfElementName procedure: {error}\")\n",
    "\n",
    "# Create the AddSceneHasExampleOfElementName procedure\n",
    "CreateAddSceneHasExampleOfElementNameQuery = f\"\"\"\n",
    "CREATE PROCEDURE `{schema}`.`AddSceneHasExampleOfElementName`(\n",
    "    IN NewElementHasNameID INT,\n",
    "    IN NewEvidenceDescription VARCHAR(4095),\n",
    "    IN NewSceneIncludesElementID INT\n",
    ")\n",
    "BEGIN\n",
    "    INSERT INTO `{schema}`.`scenehasexampleofelementname` (ElementHasNameID, EvidenceDescription, SceneIncludesElementID)\n",
    "    VALUES (NewElementHasNameID, NewEvidenceDescription, NewSceneIncludesElementID);\n",
    "END\n",
    "\"\"\"\n",
    "try:\n",
    "    cursor.execute(CreateAddSceneHasExampleOfElementNameQuery)\n",
    "    print(\"Created AddSceneHasExampleOfElementName procedure successfully.\")\n",
    "except connector.Error as error:\n",
    "    print(f\"Error creating AddSceneHasExampleOfElementName procedure: {error}\")\n"
   ]
  },
  {
   "cell_type": "code",
   "execution_count": 55,
   "metadata": {},
   "outputs": [
    {
     "name": "stdout",
     "output_type": "stream",
     "text": [
      "Error dropping AddSceneHasWish procedure: 1305: PROCEDURE testdisenchantment.AddSceneHasWish does not exist\n",
      "Created AddSceneHasWish procedure successfully.\n"
     ]
    }
   ],
   "source": [
    "## -----------------------------------------------------\n",
    "## procedure AddSceneHasWish\n",
    "## -----------------------------------------------------\n",
    "# Drop procedure if it exists\n",
    "DropAddSceneHasWishQuery = f\"DROP PROCEDURE IF EXISTS `{schema}`.`AddSceneHasWish`\"\n",
    "try:\n",
    "    cursor.execute(DropAddSceneHasWishQuery)\n",
    "    print(\"Dropped AddSceneHasWish procedure successfully.\")\n",
    "except connector.Error as error:\n",
    "    print(f\"Error dropping AddSceneHasWish procedure: {error}\")\n",
    "\n",
    "# Create the AddSceneHasWish procedure\n",
    "CreateAddSceneHasWishQuery = f\"\"\"\n",
    "CREATE PROCEDURE `{schema}`.`AddSceneHasWish`(\n",
    "    IN WishIDValue INT,\n",
    "    IN WishGrantDenyValue VARCHAR(5),\n",
    "    IN SceneIncludesElementIDValue INT\n",
    ")\n",
    "BEGIN\n",
    "    INSERT INTO `{schema}`.`sceneincludeselementhaswish` (WishID, WishGrantDeny, SceneIncludesElementID)\n",
    "    VALUES (WishIDValue, WishGrantDenyValue, SceneIncludesElementIDValue);\n",
    "END\n",
    "\"\"\"\n",
    "try:\n",
    "    cursor.execute(CreateAddSceneHasWishQuery)\n",
    "    print(\"Created AddSceneHasWish procedure successfully.\")\n",
    "except connector.Error as error:\n",
    "    print(f\"Error creating AddSceneHasWish procedure: {error}\")\n"
   ]
  },
  {
   "cell_type": "code",
   "execution_count": 56,
   "metadata": {},
   "outputs": [
    {
     "name": "stdout",
     "output_type": "stream",
     "text": [
      "Error dropping AddSceneIncludesElement procedure: 1305: PROCEDURE testdisenchantment.AddSceneIncludesElement does not exist\n",
      "Created AddSceneIncludesElement procedure successfully.\n"
     ]
    }
   ],
   "source": [
    "## -----------------------------------------------------\n",
    "## procedure AddSceneIncludesElement\n",
    "## -----------------------------------------------------\n",
    "\n",
    "# Drop procedure if it exists\n",
    "DropAddSceneIncludesElementQuery = f\"DROP PROCEDURE IF EXISTS `{schema}`.`AddSceneIncludesElement`\"\n",
    "try:\n",
    "    cursor.execute(DropAddSceneIncludesElementQuery)\n",
    "    print(\"Dropped AddSceneIncludesElement procedure successfully.\")\n",
    "except connector.Error as error:\n",
    "    print(f\"Error dropping AddSceneIncludesElement procedure: {error}\")\n",
    "\n",
    "# Create the AddSceneIncludesElement procedure\n",
    "CreateAddSceneIncludesElementQuery = f\"\"\"\n",
    "CREATE PROCEDURE `{schema}`.`AddSceneIncludesElement`(\n",
    "    IN NewSceneID INT,\n",
    "    IN NewElementID INT,\n",
    "    IN NewInclusionDescription VARCHAR(4095),\n",
    "    IN NewSequentialID DECIMAL(11,5)\n",
    ")\n",
    "BEGIN\n",
    "    INSERT INTO `{schema}`.`sceneincludeselement` (SceneID, ElementID, InclusionDescription, SequentialID)\n",
    "    VALUES (NewSceneID, NewElementID, NewInclusionDescription, NewSequentialID);\n",
    "END\n",
    "\"\"\"\n",
    "try:\n",
    "    cursor.execute(CreateAddSceneIncludesElementQuery)\n",
    "    print(\"Created AddSceneIncludesElement procedure successfully.\")\n",
    "except connector.Error as error:\n",
    "    print(f\"Error creating AddSceneIncludesElement procedure: {error}\")\n"
   ]
  },
  {
   "cell_type": "code",
   "execution_count": 57,
   "metadata": {},
   "outputs": [
    {
     "name": "stdout",
     "output_type": "stream",
     "text": [
      "Error dropping AddElement procedure: 1305: PROCEDURE testdisenchantment.AddElement does not exist\n",
      "Created AddElement procedure successfully.\n"
     ]
    }
   ],
   "source": [
    "# Drop procedure if it exists\n",
    "DropAddElementQuery = \"DROP PROCEDURE IF EXISTS `{}`.`AddElement`\".format(schema)\n",
    "try:\n",
    "    cursor.execute(DropAddElementQuery)\n",
    "    print(\"Dropped AddElement procedure successfully.\")\n",
    "except connector.Error as error:\n",
    "    print(\"Error dropping AddElement procedure: {}\".format(error))\n",
    "\n",
    "# Create the AddElement procedure\n",
    "CreateAddElementQuery = \"\"\"\n",
    "    CREATE PROCEDURE `{}`.`AddElement`(\n",
    "        IN NewElementType VARCHAR(45),\n",
    "        IN NewElementReferenceName VARCHAR(255),\n",
    "        IN NewElementDescription VARCHAR(4095)\n",
    "    )\n",
    "    BEGIN\n",
    "        INSERT INTO `{}`.`element` (ElementType, ElementReferenceName, ElementDescription)\n",
    "        VALUES (NewElementType, NewElementReferenceName, NewElementDescription);\n",
    "    END\n",
    "    \"\"\".format(schema, schema)\n",
    "try:\n",
    "    cursor.execute(CreateAddElementQuery)\n",
    "    print(\"Created AddElement procedure successfully.\")\n",
    "except connector.Error as error:\n",
    "    print(\"Error creating AddElement procedure: {}\".format(error))\n",
    "\n"
   ]
  },
  {
   "cell_type": "code",
   "execution_count": 58,
   "metadata": {},
   "outputs": [
    {
     "name": "stdout",
     "output_type": "stream",
     "text": [
      "Error dropping AddElementHasElementName procedure: 1305: PROCEDURE testdisenchantment.AddElementHasElementName does not exist\n",
      "Created AddElementHasElementName procedure successfully.\n"
     ]
    }
   ],
   "source": [
    "## -----------------------------------------------------\n",
    "## procedure AddElementHasElementName\n",
    "## ----------------------------------------------------\n",
    "# Drop procedure if it exists\n",
    "DropAddElementHasElementNameQuery = \"DROP PROCEDURE IF EXISTS `{}`.`AddElementHasElementName`\".format(schema)\n",
    "try:\n",
    "    cursor.execute(DropAddElementHasElementNameQuery)\n",
    "    print(\"Dropped AddElementHasElementName procedure successfully.\")\n",
    "except connector.Error as error:\n",
    "    print(\"Error dropping AddElementHasElementName procedure: {}\".format(error))\n",
    "\n",
    "# Create the AddElementHasElementName procedure\n",
    "CreateAddElementHasElementNameQuery = \"\"\"\n",
    "CREATE PROCEDURE `{}`.`AddElementHasElementName`(\n",
    "    IN NewElementID INT,\n",
    "    IN NewElementNameID INT\n",
    ")\n",
    "BEGIN\n",
    "    INSERT INTO `{}`.`elementhaselementname` (ElementID, ElementNameID)\n",
    "    VALUES (NewElementID, NewElementNameID);\n",
    "END\n",
    "\"\"\".format(schema, schema)\n",
    "try:\n",
    "    cursor.execute(CreateAddElementHasElementNameQuery)\n",
    "    print(\"Created AddElementHasElementName procedure successfully.\")\n",
    "except connector.Error as error:\n",
    "    print(\"Error creating AddElementHasElementName procedure: {}\".format(error))\n"
   ]
  },
  {
   "cell_type": "code",
   "execution_count": 59,
   "metadata": {},
   "outputs": [
    {
     "name": "stdout",
     "output_type": "stream",
     "text": [
      "Error dropping AddElementHasRelationship procedure: 1305: PROCEDURE testdisenchantment.AddElementHasRelationship does not exist\n",
      "Created AddElementHasRelationship procedure successfully.\n"
     ]
    }
   ],
   "source": [
    "## -----------------------------------------------------\n",
    "## procedure AddElementHasRelationship\n",
    "## -----------------------------------------------------\n",
    "\n",
    "# Drop procedure if it exists\n",
    "DropAddElementHasRelationshipQuery = f\"DROP PROCEDURE IF EXISTS `{schema}`.`AddElementHasRelationship`\"\n",
    "try:\n",
    "    cursor.execute(DropAddElementHasRelationshipQuery)\n",
    "    print(\"Dropped AddElementHasRelationship procedure successfully.\")\n",
    "except connector.Error as error:\n",
    "    print(f\"Error dropping AddElementHasRelationship procedure: {error}\")\n",
    "\n",
    "# Create the AddElementHasRelationship procedure\n",
    "CreateAddElementHasRelationshipQuery = \"\"\"\n",
    "CREATE PROCEDURE `{}`.`AddElementHasRelationship`(\n",
    "    IN ElementHasRelationshipToElementIDValue INT,\n",
    "    IN Element1IDValue INT,\n",
    "    IN RelationshipIDValue INT,\n",
    "    IN Element2IDValue INT,\n",
    "    IN ExplanationValue VARCHAR(255),\n",
    "    IN RelationshipDurationIDValue INT,\n",
    "    IN RelationshipPriorityIDValue DECIMAL(4, 2)\n",
    ")\n",
    "BEGIN\n",
    "    INSERT INTO `{}`.`elementhasrelationshiptoelement` (ElementHasRelationshipToElementID, Element1ID, RelationshipID, Element2ID, Explanation, RelationshipDurationID, RelationshipPriorityID)\n",
    "    VALUES (ElementHasRelationshipToElementIDValue, Element1IDValue, RelationshipIDValue, Element2IDValue, ExplanationValue, RelationshipDurationIDValue, RelationshipPriorityIDValue);\n",
    "END\n",
    "\"\"\".format(schema, schema)\n",
    "\n",
    "try:\n",
    "    cursor.execute(CreateAddElementHasRelationshipQuery)\n",
    "    print(\"Created AddElementHasRelationship procedure successfully.\")\n",
    "except connector.Error as error:\n",
    "    print(\"Error creating AddElementHasRelationship procedure: {}\".format(error))"
   ]
  },
  {
   "cell_type": "code",
   "execution_count": 60,
   "metadata": {},
   "outputs": [
    {
     "name": "stdout",
     "output_type": "stream",
     "text": [
      "Error dropping AddElementHasTrait procedure: 1305: PROCEDURE testdisenchantment.AddElementHasTrait does not exist\n",
      "Created AddElementHasTrait procedure successfully.\n"
     ]
    }
   ],
   "source": [
    "\n",
    "## -----------------------------------------------------\n",
    "## procedure AddElementHasTrait\n",
    "## -----------------------------------------------------\n",
    "\n",
    "# Drop procedure if it exists\n",
    "DropAddElementHasTraitQuery = f\"DROP PROCEDURE IF EXISTS `{schema}`.`AddElementHasTrait`\"\n",
    "try:\n",
    "    cursor.execute(DropAddElementHasTraitQuery)\n",
    "    print(\"Dropped AddElementHasTrait procedure successfully.\")\n",
    "except connector.Error as error:\n",
    "    print(f\"Error dropping AddElementHasTrait procedure: {error}\")\n",
    "\n",
    "# Create the AddElementHasTrait procedure\n",
    "CreateAddElementHasTraitQuery = f\"\"\"\n",
    "CREATE PROCEDURE `{schema}`.`AddElementHasTrait`(\n",
    "    IN NewElementID INT,\n",
    "    IN NewTraitID INT,\n",
    "    IN TraitDurationID INT, \n",
    "    IN NewElementHasTraitDescription VARCHAR(4095),\n",
    "    IN NewTraitPriority DECIMAL(4, 2)\n",
    ")\n",
    "BEGIN\n",
    "    INSERT INTO `{schema}`.`elementhastrait` (ElementID, TraitID, TraitDurationID, ElementHasTraitDescription, TraitPriority)\n",
    "    VALUES (NewElementID, NewTraitID, TraitDurationID, NewElementHasTraitDescription, NewTraitPriority);\n",
    "END\n",
    "\"\"\"\n",
    "try:\n",
    "    cursor.execute(CreateAddElementHasTraitQuery)\n",
    "    print(\"Created AddElementHasTrait procedure successfully.\")\n",
    "except connector.Error as error:\n",
    "    print(f\"Error creating AddElementHasTrait procedure: {error}\")\n",
    "\n"
   ]
  },
  {
   "cell_type": "code",
   "execution_count": 61,
   "metadata": {},
   "outputs": [
    {
     "name": "stdout",
     "output_type": "stream",
     "text": [
      "Error dropping AddElementName procedure: 1305: PROCEDURE testdisenchantment.AddElementName does not exist\n",
      "Created AddElementName procedure successfully.\n"
     ]
    }
   ],
   "source": [
    "## -----------------------------------------------------\n",
    "## procedure AddElementName\n",
    "## -----------------------------------------------------\n",
    "\n",
    "# Drop procedure if it exists\n",
    "DropAddElementNameQuery = f\"DROP PROCEDURE IF EXISTS `{schema}`.`AddElementName`\"\n",
    "try:\n",
    "    cursor.execute(DropAddElementNameQuery)\n",
    "    print(\"Dropped AddElementName procedure successfully.\")\n",
    "except connector.Error as error:\n",
    "    print(f\"Error dropping AddElementName procedure: {error}\")\n",
    "\n",
    "# Create the AddElementName procedure\n",
    "CreateAddElementNameQuery = f\"\"\"\n",
    "CREATE PROCEDURE `{schema}`.`AddElementName`(\n",
    "    IN ElementNameValue VARCHAR(255),\n",
    "    IN NameTypeValue VARCHAR(255),\n",
    "    IN NamePriorityValue VARCHAR(255)\n",
    ")\n",
    "BEGIN\n",
    "    INSERT INTO `{schema}`.`elementname` (ElementName, NameType, NamePriority)\n",
    "    VALUES (ElementNameValue, NameTypeValue, NamePriorityValue);\n",
    "END\n",
    "\"\"\"\n",
    "try:\n",
    "    cursor.execute(CreateAddElementNameQuery)\n",
    "    print(\"Created AddElementName procedure successfully.\")\n",
    "except connector.Error as error:\n",
    "    print(f\"Error creating AddElementName procedure: {error}\")\n"
   ]
  },
  {
   "cell_type": "code",
   "execution_count": 62,
   "metadata": {},
   "outputs": [
    {
     "name": "stdout",
     "output_type": "stream",
     "text": [
      "Error dropping AddRelationship procedure: 1305: PROCEDURE testdisenchantment.AddRelationship does not exist\n",
      "Created AddRelationship procedure successfully.\n"
     ]
    }
   ],
   "source": [
    "## -----------------------------------------------------\n",
    "## procedure AddRelationship\n",
    "## -----------------------------------------------------\n",
    "\n",
    "# Drop procedure if it exists\n",
    "DropAddRelationshipQuery = f\"DROP PROCEDURE IF EXISTS `{schema}`.`AddRelationship`\"\n",
    "try:\n",
    "    cursor.execute(DropAddRelationshipQuery)\n",
    "    print(\"Dropped AddRelationship procedure successfully.\")\n",
    "except connector.Error as error:\n",
    "    print(f\"Error dropping AddRelationship procedure: {error}\")\n",
    "\n",
    "# Create the AddRelationship procedure\n",
    "CreateAddRelationshipQuery = f\"\"\"\n",
    "CREATE PROCEDURE `{schema}`.`AddRelationship`(\n",
    "    IN NewRelationshipID INT,\n",
    "    IN NewRelationshipType VARCHAR(255),\n",
    "    IN NewRelationshipTypeUniversalDescription VARCHAR(4095)\n",
    ")\n",
    "BEGIN\n",
    "    INSERT INTO `{schema}`.`relationship` (RelationshipID, RelationshipType, RelationshipTypeUniversalDescription)\n",
    "    VALUES (NewRelationshipID, NewRelationshipType, NewRelationshipTypeUniversalDescription);\n",
    "END\n",
    "\"\"\"\n",
    "try:\n",
    "    cursor.execute(CreateAddRelationshipQuery)\n",
    "    print(\"Created AddRelationship procedure successfully.\")\n",
    "except connector.Error as error:\n",
    "    print(f\"Error creating AddRelationship procedure: {error}\")\n"
   ]
  },
  {
   "cell_type": "code",
   "execution_count": 63,
   "metadata": {},
   "outputs": [
    {
     "name": "stdout",
     "output_type": "stream",
     "text": [
      "Error dropping AddStartTraitDuration procedure: 1305: PROCEDURE testdisenchantment.AddStartTraitDuration does not exist\n",
      "Created AddStartTraitDuration procedure successfully.\n"
     ]
    }
   ],
   "source": [
    "## -----------------------------------------------------\n",
    "## procedure AddStartTraitDuration\n",
    "## -----------------------------------------------------\n",
    "\n",
    "# Drop procedure if it exists\n",
    "DropAddStartTraitDurationQuery = f\"DROP PROCEDURE IF EXISTS `{schema}`.`AddStartTraitDuration`\"\n",
    "try:\n",
    "    cursor.execute(DropAddStartTraitDurationQuery)\n",
    "    print(\"Dropped AddStartTraitDuration procedure successfully.\")\n",
    "except connector.Error as error:\n",
    "    print(f\"Error dropping AddStartTraitDuration procedure: {error}\")\n",
    "\n",
    "# Create the AddStartTraitDuration procedure\n",
    "CreateAddStartTraitDurationQuery = f\"\"\"\n",
    "CREATE PROCEDURE `{schema}`.`AddStartTraitDuration`(\n",
    "    IN NewStartSceneIncludesElementID INT,\n",
    "    IN NewStartSceneDescription VARCHAR(4095)\n",
    ")\n",
    "BEGIN\n",
    "    INSERT INTO `{schema}`.`traitduration` (StartSceneDescription, StartSceneIncludesElementID)\n",
    "    VALUES (NewStartSceneDescription, NewStartSceneIncludesElementID);\n",
    "END\n",
    "\"\"\"\n",
    "try:\n",
    "    cursor.execute(CreateAddStartTraitDurationQuery)\n",
    "    print(\"Created AddStartTraitDuration procedure successfully.\")\n",
    "except connector.Error as error:\n",
    "    print(f\"Error creating AddStartTraitDuration procedure: {error}\")\n"
   ]
  },
  {
   "cell_type": "code",
   "execution_count": 64,
   "metadata": {},
   "outputs": [
    {
     "name": "stdout",
     "output_type": "stream",
     "text": [
      "Error dropping AddStartRelationshipDuration procedure: 1305: PROCEDURE testdisenchantment.AddStartRelationshipDuration does not exist\n",
      "Created AddStartRelationshipDuration procedure successfully.\n"
     ]
    }
   ],
   "source": [
    "## -----------------------------------------------------\n",
    "## procedure AddStartRelationshipDuration\n",
    "## -----------------------------------------------------\n",
    "\n",
    "# Drop procedure if it exists\n",
    "DropAddStartRelationshipDurationQuery = f\"DROP PROCEDURE IF EXISTS `{schema}`.`AddStartRelationshipDuration`\"\n",
    "try:\n",
    "    cursor.execute(DropAddStartRelationshipDurationQuery)\n",
    "    print(\"Dropped AddStartRelationshipDuration procedure successfully.\")\n",
    "except connector.Error as error:\n",
    "    print(f\"Error dropping AddStartRelationshipDuration procedure: {error}\")\n",
    "\n",
    "# Create the AddStartRelationshipDuration procedure\n",
    "CreateAddStartRelationshipDurationQuery = f\"\"\"\n",
    "CREATE PROCEDURE `{schema}`.`AddStartRelationshipDuration`(\n",
    "    IN NewStartSceneIncludesElementID INT,\n",
    "    IN NewStartSceneDescription VARCHAR(4095)\n",
    ")\n",
    "BEGIN\n",
    "    INSERT INTO `{schema}`.`relationshipduration` (StartSceneDescription, StartSceneIncludesElementID)\n",
    "    VALUES (NewStartSceneDescription, NewStartSceneIncludesElementID);\n",
    "END\n",
    "\"\"\"\n",
    "try:\n",
    "    cursor.execute(CreateAddStartRelationshipDurationQuery)\n",
    "    print(\"Created AddStartRelationshipDuration procedure successfully.\")\n",
    "except connector.Error as error:\n",
    "    print(f\"Error creating AddStartRelationshipDuration procedure: {error}\")\n"
   ]
  },
  {
   "cell_type": "code",
   "execution_count": 65,
   "metadata": {},
   "outputs": [
    {
     "name": "stdout",
     "output_type": "stream",
     "text": [
      "Error dropping AddTrait procedure: 1305: PROCEDURE testdisenchantment.AddTrait does not exist\n",
      "Created AddTrait procedure successfully.\n"
     ]
    }
   ],
   "source": [
    "## -----------------------------------------------------\n",
    "## procedure AddTrait\n",
    "## -----------------------------------------------------\n",
    "\n",
    "# Drop procedure if it exists\n",
    "DropAddTraitQuery = f\"DROP PROCEDURE IF EXISTS `{schema}`.`AddTrait`\"\n",
    "try:\n",
    "    cursor.execute(DropAddTraitQuery)\n",
    "    print(\"Dropped AddTrait procedure successfully.\")\n",
    "except connector.Error as error:\n",
    "    print(f\"Error dropping AddTrait procedure: {error}\")\n",
    "\n",
    "# Create the AddTrait procedure\n",
    "CreateAddTraitQuery = f\"\"\"\n",
    "CREATE PROCEDURE `{schema}`.`AddTrait`(\n",
    "    IN NewTraitName VARCHAR(255),\n",
    "    IN NewTraitUniversalDescription VARCHAR(255)\n",
    ")\n",
    "BEGIN\n",
    "    INSERT INTO `{schema}`.`trait` (TraitName, TraitUniversalDescription)\n",
    "    VALUES (NewTraitName, NewTraitUniversalDescription);\n",
    "END\n",
    "\"\"\"\n",
    "try:\n",
    "    cursor.execute(CreateAddTraitQuery)\n",
    "    print(\"Created AddTrait procedure successfully.\")\n",
    "except connector.Error as error:\n",
    "    print(f\"Error creating AddTrait procedure: {error}\")\n"
   ]
  },
  {
   "cell_type": "code",
   "execution_count": 66,
   "metadata": {},
   "outputs": [
    {
     "name": "stdout",
     "output_type": "stream",
     "text": [
      "Error dropping AddWish procedure: 1305: PROCEDURE testdisenchantment.AddWish does not exist\n",
      "Created AddWish procedure successfully.\n"
     ]
    }
   ],
   "source": [
    "## -----------------------------------------------------\n",
    "## procedure AddWish\n",
    "## -----------------------------------------------------\n",
    "\n",
    "# Drop procedure if it exists\n",
    "DropAddWishQuery = f\"DROP PROCEDURE IF EXISTS `{schema}`.`AddWish`\"\n",
    "try:\n",
    "    cursor.execute(DropAddWishQuery)\n",
    "    print(\"Dropped AddWish procedure successfully.\")\n",
    "except connector.Error as error:\n",
    "    print(f\"Error dropping AddWish procedure: {error}\")\n",
    "\n",
    "# Create the AddWish procedure\n",
    "CreateAddWishQuery = f\"\"\"\n",
    "CREATE PROCEDURE `{schema}`.`AddWish`(\n",
    "    IN WishQuoteValue VARCHAR(4095),\n",
    "    IN DescriptionValue VARCHAR(4095),\n",
    "    IN CurrentStatusDescriptionValue VARCHAR(4095)\n",
    ")\n",
    "BEGIN\n",
    "    INSERT INTO `{schema}`.`wish` (WishQuote, Description, CurrentStatusDescription)\n",
    "    VALUES (WishQuoteValue, DescriptionValue, CurrentStatusDescriptionValue);\n",
    "END\n",
    "\"\"\"\n",
    "try:\n",
    "    cursor.execute(CreateAddWishQuery)\n",
    "    print(\"Created AddWish procedure successfully.\")\n",
    "except connector.Error as error:\n",
    "    print(f\"Error creating AddWish procedure: {error}\")"
   ]
  },
  {
   "cell_type": "code",
   "execution_count": 67,
   "metadata": {},
   "outputs": [
    {
     "name": "stdout",
     "output_type": "stream",
     "text": [
      "Error dropping DeleteTraitDuration procedure: 1305: PROCEDURE testdisenchantment.DeleteTraitDuration does not exist\n",
      "Created DeleteTraitDuration procedure successfully.\n"
     ]
    }
   ],
   "source": [
    "## -----------------------------------------------------\n",
    "## procedure DeleteTraitDuration\n",
    "## -----------------------------------------------------\n",
    "\n",
    "# Drop procedure if it exists\n",
    "DropDeleteTraitDurationQuery = f\"DROP PROCEDURE IF EXISTS `{schema}`.`DeleteTraitDuration`\"\n",
    "try:\n",
    "    cursor.execute(DropDeleteTraitDurationQuery)\n",
    "    print(\"Dropped DeleteTraitDuration procedure successfully.\")\n",
    "except connector.Error as error:\n",
    "    print(f\"Error dropping DeleteTraitDuration procedure: {error}\")\n",
    "\n",
    "# Create the DeleteTraitDuration procedure\n",
    "CreateDeleteTraitDurationQuery = f\"\"\"\n",
    "CREATE PROCEDURE `{schema}`.`DeleteTraitDuration`(\n",
    "    IN TraitDurationIDToDelete INT\n",
    ")\n",
    "BEGIN\n",
    "    DELETE FROM `{schema}`.`traitduration`\n",
    "    WHERE TraitDurationID = TraitDurationIDToDelete;\n",
    "END\n",
    "\"\"\"\n",
    "try:\n",
    "    cursor.execute(CreateDeleteTraitDurationQuery)\n",
    "    print(\"Created DeleteTraitDuration procedure successfully.\")\n",
    "except connector.Error as error:\n",
    "    print(f\"Error creating DeleteTraitDuration procedure: {error}\")\n"
   ]
  },
  {
   "cell_type": "code",
   "execution_count": 68,
   "metadata": {},
   "outputs": [
    {
     "name": "stdout",
     "output_type": "stream",
     "text": [
      "Error dropping DeleteRelationshipDuration procedure: 1305: PROCEDURE testdisenchantment.DeleteRelationshipDuration does not exist\n",
      "Created DeleteRelationshipDuration procedure successfully.\n"
     ]
    }
   ],
   "source": [
    "## -----------------------------------------------------\n",
    "## procedure DeleteRelationshipDuration\n",
    "## -----------------------------------------------------\n",
    "\n",
    "# Drop procedure if it exists\n",
    "DropDeleteRelationshipDurationQuery = f\"DROP PROCEDURE IF EXISTS `{schema}`.`DeleteRelationshipDuration`\"\n",
    "try:\n",
    "    cursor.execute(DropDeleteRelationshipDurationQuery)\n",
    "    print(\"Dropped DeleteRelationshipDuration procedure successfully.\")\n",
    "except connector.Error as error:\n",
    "    print(f\"Error dropping DeleteRelationshipDuration procedure: {error}\")\n",
    "\n",
    "# Create the DeleteRelationshipDuration procedure\n",
    "CreateDeleteRelationshipDurationQuery = f\"\"\"\n",
    "CREATE PROCEDURE `{schema}`.`DeleteRelationshipDuration`(\n",
    "    IN RelationshipDurationIDToDelete INT\n",
    ")\n",
    "BEGIN\n",
    "    DELETE FROM `{schema}`.`relationshipduration`\n",
    "    WHERE RelatioshipDurationID = RelationshipDurationIDToDelete;\n",
    "END\n",
    "\"\"\"\n",
    "try:\n",
    "    cursor.execute(CreateDeleteRelationshipDurationQuery)\n",
    "    print(\"Created DeleteRelationshipDuration procedure successfully.\")\n",
    "except connector.Error as error:\n",
    "    print(f\"Error creating DeleteRelationshipDuration procedure: {error}\")\n"
   ]
  },
  {
   "cell_type": "code",
   "execution_count": 69,
   "metadata": {},
   "outputs": [
    {
     "name": "stdout",
     "output_type": "stream",
     "text": [
      "Error dropping DeleteEpisode procedure: 1305: PROCEDURE testdisenchantment.DeleteEpisode does not exist\n",
      "Created DeleteEpisode procedure successfully.\n"
     ]
    }
   ],
   "source": [
    "## -----------------------------------------------------\n",
    "## procedure DeleteEpisode\n",
    "## -----------------------------------------------------\n",
    "\n",
    "# Drop procedure if it exists\n",
    "DropDeleteEpisodeQuery = f\"DROP PROCEDURE IF EXISTS `{schema}`.`DeleteEpisode`\"\n",
    "try:\n",
    "    cursor.execute(DropDeleteEpisodeQuery)\n",
    "    print(\"Dropped DeleteEpisode procedure successfully.\")\n",
    "except connector.Error as error:\n",
    "    print(f\"Error dropping DeleteEpisode procedure: {error}\")\n",
    "\n",
    "# Create the DeleteEpisode procedure\n",
    "CreateDeleteEpisodeQuery = f\"\"\"\n",
    "CREATE PROCEDURE `{schema}`.`DeleteEpisode`(\n",
    "    IN DeleteEpisodeID INT\n",
    ")\n",
    "BEGIN\n",
    "    DELETE FROM `{schema}`.`episode`\n",
    "    WHERE EpisodeID = DeleteEpisodeID;\n",
    "END\n",
    "\"\"\"\n",
    "try:\n",
    "    cursor.execute(CreateDeleteEpisodeQuery)\n",
    "    print(\"Created DeleteEpisode procedure successfully.\")\n",
    "except connector.Error as error:\n",
    "    print(f\"Error creating DeleteEpisode procedure: {error}\")\n"
   ]
  },
  {
   "cell_type": "code",
   "execution_count": 70,
   "metadata": {},
   "outputs": [
    {
     "name": "stdout",
     "output_type": "stream",
     "text": [
      "Error dropping DeleteScene procedure: 1305: PROCEDURE testdisenchantment.DeleteScene does not exist\n",
      "Created DeleteScene procedure successfully.\n"
     ]
    }
   ],
   "source": [
    "## -----------------------------------------------------\n",
    "## procedure DeleteScene\n",
    "## -----------------------------------------------------\n",
    "\n",
    "# Drop procedure if it exists\n",
    "DropDeleteSceneQuery = f\"DROP PROCEDURE IF EXISTS `{schema}`.`DeleteScene`\"\n",
    "try:\n",
    "    cursor.execute(DropDeleteSceneQuery)\n",
    "    print(\"Dropped DeleteScene procedure successfully.\")\n",
    "except connector.Error as error:\n",
    "    print(f\"Error dropping DeleteScene procedure: {error}\")\n",
    "\n",
    "# Create the DeleteScene procedure\n",
    "CreateDeleteSceneQuery = f\"\"\"\n",
    "CREATE PROCEDURE `{schema}`.`DeleteScene`(\n",
    "    IN SceneIDToDelete INT\n",
    ")\n",
    "BEGIN\n",
    "    DELETE FROM `{schema}`.`scene`\n",
    "    WHERE SceneID = SceneIDToDelete;\n",
    "END\n",
    "\"\"\"\n",
    "try:\n",
    "    cursor.execute(CreateDeleteSceneQuery)\n",
    "    print(\"Created DeleteScene procedure successfully.\")\n",
    "except connector.Error as error:\n",
    "    print(f\"Error creating DeleteScene procedure: {error}\")\n"
   ]
  },
  {
   "cell_type": "code",
   "execution_count": 71,
   "metadata": {},
   "outputs": [
    {
     "name": "stdout",
     "output_type": "stream",
     "text": [
      "Error dropping DeleteSceneAddressesElementHasTrait procedure: 1305: PROCEDURE testdisenchantment.DeleteSceneAddressesElementHasTrait does not exist\n",
      "Created DeleteSceneAddressesElementHasTrait procedure successfully.\n"
     ]
    }
   ],
   "source": [
    "## -----------------------------------------------------\n",
    "## procedure DeleteSceneAddressesElementHasTrait\n",
    "## -----------------------------------------------------\n",
    "\n",
    "# Drop procedure if it exists\n",
    "DropDeleteSceneAddressesElementHasTraitQuery = f\"DROP PROCEDURE IF EXISTS `{schema}`.`DeleteSceneAddressesElementHasTrait`\"\n",
    "try:\n",
    "    cursor.execute(DropDeleteSceneAddressesElementHasTraitQuery)\n",
    "    print(\"Dropped DeleteSceneAddressesElementHasTrait procedure successfully.\")\n",
    "except connector.Error as error:\n",
    "    print(f\"Error dropping DeleteSceneAddressesElementHasTrait procedure: {error}\")\n",
    "\n",
    "# Create the DeleteSceneAddressesElementHasTrait procedure\n",
    "CreateDeleteSceneAddressesElementHasTraitQuery = f\"\"\"\n",
    "CREATE PROCEDURE `{schema}`.`DeleteSceneAddressesElementHasTrait`(\n",
    "    IN DeleteSceneAddressesElementHasTraitID INT\n",
    ")\n",
    "BEGIN\n",
    "    DELETE FROM `{schema}`.`sceneaddresseselementhastrait`\n",
    "    WHERE SceneAddressesElementHasTraitID = DeleteSceneAddressesElementHasTraitID;\n",
    "END\n",
    "\"\"\"\n",
    "try:\n",
    "    cursor.execute(CreateDeleteSceneAddressesElementHasTraitQuery)\n",
    "    print(\"Created DeleteSceneAddressesElementHasTrait procedure successfully.\")\n",
    "except connector.Error as error:\n",
    "    print(f\"Error creating DeleteSceneAddressesElementHasTrait procedure: {error}\")\n",
    "\n"
   ]
  },
  {
   "cell_type": "code",
   "execution_count": 72,
   "metadata": {},
   "outputs": [
    {
     "name": "stdout",
     "output_type": "stream",
     "text": [
      "Error dropping DeleteSceneAddressesElementRelationship procedure: 1305: PROCEDURE testdisenchantment.DeleteSceneAddressesElementRelationship does not exist\n",
      "Created DeleteSceneAddressesElementRelationship procedure successfully.\n"
     ]
    }
   ],
   "source": [
    "## -----------------------------------------------------\n",
    "## procedure DeleteSceneAddressesElementRelationship\n",
    "## -----------------------------------------------------\n",
    "\n",
    "# Drop procedure if it exists\n",
    "DropDeleteSceneAddressesElementRelationshipQuery = f\"DROP PROCEDURE IF EXISTS `{schema}`.`DeleteSceneAddressesElementRelationship`\"\n",
    "try:\n",
    "    cursor.execute(DropDeleteSceneAddressesElementRelationshipQuery)\n",
    "    print(\"Dropped DeleteSceneAddressesElementRelationship procedure successfully.\")\n",
    "except connector.Error as error:\n",
    "    print(f\"Error dropping DeleteSceneAddressesElementRelationship procedure: {error}\")\n",
    "\n",
    "# Create the DeleteSceneAddressesElementRelationship procedure\n",
    "CreateDeleteSceneAddressesElementRelationshipQuery = f\"\"\"\n",
    "CREATE PROCEDURE `{schema}`.`DeleteSceneAddressesElementRelationship`(\n",
    "    IN DeleteSceneAddressesElementRelationshipID INT\n",
    ")\n",
    "BEGIN\n",
    "    DELETE FROM `{schema}`.`sceneaddresseselementrelationship`\n",
    "    WHERE SceneAddressesElementRelationshipID = DeleteSceneAddressesElementRelationshipID;\n",
    "END\n",
    "\"\"\"\n",
    "try:\n",
    "    cursor.execute(CreateDeleteSceneAddressesElementRelationshipQuery)\n",
    "    print(\"Created DeleteSceneAddressesElementRelationship procedure successfully.\")\n",
    "except connector.Error as error:\n",
    "    print(f\"Error creating DeleteSceneAddressesElementRelationship procedure: {error}\")\n",
    "\n"
   ]
  },
  {
   "cell_type": "code",
   "execution_count": 73,
   "metadata": {},
   "outputs": [
    {
     "name": "stdout",
     "output_type": "stream",
     "text": [
      "Error dropping DeleteSceneHasExampleOfElementName procedure: 1305: PROCEDURE testdisenchantment.DeleteSceneHasExampleOfElementName does not exist\n",
      "Created DeleteSceneHasExampleOfElementName procedure successfully.\n"
     ]
    }
   ],
   "source": [
    "## -----------------------------------------------------\n",
    "## procedure DeleteSceneHasExampleOfElementName\n",
    "## -----------------------------------------------------\n",
    "\n",
    "# Drop procedure if it exists\n",
    "DropDeleteSceneHasExampleOfElementNameQuery = f\"DROP PROCEDURE IF EXISTS `{schema}`.`DeleteSceneHasExampleOfElementName`\"\n",
    "try:\n",
    "    cursor.execute(DropDeleteSceneHasExampleOfElementNameQuery)\n",
    "    print(\"Dropped DeleteSceneHasExampleOfElementName procedure successfully.\")\n",
    "except connector.Error as error:\n",
    "    print(f\"Error dropping DeleteSceneHasExampleOfElementName procedure: {error}\")\n",
    "\n",
    "# Create the DeleteSceneHasExampleOfElementName procedure\n",
    "CreateDeleteSceneHasExampleOfElementNameQuery = f\"\"\"\n",
    "CREATE PROCEDURE `{schema}`.`DeleteSceneHasExampleOfElementName`(\n",
    "    IN SceneHasExampleOfElementNameIDToDelete INT\n",
    ")\n",
    "BEGIN\n",
    "    DELETE FROM `{schema}`.`scenehasexampleofelementname`\n",
    "    WHERE SceneHasExampleOfElementNameID = SceneHasExampleOfElementNameIDToDelete;\n",
    "END\n",
    "\"\"\"\n",
    "try:\n",
    "    cursor.execute(CreateDeleteSceneHasExampleOfElementNameQuery)\n",
    "    print(\"Created DeleteSceneHasExampleOfElementName procedure successfully.\")\n",
    "except connector.Error as error:\n",
    "    print(f\"Error creating DeleteSceneHasExampleOfElementName procedure: {error}\")\n",
    "\n"
   ]
  },
  {
   "cell_type": "code",
   "execution_count": 74,
   "metadata": {},
   "outputs": [
    {
     "name": "stdout",
     "output_type": "stream",
     "text": [
      "Error dropping DeleteSceneHasWish procedure: 1305: PROCEDURE testdisenchantment.DeleteSceneHasWish does not exist\n",
      "Created DeleteSceneHasWish procedure successfully.\n"
     ]
    }
   ],
   "source": [
    "## -----------------------------------------------------\n",
    "## procedure DeleteSceneHasWish\n",
    "## -----------------------------------------------------\n",
    "\n",
    "# Drop procedure if it exists\n",
    "DropDeleteSceneHasWishQuery = f\"DROP PROCEDURE IF EXISTS `{schema}`.`DeleteSceneHasWish`\"\n",
    "try:\n",
    "    cursor.execute(DropDeleteSceneHasWishQuery)\n",
    "    print(\"Dropped DeleteSceneHasWish procedure successfully.\")\n",
    "except connector.Error as error:\n",
    "    print(f\"Error dropping DeleteSceneHasWish procedure: {error}\")\n",
    "\n",
    "# Create the DeleteSceneHasWish procedure\n",
    "CreateDeleteSceneHasWishQuery = f\"\"\"\n",
    "CREATE PROCEDURE `{schema}`.`DeleteSceneHasWish`(\n",
    "    IN DeleteSceneHasWishID INT\n",
    ")\n",
    "BEGIN\n",
    "    DELETE FROM `{schema}`.`sceneincludeselementhaswish`\n",
    "    WHERE SceneHasWishID = DeleteSceneHasWishID;\n",
    "END\n",
    "\"\"\"\n",
    "try:\n",
    "    cursor.execute(CreateDeleteSceneHasWishQuery)\n",
    "    print(\"Created DeleteSceneHasWish procedure successfully.\")\n",
    "except connector.Error as error:\n",
    "    print(f\"Error creating DeleteSceneHasWish procedure: {error}\")"
   ]
  },
  {
   "cell_type": "code",
   "execution_count": 75,
   "metadata": {},
   "outputs": [
    {
     "name": "stdout",
     "output_type": "stream",
     "text": [
      "Error dropping DeleteElement procedure: 1305: PROCEDURE testdisenchantment.DeleteElement does not exist\n",
      "Created DeleteElement procedure successfully.\n"
     ]
    }
   ],
   "source": [
    "## -----------------------------------------------------\n",
    "## procedure DeleteElement\n",
    "## -----------------------------------------------------\n",
    "\n",
    "# Drop procedure if it exists\n",
    "DropDeleteElementQuery = f\"DROP PROCEDURE IF EXISTS `{schema}`.`DeleteElement`\"\n",
    "try:\n",
    "    cursor.execute(DropDeleteElementQuery)\n",
    "    print(\"Dropped DeleteElement procedure successfully.\")\n",
    "except connector.Error as error:\n",
    "    print(f\"Error dropping DeleteElement procedure: {error}\")\n",
    "\n",
    "# Create the DeleteElement procedure\n",
    "CreateDeleteElementQuery = f\"\"\"\n",
    "CREATE PROCEDURE `{schema}`.`DeleteElement`(\n",
    "    IN ElementIDToDelete INT\n",
    ")\n",
    "BEGIN\n",
    "    DELETE FROM `{schema}`.`element`\n",
    "    WHERE ElementID = ElementIDToDelete;\n",
    "END\n",
    "\"\"\"\n",
    "try:\n",
    "    cursor.execute(CreateDeleteElementQuery)\n",
    "    print(\"Created DeleteElement procedure successfully.\")\n",
    "except connector.Error as error:\n",
    "    print(f\"Error creating DeleteElement procedure: {error}\")"
   ]
  },
  {
   "cell_type": "code",
   "execution_count": 76,
   "metadata": {},
   "outputs": [
    {
     "name": "stdout",
     "output_type": "stream",
     "text": [
      "Error dropping DeleteElementHasRelationship procedure: 1305: PROCEDURE testdisenchantment.DeleteElementHasRelationship does not exist\n",
      "Created DeleteElementHasRelationship procedure successfully.\n"
     ]
    }
   ],
   "source": [
    "## -----------------------------------------------------\n",
    "## procedure DeleteElementHasRelationship\n",
    "## -----------------------------------------------------\n",
    "\n",
    "# Drop procedure if it exists\n",
    "DropDeleteElementHasRelationshipQuery = f\"DROP PROCEDURE IF EXISTS `{schema}`.`DeleteElementHasRelationship`\"\n",
    "try:\n",
    "    cursor.execute(DropDeleteElementHasRelationshipQuery)\n",
    "    print(\"Dropped DeleteElementHasRelationship procedure successfully.\")\n",
    "except connector.Error as error:\n",
    "    print(f\"Error dropping DeleteElementHasRelationship procedure: {error}\")\n",
    "\n",
    "# Create the DeleteElementHasRelationship procedure\n",
    "CreateDeleteElementHasRelationshipQuery = f\"\"\"\n",
    "CREATE PROCEDURE `{schema}`.`DeleteElementHasRelationship`(\n",
    "    IN DeleteElementHasRelationshipToElementID INT\n",
    ")\n",
    "BEGIN\n",
    "    DELETE FROM `{schema}`.`elementhasrelationshiptoelement`\n",
    "    WHERE ElementHasRelationshipToElementID = DeleteElementHasRelationshipToElementID;\n",
    "END\n",
    "\"\"\"\n",
    "try:\n",
    "    cursor.execute(CreateDeleteElementHasRelationshipQuery)\n",
    "    print(\"Created DeleteElementHasRelationship procedure successfully.\")\n",
    "except connector.Error as error:\n",
    "    print(f\"Error creating DeleteElementHasRelationship procedure: {error}\")\n"
   ]
  },
  {
   "cell_type": "code",
   "execution_count": 77,
   "metadata": {},
   "outputs": [
    {
     "name": "stdout",
     "output_type": "stream",
     "text": [
      "Error dropping DeleteElementHasTrait procedure: 1305: PROCEDURE testdisenchantment.DeleteElementHasTrait does not exist\n",
      "Created DeleteElementHasTrait procedure successfully.\n"
     ]
    }
   ],
   "source": [
    "## -----------------------------------------------------\n",
    "## procedure DeleteElementHasTrait\n",
    "## -----------------------------------------------------\n",
    "\n",
    "# Drop procedure if it exists\n",
    "DropDeleteElementHasTraitQuery = f\"DROP PROCEDURE IF EXISTS `{schema}`.`DeleteElementHasTrait`\"\n",
    "try:\n",
    "    cursor.execute(DropDeleteElementHasTraitQuery)\n",
    "    print(\"Dropped DeleteElementHasTrait procedure successfully.\")\n",
    "except connector.Error as error:\n",
    "    print(f\"Error dropping DeleteElementHasTrait procedure: {error}\")\n",
    "\n",
    "# Create the DeleteElementHasTrait procedure\n",
    "CreateDeleteElementHasTraitQuery = f\"\"\"\n",
    "CREATE PROCEDURE `{schema}`.`DeleteElementHasTrait`(\n",
    "    IN ElementHasTraitIDToDelete INT\n",
    ")\n",
    "BEGIN\n",
    "    DELETE FROM `{schema}`.`elementhastrait`\n",
    "    WHERE ElementHasTraitID = ElementHasTraitIDToDelete;\n",
    "END\n",
    "\"\"\"\n",
    "try:\n",
    "    cursor.execute(CreateDeleteElementHasTraitQuery)\n",
    "    print(\"Created DeleteElementHasTrait procedure successfully.\")\n",
    "except connector.Error as error:\n",
    "    print(f\"Error creating DeleteElementHasTrait procedure: {error}\")\n",
    "\n"
   ]
  },
  {
   "cell_type": "code",
   "execution_count": 78,
   "metadata": {},
   "outputs": [
    {
     "name": "stdout",
     "output_type": "stream",
     "text": [
      "Error dropping DeleteElementName procedure: 1305: PROCEDURE testdisenchantment.DeleteElementName does not exist\n",
      "Created DeleteElementName procedure successfully.\n"
     ]
    }
   ],
   "source": [
    "## -----------------------------------------------------\n",
    "## procedure DeleteElementName\n",
    "## -----------------------------------------------------\n",
    "\n",
    "# Drop procedure if it exists\n",
    "DropDeleteElementNameQuery = f\"DROP PROCEDURE IF EXISTS `{schema}`.`DeleteElementName`\"\n",
    "try:\n",
    "    cursor.execute(DropDeleteElementNameQuery)\n",
    "    print(\"Dropped DeleteElementName procedure successfully.\")\n",
    "except connector.Error as error:\n",
    "    print(f\"Error dropping DeleteElementName procedure: {error}\")\n",
    "\n",
    "# Create the DeleteElementName procedure\n",
    "CreateDeleteElementNameQuery = f\"\"\"\n",
    "CREATE PROCEDURE `{schema}`.`DeleteElementName`(\n",
    "    IN DeleteElementNameID INT\n",
    ")\n",
    "BEGIN\n",
    "    DELETE FROM `{schema}`.`elementname`\n",
    "    WHERE ElementNameID = DeleteElementNameID;\n",
    "END\n",
    "\"\"\"\n",
    "try:\n",
    "    cursor.execute(CreateDeleteElementNameQuery)\n",
    "    print(\"Created DeleteElementName procedure successfully.\")\n",
    "except connector.Error as error:\n",
    "    print(f\"Error creating DeleteElementName procedure: {error}\")\n"
   ]
  },
  {
   "cell_type": "code",
   "execution_count": 79,
   "metadata": {},
   "outputs": [
    {
     "name": "stdout",
     "output_type": "stream",
     "text": [
      "Error dropping DeleteRelationship procedure: 1305: PROCEDURE testdisenchantment.DeleteRelationship does not exist\n",
      "Created DeleteRelationship procedure successfully.\n"
     ]
    }
   ],
   "source": [
    "## -----------------------------------------------------\n",
    "## procedure DeleteRelationship\n",
    "## -----------------------------------------------------\n",
    "\n",
    "# Drop procedure if it exists\n",
    "DropDeleteRelationshipQuery = f\"DROP PROCEDURE IF EXISTS `{schema}`.`DeleteRelationship`\"\n",
    "try:\n",
    "    cursor.execute(DropDeleteRelationshipQuery)\n",
    "    print(\"Dropped DeleteRelationship procedure successfully.\")\n",
    "except connector.Error as error:\n",
    "    print(f\"Error dropping DeleteRelationship procedure: {error}\")\n",
    "\n",
    "# Create the DeleteRelationship procedure\n",
    "CreateDeleteRelationshipQuery = f\"\"\"\n",
    "CREATE PROCEDURE `{schema}`.`DeleteRelationship`(\n",
    "    IN DeleteRelationshipID INT\n",
    ")\n",
    "BEGIN\n",
    "    DELETE FROM `{schema}`.`relationship`\n",
    "    WHERE RelationshipID = DeleteRelationshipID;\n",
    "END\n",
    "\"\"\"\n",
    "try:\n",
    "    cursor.execute(CreateDeleteRelationshipQuery)\n",
    "    print(\"Created DeleteRelationship procedure successfully.\")\n",
    "except connector.Error as error:\n",
    "    print(f\"Error creating DeleteRelationship procedure: {error}\")\n"
   ]
  },
  {
   "cell_type": "code",
   "execution_count": 80,
   "metadata": {},
   "outputs": [
    {
     "name": "stdout",
     "output_type": "stream",
     "text": [
      "Error dropping DeleteTrait procedure: 1305: PROCEDURE testdisenchantment.DeleteTrait does not exist\n",
      "Created DeleteTrait procedure successfully.\n"
     ]
    }
   ],
   "source": [
    "## -----------------------------------------------------\n",
    "## procedure DeleteTrait\n",
    "## -----------------------------------------------------\n",
    "\n",
    "# Drop procedure if it exists\n",
    "DropDeleteTraitQuery = f\"DROP PROCEDURE IF EXISTS `{schema}`.`DeleteTrait`\"\n",
    "try:\n",
    "    cursor.execute(DropDeleteTraitQuery)\n",
    "    print(\"Dropped DeleteTrait procedure successfully.\")\n",
    "except connector.Error as error:\n",
    "    print(f\"Error dropping DeleteTrait procedure: {error}\")\n",
    "\n",
    "# Create the DeleteTrait procedure\n",
    "CreateDeleteTraitQuery = f\"\"\"\n",
    "CREATE PROCEDURE `{schema}`.`DeleteTrait`(\n",
    "    IN TraitIDToDelete INT\n",
    ")\n",
    "BEGIN\n",
    "    DELETE FROM `{schema}`.`trait`\n",
    "    WHERE TraitID = TraitIDToDelete;\n",
    "END\n",
    "\"\"\"\n",
    "try:\n",
    "    cursor.execute(CreateDeleteTraitQuery)\n",
    "    print(\"Created DeleteTrait procedure successfully.\")\n",
    "except connector.Error as error:\n",
    "    print(f\"Error creating DeleteTrait procedure: {error}\")"
   ]
  },
  {
   "cell_type": "code",
   "execution_count": 81,
   "metadata": {},
   "outputs": [
    {
     "name": "stdout",
     "output_type": "stream",
     "text": [
      "Error dropping DeleteWish procedure: 1305: PROCEDURE testdisenchantment.DeleteWish does not exist\n",
      "Created DeleteWish procedure successfully.\n"
     ]
    }
   ],
   "source": [
    "## -----------------------------------------------------\n",
    "## procedure DeleteWish\n",
    "## -----------------------------------------------------\n",
    "\n",
    "# Drop procedure if it exists\n",
    "DropDeleteWishQuery = f\"DROP PROCEDURE IF EXISTS `{schema}`.`DeleteWish`\"\n",
    "try:\n",
    "    cursor.execute(DropDeleteWishQuery)\n",
    "    print(\"Dropped DeleteWish procedure successfully.\")\n",
    "except connector.Error as error:\n",
    "    print(f\"Error dropping DeleteWish procedure: {error}\")\n",
    "\n",
    "# Create the DeleteWish procedure\n",
    "CreateDeleteWishQuery = f\"\"\"\n",
    "CREATE PROCEDURE `{schema}`.`DeleteWish`(\n",
    "    IN DeleteWishID INT\n",
    ")\n",
    "BEGIN\n",
    "    DELETE FROM `{schema}`.`wish`\n",
    "    WHERE WishID = DeleteWishID;\n",
    "END\n",
    "\"\"\"\n",
    "try:\n",
    "    cursor.execute(CreateDeleteWishQuery)\n",
    "    print(\"Created DeleteWish procedure successfully.\")\n",
    "except connector.Error as error:\n",
    "    print(f\"Error creating DeleteWish procedure: {error}\")\n"
   ]
  },
  {
   "cell_type": "code",
   "execution_count": 82,
   "metadata": {},
   "outputs": [
    {
     "name": "stdout",
     "output_type": "stream",
     "text": [
      "Error dropping ModifyTraitDuration procedure: 1305: PROCEDURE testdisenchantment.ModifyTraitDuration does not exist\n",
      "Created ModifyTraitDuration procedure successfully.\n"
     ]
    }
   ],
   "source": [
    "## -----------------------------------------------------\n",
    "## procedure ModifyTraitDuration\n",
    "## -----------------------------------------------------\n",
    "\n",
    "# Drop procedure if it exists\n",
    "DropModifyTraitDurationQuery = f\"DROP PROCEDURE IF EXISTS `{schema}`.`ModifyTraitDuration`\"\n",
    "try:\n",
    "    cursor.execute(DropModifyTraitDurationQuery)\n",
    "    print(\"Dropped ModifyTraitDuration procedure successfully.\")\n",
    "except connector.Error as error:\n",
    "    print(f\"Error dropping ModifyTraitDuration procedure: {error}\")\n",
    "\n",
    "# Create the ModifyTraitDuration procedure\n",
    "CreateModifyTraitDurationQuery = f\"\"\"\n",
    "CREATE PROCEDURE `{schema}`.`ModifyTraitDuration`(\n",
    "    IN NewTraitDurationID INT,\n",
    "    IN NewStartSceneDescription VARCHAR(4095),\n",
    "    IN NewEndSceneDescription VARCHAR(4095),\n",
    "    IN NewStartSceneIncludesElementID INT,\n",
    "    IN NewEndSceneIncludesElementID INT\n",
    ")\n",
    "BEGIN\n",
    "    UPDATE `{schema}`.`traitduration`\n",
    "    SET\n",
    "        StartSceneDescription = IF(NewStartSceneDescription IS NOT NULL, NewStartSceneDescription, StartSceneDescription),\n",
    "        EndSceneDescription = IF(NewEndSceneDescription IS NOT NULL, NewEndSceneDescription, EndSceneDescription),\n",
    "        StartSceneIncludesElementID = IF(NewStartSceneIncludesElementID IS NOT NULL, NewStartSceneIncludesElementID, StartSceneIncludesElementID),\n",
    "        EndSceneIncludesElementID = IF(NewEndSceneIncludesElementID IS NOT NULL, NewEndSceneIncludesElementID, EndSceneIncludesElementID)\n",
    "    WHERE TraitDurationID = NewTraitDurationID;\n",
    "END\n",
    "\"\"\"\n",
    "try:\n",
    "    cursor.execute(CreateModifyTraitDurationQuery)\n",
    "    print(\"Created ModifyTraitDuration procedure successfully.\")\n",
    "except connector.Error as error:\n",
    "    print(f\"Error creating ModifyTraitDuration procedure: {error}\")\n"
   ]
  },
  {
   "cell_type": "code",
   "execution_count": 83,
   "metadata": {},
   "outputs": [
    {
     "name": "stdout",
     "output_type": "stream",
     "text": [
      "Error dropping ModifyRelationshipDuration procedure: 1305: PROCEDURE testdisenchantment.ModifyRelationshipDuration does not exist\n",
      "Created ModifyRelationshipDuration procedure successfully.\n"
     ]
    }
   ],
   "source": [
    "## -----------------------------------------------------\n",
    "## procedure ModifyRelationshipDuration\n",
    "## -----------------------------------------------------\n",
    "\n",
    "# Drop procedure if it exists\n",
    "DropModifyRelationshipDurationQuery = f\"DROP PROCEDURE IF EXISTS `{schema}`.`ModifyRelationshipDuration`\"\n",
    "try:\n",
    "    cursor.execute(DropModifyRelationshipDurationQuery)\n",
    "    print(\"Dropped ModifyRelationshipDuration procedure successfully.\")\n",
    "except connector.Error as error:\n",
    "    print(f\"Error dropping ModifyRelationshipDuration procedure: {error}\")\n",
    "\n",
    "# Create the ModifyRelationshipDuration procedure\n",
    "CreateModifyRelationshipDurationQuery = f\"\"\"\n",
    "CREATE PROCEDURE `{schema}`.`ModifyRelationshipDuration`(\n",
    "    IN NewRelationshipDurationID INT,\n",
    "    IN NewStartSceneDescription VARCHAR(4095),\n",
    "    IN NewEndSceneDescription VARCHAR(4095),\n",
    "    IN NewStartSceneIncludesElementID INT,\n",
    "    IN NewEndSceneIncludesElementID INT\n",
    ")\n",
    "BEGIN\n",
    "    UPDATE `{schema}`.`relationshipduration`\n",
    "    SET\n",
    "        StartSceneDescription = IF(NewStartSceneDescription IS NOT NULL, NewStartSceneDescription, StartSceneDescription),\n",
    "        EndSceneDescription = IF(NewEndSceneDescription IS NOT NULL, NewEndSceneDescription, EndSceneDescription),\n",
    "        StartSceneIncludesElementID = IF(NewStartSceneIncludesElementID IS NOT NULL, NewStartSceneIncludesElementID, StartSceneIncludesElementID),\n",
    "        EndSceneIncludesElementID = IF(NewEndSceneIncludesElementID IS NOT NULL, NewEndSceneIncludesElementID, EndSceneIncludesElementID)\n",
    "    WHERE RelationshipDurationID = NewRelationshipDurationID;\n",
    "END\n",
    "\"\"\"\n",
    "try:\n",
    "    cursor.execute(CreateModifyRelationshipDurationQuery)\n",
    "    print(\"Created ModifyRelationshipDuration procedure successfully.\")\n",
    "except connector.Error as error:\n",
    "    print(f\"Error creating ModifyRelationshipDuration procedure: {error}\")\n"
   ]
  },
  {
   "cell_type": "code",
   "execution_count": 84,
   "metadata": {},
   "outputs": [
    {
     "name": "stdout",
     "output_type": "stream",
     "text": [
      "Error dropping ModifyEpisode procedure: 1305: PROCEDURE testdisenchantment.ModifyEpisode does not exist\n",
      "Created ModifyEpisode procedure successfully.\n"
     ]
    }
   ],
   "source": [
    "## -----------------------------------------------------\n",
    "## procedure ModifyEpisode\n",
    "## -----------------------------------------------------\n",
    "\n",
    "# Drop procedure if it exists\n",
    "DropModifyEpisodeQuery = f\"DROP PROCEDURE IF EXISTS `{schema}`.`ModifyEpisode`\"\n",
    "try:\n",
    "    cursor.execute(DropModifyEpisodeQuery)\n",
    "    print(\"Dropped ModifyEpisode procedure successfully.\")\n",
    "except connector.Error as error:\n",
    "    print(f\"Error dropping ModifyEpisode procedure: {error}\")\n",
    "\n",
    "# Create the ModifyEpisode procedure\n",
    "CreateModifyEpisodeQuery = f\"\"\"\n",
    "CREATE PROCEDURE `{schema}`.`ModifyEpisode`(\n",
    "    IN ModifyEpisodeID INT,\n",
    "    IN NewPart INT,\n",
    "    IN NewEpisode INT,\n",
    "    IN NewName VARCHAR(255),\n",
    "    IN NewSynopsis VARCHAR(4095)\n",
    ")\n",
    "BEGIN\n",
    "    UPDATE `{schema}`.`episode`\n",
    "    SET\n",
    "        Part = IF(NewPart IS NOT NULL, NewPart, Part),\n",
    "        Episode = IF(NewEpisode IS NOT NULL, NewEpisode, Episode),\n",
    "        Name = IF(NewName IS NOT NULL, NewName, Name),\n",
    "        Synopsis = IF(NewSynopsis IS NOT NULL, NewSynopsis, Synopsis)\n",
    "    WHERE EpisodeID = ModifyEpisodeID;\n",
    "END\n",
    "\"\"\"\n",
    "try:\n",
    "    cursor.execute(CreateModifyEpisodeQuery)\n",
    "    print(\"Created ModifyEpisode procedure successfully.\")\n",
    "except connector.Error as error:\n",
    "    print(f\"Error creating ModifyEpisode procedure: {error}\")\n"
   ]
  },
  {
   "cell_type": "code",
   "execution_count": 85,
   "metadata": {},
   "outputs": [
    {
     "name": "stdout",
     "output_type": "stream",
     "text": [
      "Error dropping ModifyScene procedure: 1305: PROCEDURE testdisenchantment.ModifyScene does not exist\n",
      "Created ModifyScene procedure successfully.\n"
     ]
    }
   ],
   "source": [
    "## -----------------------------------------------------\n",
    "## procedure ModifyScene\n",
    "## -----------------------------------------------------\n",
    "\n",
    "# Drop procedure if it exists\n",
    "DropModifySceneQuery = f\"DROP PROCEDURE IF EXISTS `{schema}`.`ModifyScene`\"\n",
    "try:\n",
    "    cursor.execute(DropModifySceneQuery)\n",
    "    print(\"Dropped ModifyScene procedure successfully.\")\n",
    "except connector.Error as error:\n",
    "    print(f\"Error dropping ModifyScene procedure: {error}\")\n",
    "\n",
    "# Create the ModifyScene procedure\n",
    "CreateModifySceneQuery = f\"\"\"\n",
    "CREATE PROCEDURE `{schema}`.`ModifyScene`(\n",
    "    IN SceneIDToUpdate INT,\n",
    "    IN NewSceneName VARCHAR(255),\n",
    "    IN NewEpisodeID INT,\n",
    "    IN NewSceneDescription VARCHAR(4095),\n",
    "    IN NewTimestamp DECIMAL(9, 3)\n",
    ")\n",
    "BEGIN\n",
    "    UPDATE `{schema}`.`scene`\n",
    "    SET SceneName = IFNULL(NewSceneName, SceneName),\n",
    "        EpisodeID = IFNULL(NewEpisodeID, EpisodeID),\n",
    "        SceneDescription = IFNULL(NewSceneDescription, SceneDescription),\n",
    "        Timestamp = IFNULL(NewTimestamp, Timestamp)\n",
    "    WHERE SceneID = SceneIDToUpdate;\n",
    "END\n",
    "\"\"\"\n",
    "try:\n",
    "    cursor.execute(CreateModifySceneQuery)\n",
    "    print(\"Created ModifyScene procedure successfully.\")\n",
    "except connector.Error as error:\n",
    "    print(f\"Error creating ModifyScene procedure: {error}\")\n"
   ]
  },
  {
   "cell_type": "code",
   "execution_count": 86,
   "metadata": {},
   "outputs": [
    {
     "name": "stdout",
     "output_type": "stream",
     "text": [
      "Error dropping ModifySceneAddressesElementHasTrait procedure: 1305: PROCEDURE testdisenchantment.ModifySceneAddressesElementHasTrait does not exist\n",
      "Created ModifySceneAddressesElementHasTrait procedure successfully.\n"
     ]
    }
   ],
   "source": [
    "## -----------------------------------------------------\n",
    "## procedure ModifySceneAddressesElementHasTrait\n",
    "## -----------------------------------------------------\n",
    "\n",
    "# Drop procedure if it exists\n",
    "DropModifySceneAddressesElementHasTraitQuery = f\"DROP PROCEDURE IF EXISTS `{schema}`.`ModifySceneAddressesElementHasTrait`\"\n",
    "try:\n",
    "    cursor.execute(DropModifySceneAddressesElementHasTraitQuery)\n",
    "    print(\"Dropped ModifySceneAddressesElementHasTrait procedure successfully.\")\n",
    "except connector.Error as error:\n",
    "    print(f\"Error dropping ModifySceneAddressesElementHasTrait procedure: {error}\")\n",
    "\n",
    "# Create the ModifySceneAddressesElementHasTrait procedure\n",
    "CreateModifySceneAddressesElementHasTraitQuery = f\"\"\"\n",
    "CREATE PROCEDURE `{schema}`.`ModifySceneAddressesElementHasTrait`(\n",
    "    IN ModifySceneAddressesElementHasTraitID INT,\n",
    "    IN NewElementHasTraitID INT,\n",
    "    IN NewSceneAddressesElementHasTraitDescription VARCHAR(4095),\n",
    "    IN NewSceneIncludesElementID INT\n",
    ")\n",
    "BEGIN\n",
    "    UPDATE `{schema}`.`sceneaddresseselementhastrait`\n",
    "    SET ElementHasTraitID = IFNULL(NewElementHasTraitID, ElementHasTraitID),\n",
    "        SceneAddressesElementHasTraitDescription = IFNULL(NewSceneAddressesElementHasTraitDescription, SceneAddressesElementHasTraitDescription),\n",
    "        SceneIncludesElementID = IFNULL(NewSceneIncludesElementID, SceneIncludesElementID)\n",
    "    WHERE SceneAddressesElementHasTraitID = ModifySceneAddressesElementHasTraitID;\n",
    "END\n",
    "\"\"\"\n",
    "try:\n",
    "    cursor.execute(CreateModifySceneAddressesElementHasTraitQuery)\n",
    "    print(\"Created ModifySceneAddressesElementHasTrait procedure successfully.\")\n",
    "except connector.Error as error:\n",
    "    print(f\"Error creating ModifySceneAddressesElementHasTrait procedure: {error}\")\n"
   ]
  },
  {
   "cell_type": "code",
   "execution_count": 87,
   "metadata": {},
   "outputs": [
    {
     "name": "stdout",
     "output_type": "stream",
     "text": [
      "Error dropping ModifySceneAddressesElementRelationship procedure: 1305: PROCEDURE testdisenchantment.ModifySceneAddressesElementRelationship does not exist\n",
      "Created ModifySceneAddressesElementRelationship procedure successfully.\n"
     ]
    }
   ],
   "source": [
    "## -----------------------------------------------------\n",
    "## procedure ModifySceneAddressesElementRelationship\n",
    "## -----------------------------------------------------\n",
    "\n",
    "# Drop procedure if it exists\n",
    "DropModifySceneAddressesElementRelationshipQuery = f\"DROP PROCEDURE IF EXISTS `{schema}`.`ModifySceneAddressesElementRelationship`\"\n",
    "try:\n",
    "    cursor.execute(DropModifySceneAddressesElementRelationshipQuery)\n",
    "    print(\"Dropped ModifySceneAddressesElementRelationship procedure successfully.\")\n",
    "except connector.Error as error:\n",
    "    print(f\"Error dropping ModifySceneAddressesElementRelationship procedure: {error}\")\n",
    "\n",
    "# Create the ModifySceneAddressesElementRelationship procedure\n",
    "CreateModifySceneAddressesElementRelationshipQuery = f\"\"\"\n",
    "CREATE PROCEDURE `{schema}`.`ModifySceneAddressesElementRelationship`(\n",
    "    IN ModifySceneAddressesElementRelationshipID INT,\n",
    "    IN NewElementHasRelationshipToElementID INT,\n",
    "    IN NewSceneAddressesElementRelationshipDescription VARCHAR(4095),\n",
    "    IN NewSceneIncludesElementID INT\n",
    ")\n",
    "BEGIN\n",
    "    UPDATE `{schema}`.`sceneaddresseselementrelationship`\n",
    "    SET ElementHasRelationshipToElementID = IFNULL(NewElementHasRelationshipToElementID, ElementHasRelationshipToElementID),\n",
    "        SceneAddressesElementRelationshipDescription = IFNULL(NewSceneAddressesElementRelationshipDescription, SceneAddressesElementRelationshipDescription),\n",
    "        SceneIncludesElementID = IFNULL(NewSceneIncludesElementID, SceneIncludesElementID)\n",
    "    WHERE SceneAddressesElementRelationshipID = ModifySceneAddressesElementRelationshipID;\n",
    "END\n",
    "\"\"\"\n",
    "try:\n",
    "    cursor.execute(CreateModifySceneAddressesElementRelationshipQuery)\n",
    "    print(\"Created ModifySceneAddressesElementRelationship procedure successfully.\")\n",
    "except connector.Error as error:\n",
    "    print(f\"Error creating ModifySceneAddressesElementRelationship procedure: {error}\")\n",
    "\n",
    "\n"
   ]
  },
  {
   "cell_type": "code",
   "execution_count": 88,
   "metadata": {},
   "outputs": [
    {
     "name": "stdout",
     "output_type": "stream",
     "text": [
      "Error dropping ModifySceneHasExampleOfElementName procedure: 1305: PROCEDURE testdisenchantment.ModifySceneHasExampleOfElementName does not exist\n",
      "Created ModifySceneHasExampleOfElementName procedure successfully.\n"
     ]
    }
   ],
   "source": [
    "## -----------------------------------------------------\n",
    "## procedure ModifySceneHasExampleOfElementName\n",
    "## -----------------------------------------------------\n",
    "\n",
    "# Drop procedure if it exists\n",
    "DropModifySceneHasExampleOfElementNameQuery = f\"DROP PROCEDURE IF EXISTS `{schema}`.`ModifySceneHasExampleOfElementName`\"\n",
    "try:\n",
    "    cursor.execute(DropModifySceneHasExampleOfElementNameQuery)\n",
    "    print(\"Dropped ModifySceneHasExampleOfElementName procedure successfully.\")\n",
    "except connector.Error as error:\n",
    "    print(f\"Error dropping ModifySceneHasExampleOfElementName procedure: {error}\")\n",
    "\n",
    "# Create the ModifySceneHasExampleOfElementName procedure\n",
    "CreateModifySceneHasExampleOfElementNameQuery = f\"\"\"\n",
    "CREATE PROCEDURE `{schema}`.`ModifySceneHasExampleOfElementName`(\n",
    "    IN SceneHasExampleOfElementNameIDToUpdate INT,\n",
    "    IN NewElementHasNameID INT,\n",
    "    IN NewEvidenceDescription VARCHAR(4095),\n",
    "    IN NewSceneIncludesElementID INT\n",
    ")\n",
    "BEGIN\n",
    "    UPDATE `{schema}`.`scenehasexampleofelementname`\n",
    "    SET ElementHasNameID = IFNULL(NewElementHasNameID, ElementHasNameID),\n",
    "        EvidenceDescription = IFNULL(NewEvidenceDescription, EvidenceDescription),\n",
    "        SceneIncludesElementID = IFNULL(NewSceneIncludesElementID, SceneIncludesElementID)\n",
    "    WHERE SceneHasExampleOfElementNameID = SceneHasExampleOfElementNameIDToUpdate;\n",
    "END\n",
    "\"\"\"\n",
    "try:\n",
    "    cursor.execute(CreateModifySceneHasExampleOfElementNameQuery)\n",
    "    print(\"Created ModifySceneHasExampleOfElementName procedure successfully.\")\n",
    "except connector.Error as error:\n",
    "    print(f\"Error creating ModifySceneHasExampleOfElementName procedure: {error}\")\n",
    "\n",
    "\n"
   ]
  },
  {
   "cell_type": "code",
   "execution_count": 89,
   "metadata": {},
   "outputs": [
    {
     "name": "stdout",
     "output_type": "stream",
     "text": [
      "Error dropping ModifySceneHasWish procedure: 1305: PROCEDURE testdisenchantment.ModifySceneHasWish does not exist\n",
      "Created ModifySceneHasWish procedure successfully.\n"
     ]
    }
   ],
   "source": [
    "## -----------------------------------------------------\n",
    "## procedure ModifySceneHasWish\n",
    "## -----------------------------------------------------\n",
    "\n",
    "# Drop procedure if it exists\n",
    "DropModifySceneHasWishQuery = f\"DROP PROCEDURE IF EXISTS `{schema}`.`ModifySceneHasWish`\"\n",
    "try:\n",
    "    cursor.execute(DropModifySceneHasWishQuery)\n",
    "    print(\"Dropped ModifySceneHasWish procedure successfully.\")\n",
    "except connector.Error as error:\n",
    "    print(f\"Error dropping ModifySceneHasWish procedure: {error}\")\n",
    "\n",
    "# Create the ModifySceneHasWish procedure\n",
    "CreateModifySceneHasWishQuery = f\"\"\"\n",
    "CREATE PROCEDURE `{schema}`.`ModifySceneHasWish`(\n",
    "    IN SceneHasWishIDValue INT,\n",
    "    IN WishIDValue INT,\n",
    "    IN WishGrantDenyValue VARCHAR(5),\n",
    "    IN SceneIncludesElementIDValue INT\n",
    ")\n",
    "BEGIN\n",
    "    UPDATE `{schema}`.`sceneincludeselementhaswish`\n",
    "    SET\n",
    "        WishID = WishIDValue,\n",
    "        WishGrantDeny = WishGrantDenyValue,\n",
    "        SceneIncludesElementID = SceneIncludesElementIDValue\n",
    "    WHERE SceneHasWishID = SceneHasWishIDValue;\n",
    "END\n",
    "\"\"\"\n",
    "try:\n",
    "    cursor.execute(CreateModifySceneHasWishQuery)\n",
    "    print(\"Created ModifySceneHasWish procedure successfully.\")\n",
    "except connector.Error as error:\n",
    "    print(f\"Error creating ModifySceneHasWish procedure: {error}\")\n"
   ]
  },
  {
   "cell_type": "code",
   "execution_count": 90,
   "metadata": {},
   "outputs": [
    {
     "name": "stdout",
     "output_type": "stream",
     "text": [
      "Error dropping ModifySceneIncludesElement procedure: 1305: PROCEDURE testdisenchantment.ModifySceneIncludesElement does not exist\n",
      "Created ModifySceneIncludesElement procedure successfully.\n"
     ]
    }
   ],
   "source": [
    "## -----------------------------------------------------\n",
    "## procedure ModifySceneIncludesElement\n",
    "## -----------------------------------------------------\n",
    "\n",
    "# Drop procedure if it exists\n",
    "DropModifySceneIncludesElementQuery = f\"DROP PROCEDURE IF EXISTS `{schema}`.`ModifySceneIncludesElement`\"\n",
    "try:\n",
    "    cursor.execute(DropModifySceneIncludesElementQuery)\n",
    "    print(\"Dropped ModifySceneIncludesElement procedure successfully.\")\n",
    "except connector.Error as error:\n",
    "    print(f\"Error dropping ModifySceneIncludesElement procedure: {error}\")\n",
    "\n",
    "# Create the ModifySceneIncludesElement procedure\n",
    "CreateModifySceneIncludesElementQuery = f\"\"\"\n",
    "CREATE PROCEDURE `{schema}`.`ModifySceneIncludesElement`(\n",
    "    IN ModifySceneIncludesElementID INT,\n",
    "    IN NewSceneID INT,\n",
    "    IN NewElementID INT,\n",
    "    IN NewInclusionDescription VARCHAR(4095),\n",
    "    IN NewSequentialID DECIMAL(11,5)\n",
    ")\n",
    "BEGIN\n",
    "    UPDATE `{schema}`.`sceneincludeselement`\n",
    "    SET SceneID = IFNULL(NewSceneID, SceneID),\n",
    "        ElementID = IFNULL(NewElementID, ElementID),\n",
    "        InclusionDescription = IFNULL(NewInclusionDescription, InclusionDescription),\n",
    "        SequentialID = IFNULL(NewSequentialID, SequentialID)\n",
    "    WHERE SceneIncludesElementID = ModifySceneIncludesElementID;\n",
    "END\n",
    "\"\"\"\n",
    "try:\n",
    "    cursor.execute(CreateModifySceneIncludesElementQuery)\n",
    "    print(\"Created ModifySceneIncludesElement procedure successfully.\")\n",
    "except connector.Error as error:\n",
    "    print(f\"Error creating ModifySceneIncludesElement procedure: {error}\")\n"
   ]
  },
  {
   "cell_type": "code",
   "execution_count": 91,
   "metadata": {},
   "outputs": [
    {
     "name": "stdout",
     "output_type": "stream",
     "text": [
      "Error dropping ModifyElement procedure: 1305: PROCEDURE testdisenchantment.ModifyElement does not exist\n",
      "Created ModifyElement procedure successfully.\n"
     ]
    }
   ],
   "source": [
    "## -----------------------------------------------------\n",
    "## procedure ModifyElement\n",
    "## -----------------------------------------------------\n",
    "\n",
    "# Drop procedure if it exists\n",
    "DropModifyElementQuery = f\"DROP PROCEDURE IF EXISTS `{schema}`.`ModifyElement`\"\n",
    "try:\n",
    "    cursor.execute(DropModifyElementQuery)\n",
    "    print(\"Dropped ModifyElement procedure successfully.\")\n",
    "except connector.Error as error:\n",
    "    print(f\"Error dropping ModifyElement procedure: {error}\")\n",
    "\n",
    "# Create the ModifyElement procedure\n",
    "CreateModifyElementQuery = f\"\"\"\n",
    "CREATE PROCEDURE `{schema}`.`ModifyElement`(\n",
    "    IN ElementIDToUpdate INT,\n",
    "    IN NewElementType VARCHAR(45),\n",
    "    IN NewElementReferenceName VARCHAR(255),\n",
    "    IN NewElementDescription VARCHAR(4095)\n",
    ")\n",
    "BEGIN\n",
    "    UPDATE `{schema}`.`element`\n",
    "    SET ElementType = IFNULL(NewElementType, ElementType),\n",
    "        ElementReferenceName = IFNULL(NewElementReferenceName, ElementReferenceName),\n",
    "        ElementDescription = IFNULL(NewElementDescription, ElementDescription)\n",
    "    WHERE ElementID = ElementIDToUpdate;\n",
    "END\n",
    "\"\"\"\n",
    "try:\n",
    "    cursor.execute(CreateModifyElementQuery)\n",
    "    print(\"Created ModifyElement procedure successfully.\")\n",
    "except connector.Error as error:\n",
    "    print(f\"Error creating ModifyElement procedure: {error}\")\n"
   ]
  },
  {
   "cell_type": "code",
   "execution_count": 92,
   "metadata": {},
   "outputs": [
    {
     "name": "stdout",
     "output_type": "stream",
     "text": [
      "Error dropping ModifyElementHasElementName procedure: 1305: PROCEDURE testdisenchantment.ModifyElementHasElementName does not exist\n",
      "Created ModifyElementHasElementName procedure successfully.\n"
     ]
    }
   ],
   "source": [
    "## -----------------------------------------------------\n",
    "## procedure ModifyElementHasElementName\n",
    "## -----------------------------------------------------\n",
    "\n",
    "# Drop procedure if it exists\n",
    "DropModifyElementHasElementNameQuery = f\"DROP PROCEDURE IF EXISTS `{schema}`.`ModifyElementHasElementName`\"\n",
    "try:\n",
    "    cursor.execute(DropModifyElementHasElementNameQuery)\n",
    "    print(\"Dropped ModifyElementHasElementName procedure successfully.\")\n",
    "except connector.Error as error:\n",
    "    print(f\"Error dropping ModifyElementHasElementName procedure: {error}\")\n",
    "\n",
    "# Create the ModifyElementHasElementName procedure\n",
    "CreateModifyElementHasElementNameQuery = f\"\"\"\n",
    "CREATE PROCEDURE `{schema}`.`ModifyElementHasElementName`(\n",
    "    IN ElementHasNameIDToUpdate INT,\n",
    "    IN NewElementID INT,\n",
    "    IN NewElementNameID INT\n",
    ")\n",
    "BEGIN\n",
    "    UPDATE `{schema}`.`elementhaselementname`\n",
    "    SET ElementID = IFNULL(NewElementID, ElementID),\n",
    "        ElementNameID = IFNULL(NewElementNameID, ElementNameID)\n",
    "    WHERE ElementHasNameID = ElementHasNameIDToUpdate;\n",
    "END\n",
    "\"\"\"\n",
    "try:\n",
    "    cursor.execute(CreateModifyElementHasElementNameQuery)\n",
    "    print(\"Created ModifyElementHasElementName procedure successfully.\")\n",
    "except connector.Error as error:\n",
    "    print(f\"Error creating ModifyElementHasElementName procedure: {error}\")\n"
   ]
  },
  {
   "cell_type": "code",
   "execution_count": 93,
   "metadata": {},
   "outputs": [
    {
     "name": "stdout",
     "output_type": "stream",
     "text": [
      "Error dropping ModifyElementHasRelationship procedure: 1305: PROCEDURE testdisenchantment.ModifyElementHasRelationship does not exist\n",
      "Created ModifyElementHasRelationship procedure successfully.\n"
     ]
    }
   ],
   "source": [
    "# -----------------------------------------------------\n",
    "## procedure ModifyElementHasRelationship\n",
    "# -----------------------------------------------------\n",
    "\n",
    "# Drop procedure if it exists\n",
    "DropModifyElementHasRelationshipQuery = f\"DROP PROCEDURE IF EXISTS `{schema}`.`ModifyElementHasRelationship`\"\n",
    "try:\n",
    "    cursor.execute(DropModifyElementHasRelationshipQuery)\n",
    "    print(\"Dropped ModifyElementHasRelationship procedure successfully.\")\n",
    "except connector.Error as error:\n",
    "    print(f\"Error dropping ModifyElementHasRelationship procedure: {error}\")\n",
    "\n",
    "# Create the ModifyElementHasRelationship procedure\n",
    "CreateModifyElementHasRelationshipQuery = f\"\"\"\n",
    "CREATE PROCEDURE `{schema}`.`ModifyElementHasRelationship`(\n",
    "    IN ElementHasRelationshipToElementIDValue INT,\n",
    "    IN Element1IDValue INT,\n",
    "    IN RelationshipIDValue INT,\n",
    "    IN Element2IDValue INT,\n",
    "    IN ExplanationValue VARCHAR(255),\n",
    "    IN RelationshipDurationIDValue INT,\n",
    "    IN RelationshipPriorityIDValue DECIMAL(4,2)\n",
    ")\n",
    "BEGIN\n",
    "    UPDATE `{schema}`.`elementhasrelationshiptoelement`\n",
    "    SET\n",
    "        Element1ID = Element1IDValue,\n",
    "        RelationshipID = RelationshipIDValue,\n",
    "        Element2ID = Element2IDValue,\n",
    "        Explanation = ExplanationValue,\n",
    "        RelationshipDurationID = DurationIDValue,\n",
    "        RelationshipPriorityID = RelationshipPriorityIDValue\n",
    "    WHERE ElementHasRelationshipToElementID = ElementHasRelationshipToElementIDValue;\n",
    "END\n",
    "\"\"\"\n",
    "\n",
    "try:\n",
    "    cursor.execute(CreateModifyElementHasRelationshipQuery)\n",
    "    print(\"Created ModifyElementHasRelationship procedure successfully.\")\n",
    "except connector.Error as error:\n",
    "    print(f\"Error creating ModifyElementHasRelationship procedure: {error}\")\n",
    "\n",
    "\n"
   ]
  },
  {
   "cell_type": "code",
   "execution_count": 94,
   "metadata": {},
   "outputs": [
    {
     "name": "stdout",
     "output_type": "stream",
     "text": [
      "Error dropping ModifyElementHasTrait procedure: 1305: PROCEDURE testdisenchantment.ModifyElementHasTrait does not exist\n",
      "Created ModifyElementHasTrait procedure successfully.\n"
     ]
    }
   ],
   "source": [
    "# -----------------------------------------------------\n",
    "## procedure ModifyElementHasTrait\n",
    "# -----------------------------------------------------\n",
    "\n",
    "# Drop procedure if it exists\n",
    "DropModifyElementHasTraitQuery = f\"DROP PROCEDURE IF EXISTS `{schema}`.`ModifyElementHasTrait`\"\n",
    "try:\n",
    "    cursor.execute(DropModifyElementHasTraitQuery)\n",
    "    print(\"Dropped ModifyElementHasTrait procedure successfully.\")\n",
    "except connector.Error as error:\n",
    "    print(f\"Error dropping ModifyElementHasTrait procedure: {error}\")\n",
    "\n",
    "# Create the ModifyElementHasTrait procedure\n",
    "CreateModifyElementHasTraitQuery = f\"\"\"\n",
    "CREATE PROCEDURE `{schema}`.`ModifyElementHasTrait`(\n",
    "    IN ElementHasTraitIDToUpdate INT,\n",
    "    IN NewElementID INT,\n",
    "    IN NewTraitID INT,\n",
    "    IN NewTraitDurationID INT,\n",
    "    IN NewElementHasTraitDescription VARCHAR(4095),\n",
    "    IN NewTraitPriority DECIMAL(4,2)\n",
    ")\n",
    "BEGIN\n",
    "    UPDATE elementhastrait\n",
    "    SET ElementID = IFNULL(NewElementID, ElementID),\n",
    "        TraitID = IFNULL(NewTraitID, TraitID),\n",
    "        TraitDurationID = IFNULL(NewTraitDurationID, TraitDurationID),\n",
    "        ElementHasTraitDescription = IFNULL(NewElementHasTraitDescription, ElementHasTraitDescription),\n",
    "        TraitPriority = IFNULL(NewTraitPriority, TraitPriority)\n",
    "    WHERE ElementHasTraitID = ElementHasTraitIDToUpdate;\n",
    "END\n",
    "\"\"\"\n",
    "try:\n",
    "    cursor.execute(CreateModifyElementHasTraitQuery)\n",
    "    print(\"Created ModifyElementHasTrait procedure successfully.\")\n",
    "except connector.Error as error:\n",
    "    print(f\"Error creating ModifyElementHasTrait procedure: {error}\")\n"
   ]
  },
  {
   "cell_type": "code",
   "execution_count": 95,
   "metadata": {},
   "outputs": [
    {
     "name": "stdout",
     "output_type": "stream",
     "text": [
      "Error dropping ModifyElementName procedure: 1305: PROCEDURE testdisenchantment.ModifyElementName does not exist\n",
      "Created ModifyElementName procedure successfully.\n"
     ]
    }
   ],
   "source": [
    "# -----------------------------------------------------\n",
    "## procedure ModifyElementName\n",
    "# -----------------------------------------------------\n",
    "\n",
    "# Drop procedure if it exists\n",
    "DropModifyElementNameQuery = f\"DROP PROCEDURE IF EXISTS `{schema}`.`ModifyElementName`\"\n",
    "try:\n",
    "    cursor.execute(DropModifyElementNameQuery)\n",
    "    print(\"Dropped ModifyElementName procedure successfully.\")\n",
    "except connector.Error as error:\n",
    "    print(f\"Error dropping ModifyElementName procedure: {error}\")\n",
    "\n",
    "# Create the ModifyElementName procedure\n",
    "CreateModifyElementNameQuery = f\"\"\"\n",
    "CREATE PROCEDURE `{schema}`.`ModifyElementName`(\n",
    "    IN ElementNameIDValue INT,\n",
    "    IN ElementNameValue VARCHAR(255),\n",
    "    IN NameTypeValue VARCHAR(255),\n",
    "    IN NamePriorityValue VARCHAR(255)\n",
    ")\n",
    "BEGIN\n",
    "    UPDATE `{schema}`.`elementname`\n",
    "    SET\n",
    "        ElementName = ElementNameValue,\n",
    "        NameType = NameTypeValue,\n",
    "        NamePriority = NamePriorityValue\n",
    "    WHERE ElementNameID = ElementNameIDValue;\n",
    "END\n",
    "\"\"\"\n",
    "try:\n",
    "    cursor.execute(CreateModifyElementNameQuery)\n",
    "    print(\"Created ModifyElementName procedure successfully.\")\n",
    "except connector.Error as error:\n",
    "    print(f\"Error creating ModifyElementName procedure: {error}\")\n",
    "\n"
   ]
  },
  {
   "cell_type": "code",
   "execution_count": 96,
   "metadata": {},
   "outputs": [
    {
     "name": "stdout",
     "output_type": "stream",
     "text": [
      "Error dropping ModifyRelationship procedure: 1305: PROCEDURE testdisenchantment.ModifyRelationship does not exist\n",
      "Created ModifyRelationship procedure successfully.\n"
     ]
    }
   ],
   "source": [
    "# -----------------------------------------------------\n",
    "## procedure ModifyRelationship\n",
    "# -----------------------------------------------------\n",
    "\n",
    "# Drop procedure if it exists\n",
    "DropModifyRelationshipQuery = f\"DROP PROCEDURE IF EXISTS `{schema}`.`ModifyRelationship`\"\n",
    "try:\n",
    "    cursor.execute(DropModifyRelationshipQuery)\n",
    "    print(\"Dropped ModifyRelationship procedure successfully.\")\n",
    "except connector.Error as error:\n",
    "    print(f\"Error dropping ModifyRelationship procedure: {error}\")\n",
    "\n",
    "# Create the ModifyRelationship procedure\n",
    "CreateModifyRelationshipQuery = f\"\"\"\n",
    "CREATE PROCEDURE `{schema}`.`ModifyRelationship`(\n",
    "    IN ModifyRelationshipID INT,\n",
    "    IN NewRelationshipType VARCHAR(255),\n",
    "    IN NewRelationshipTypeUniversalDescription VARCHAR(4095)\n",
    ")\n",
    "BEGIN\n",
    "    UPDATE `{schema}`.`relationship`\n",
    "    SET RelationshipType = IFNULL(NewRelationshipType, RelationshipType),\n",
    "        RelationshipTypeUniversalDescription = IFNULL(NewRelationshipTypeUniversalDescription, RelationshipTypeUniversalDescription)\n",
    "    WHERE RelationshipID = ModifyRelationshipID;\n",
    "END\n",
    "\"\"\"\n",
    "try:\n",
    "    cursor.execute(CreateModifyRelationshipQuery)\n",
    "    print(\"Created ModifyRelationship procedure successfully.\")\n",
    "except connector.Error as error:\n",
    "    print(f\"Error creating ModifyRelationship procedure: {error}\")\n"
   ]
  },
  {
   "cell_type": "code",
   "execution_count": 97,
   "metadata": {},
   "outputs": [
    {
     "name": "stdout",
     "output_type": "stream",
     "text": [
      "Error dropping ModifyTrait procedure: 1305: PROCEDURE testdisenchantment.ModifyTrait does not exist\n",
      "Created ModifyTrait procedure successfully.\n"
     ]
    }
   ],
   "source": [
    "# -----------------------------------------------------\n",
    "## procedure ModifyTrait\n",
    "# -----------------------------------------------------\n",
    "\n",
    "# Drop procedure if it exists\n",
    "DropModifyTraitQuery = f\"DROP PROCEDURE IF EXISTS `{schema}`.`ModifyTrait`\"\n",
    "try:\n",
    "    cursor.execute(DropModifyTraitQuery)\n",
    "    print(\"Dropped ModifyTrait procedure successfully.\")\n",
    "except connector.Error as error:\n",
    "    print(f\"Error dropping ModifyTrait procedure: {error}\")\n",
    "\n",
    "# Create the ModifyTrait procedure\n",
    "CreateModifyTraitQuery = f\"\"\"\n",
    "CREATE PROCEDURE `{schema}`.`ModifyTrait`(\n",
    "    IN TraitIDToUpdate INT,\n",
    "    IN NewTraitName VARCHAR(255),\n",
    "    IN NewTraitUniversalDescription VARCHAR(255)\n",
    ")\n",
    "BEGIN\n",
    "    UPDATE trait\n",
    "    SET TraitName = IFNULL(NewTraitName, TraitName),\n",
    "        TraitUniversalDescription = IFNULL(NewTraitUniversalDescription, TraitUniversalDescription)\n",
    "    WHERE TraitID = TraitIDToUpdate;\n",
    "END\n",
    "\"\"\"\n",
    "try:\n",
    "    cursor.execute(CreateModifyTraitQuery)\n",
    "    print(\"Created ModifyTrait procedure successfully.\")\n",
    "except connector.Error as error:\n",
    "    print(f\"Error creating ModifyTrait procedure: {error}\")\n",
    "\n"
   ]
  },
  {
   "cell_type": "code",
   "execution_count": 98,
   "metadata": {},
   "outputs": [
    {
     "name": "stdout",
     "output_type": "stream",
     "text": [
      "Error dropping ModifyWish procedure: 1305: PROCEDURE testdisenchantment.ModifyWish does not exist\n",
      "Created ModifyWish procedure successfully.\n"
     ]
    }
   ],
   "source": [
    "# -----------------------------------------------------\n",
    "## procedure ModifyWish\n",
    "# -----------------------------------------------------\n",
    "\n",
    "# Drop procedure if it exists\n",
    "DropModifyWishQuery = f\"DROP PROCEDURE IF EXISTS `{schema}`.`ModifyWish`\"\n",
    "try:\n",
    "    cursor.execute(DropModifyWishQuery)\n",
    "    print(\"Dropped ModifyWish procedure successfully.\")\n",
    "except connector.Error as error:\n",
    "    print(f\"Error dropping ModifyWish procedure: {error}\")\n",
    "\n",
    "# Create the ModifyWish procedure\n",
    "CreateModifyWishQuery = f\"\"\"\n",
    "CREATE PROCEDURE `{schema}`.`ModifyWish`(\n",
    "    IN WishIDValue INT,\n",
    "    IN WishQuoteValue VARCHAR(4095),\n",
    "    IN DescriptionValue VARCHAR(4095),\n",
    "    IN CurrentStatusDescriptionValue VARCHAR(4095)\n",
    ")\n",
    "BEGIN\n",
    "    UPDATE `{schema}`.`wish`\n",
    "    SET\n",
    "        WishQuote = IFNULL(WishQuoteValue, WishQuote),\n",
    "        Description = IFNULL(DescriptionValue, Description),\n",
    "        CurrentStatusDescription = IFNULL(CurrentStatusDescriptionValue, CurrentStatusDescription)\n",
    "    WHERE WishID = WishIDValue;\n",
    "END\n",
    "\"\"\"\n",
    "try:\n",
    "    cursor.execute(CreateModifyWishQuery)\n",
    "    print(\"Created ModifyWish procedure successfully.\")\n",
    "except connector.Error as error:\n",
    "    print(f\"Error creating ModifyWish procedure: {error}\")\n"
   ]
  },
  {
   "cell_type": "code",
   "execution_count": 99,
   "metadata": {},
   "outputs": [
    {
     "name": "stdout",
     "output_type": "stream",
     "text": [
      "Error dropping AddNullTraitDuration procedure: 1305: PROCEDURE testdisenchantment.AddNullTraitDuration does not exist\n",
      "Created AddNullTraitDuration procedure successfully.\n"
     ]
    }
   ],
   "source": [
    "## -----------------------------------------------------\n",
    "## procedure AddNullTraitDuration\n",
    "## -----------------------------------------------------\n",
    "\n",
    "# Drop procedure if it exists\n",
    "DropAddNullTraitDurationQuery = f\"DROP PROCEDURE IF EXISTS `{schema}`.`AddNullTraitDuration`\"\n",
    "try:\n",
    "    cursor.execute(DropAddNullTraitDurationQuery)\n",
    "    print(\"Dropped AddNullTraitDuration procedure successfully.\")\n",
    "except connector.Error as error:\n",
    "    print(f\"Error dropping AddNullTraitDuration procedure: {error}\")\n",
    "\n",
    "# Create the AddNullTraitDuration procedure\n",
    "CreateAddNullTraitDurationQuery = f\"\"\"\n",
    "CREATE PROCEDURE `{schema}`.`AddNullTraitDuration`()\n",
    "BEGIN\n",
    "    INSERT INTO `{schema}`.`traitduration` (StartSceneDescription, StartSceneIncludesElementID, EndSceneDescription, EndSceneIncludesElementID)\n",
    "    VALUES (NULL, NULL, NULL, NULL);\n",
    "END\n",
    "\"\"\"\n",
    "try:\n",
    "    cursor.execute(CreateAddNullTraitDurationQuery)\n",
    "    print(\"Created AddNullTraitDuration procedure successfully.\")\n",
    "except connector.Error as error:\n",
    "    print(f\"Error creating AddNullTraitDuration procedure: {error}\")"
   ]
  },
  {
   "cell_type": "code",
   "execution_count": 100,
   "metadata": {},
   "outputs": [
    {
     "name": "stdout",
     "output_type": "stream",
     "text": [
      "Error dropping AddNullRelationshipDuration procedure: 1305: PROCEDURE testdisenchantment.AddNullRelationshipDuration does not exist\n",
      "Created AddNullRelationshipDuration procedure successfully.\n"
     ]
    }
   ],
   "source": [
    "## -----------------------------------------------------\n",
    "## procedure AddNullRelationshipDuration\n",
    "## -----------------------------------------------------\n",
    "\n",
    "# Drop procedure if it exists\n",
    "DropAddNullRelationshipDurationQuery = f\"DROP PROCEDURE IF EXISTS `{schema}`.`AddNullRelationshipDuration`\"\n",
    "try:\n",
    "    cursor.execute(DropAddNullRelationshipDurationQuery)\n",
    "    print(\"Dropped AddNullRelationshipDuration procedure successfully.\")\n",
    "except connector.Error as error:\n",
    "    print(f\"Error dropping AddNullRelationshipDuration procedure: {error}\")\n",
    "\n",
    "# Create the AddNullRelationshipDuration procedure\n",
    "CreateAddNullRelationshipDurationQuery = f\"\"\"\n",
    "CREATE PROCEDURE `{schema}`.`AddNullRelationshipDuration`()\n",
    "BEGIN\n",
    "    INSERT INTO `{schema}`.`traitduration` (StartSceneDescription, StartSceneIncludesElementID, EndSceneDescription, EndSceneIncludesElementID)\n",
    "    VALUES (NULL, NULL, NULL, NULL);\n",
    "END\n",
    "\"\"\"\n",
    "try:\n",
    "    cursor.execute(CreateAddNullRelationshipDurationQuery)\n",
    "    print(\"Created AddNullRelationshipDuration procedure successfully.\")\n",
    "except connector.Error as error:\n",
    "    print(f\"Error creating AddNullRelationshipDuration procedure: {error}\")"
   ]
  },
  {
   "cell_type": "code",
   "execution_count": 101,
   "metadata": {},
   "outputs": [],
   "source": [
    "##-----------------------------------------------------\n",
    "## Views\n",
    "##-----------------------------------------------------\n"
   ]
  },
  {
   "cell_type": "code",
   "execution_count": 102,
   "metadata": {},
   "outputs": [
    {
     "name": "stdout",
     "output_type": "stream",
     "text": [
      "Error dropping SceneView: 1051: Unknown table 'testdisenchantment.sceneview'\n",
      "Created SceneView successfully.\n"
     ]
    }
   ],
   "source": [
    "##---------------------------------------------------------------------------------------------\n",
    "##-sceneview\n",
    "##---------------------------------------------------------------------------------------------\n",
    "\n",
    "\n",
    "# Drop the existing view if it exists\n",
    "DropSceneViewStatement = f\"DROP VIEW IF EXISTS `{schema}`.`sceneview`\"\n",
    "try:\n",
    "    cursor.execute(DropSceneViewStatement)\n",
    "    print(\"Dropped SceneView successfully.\")\n",
    "except connector.Error as error:\n",
    "    print(f\"Error dropping SceneView: {error}\")\n",
    "\n",
    "# Create the view\n",
    "CreateSceneViewStatement = \"\"\"\n",
    "CREATE OR REPLACE VIEW `\"\"\"+schema+\"\"\"`.`sceneview` AS\n",
    "SELECT s.SceneID, s.SceneName, sie.InclusionDescription AS InclusionDescription, sie.SceneIncludesElementID, sie.ElementID,\n",
    "    CASE\n",
    "        WHEN e.ElementReferenceName IS NOT NULL THEN e.ElementReferenceName\n",
    "        ELSE 'other notes'\n",
    "    END AS ElementReferenceName, \n",
    "    CASE\n",
    "        WHEN saeht.SceneIncludesElementID IS NOT NULL THEN 'sceneaddresseselementhastrait'\n",
    "        WHEN saer.SceneIncludesElementID IS NOT NULL THEN 'sceneaddresseselementrelationship'\n",
    "        WHEN sheen.SceneIncludesElementID IS NOT NULL THEN 'scenehasexampleofelementname'\n",
    "        WHEN siehw.SceneIncludesElementID IS NOT NULL THEN 'sceneincludeselementhaswish'\n",
    "        ELSE 'other notes'\n",
    "    END AS TableName,\n",
    "    sie.SequentialID AS SequentialID\n",
    "FROM sceneincludeselement sie\n",
    "LEFT JOIN scene s ON sie.SceneID = s.SceneID\n",
    "LEFT JOIN element e ON sie.ElementID = e.ElementID\n",
    "LEFT JOIN sceneaddresseselementhastrait saeht ON sie.SceneIncludesElementID = saeht.SceneIncludesElementID\n",
    "LEFT JOIN sceneaddresseselementrelationship saer ON sie.SceneIncludesElementID = saer.SceneIncludesElementID\n",
    "LEFT JOIN scenehasexampleofelementname sheen ON sie.SceneIncludesElementID = sheen.SceneIncludesElementID\n",
    "LEFT JOIN sceneincludeselementhaswish siehw ON sie.SceneIncludesElementID = siehw.SceneIncludesElementID\n",
    "\"\"\"\n",
    "try:\n",
    "    cursor.execute(CreateSceneViewStatement)\n",
    "    print(\"Created SceneView successfully.\")\n",
    "except connector.Error as error:\n",
    "    print(f\"Error creating SceneView: {error}\")\n",
    "\n"
   ]
  },
  {
   "cell_type": "code",
   "execution_count": 103,
   "metadata": {},
   "outputs": [
    {
     "name": "stdout",
     "output_type": "stream",
     "text": [
      "Error dropping addelementtraitview: 1051: Unknown table 'testdisenchantment.addelementtraitview'\n",
      "Created elementhastraitview successfully.\n"
     ]
    }
   ],
   "source": [
    "##---------------------------------------------------------------------------------------------\n",
    "##-addelementtraitview\n",
    "##---------------------------------------------------------------------------------------------\n",
    "\n",
    "# Drop the existing view if it exists\n",
    "DropElementHasTraitViewStatement = f\"DROP VIEW IF EXISTS `{schema}`.`addelementtraitview`\"\n",
    "try:\n",
    "    cursor.execute(DropElementHasTraitViewStatement)\n",
    "    print(\"Dropped addelementhastraitview successfully.\")\n",
    "except connector.Error as error:\n",
    "    print(f\"Error dropping addelementtraitview: {error}\")\n",
    "\n",
    "# Create the view\n",
    "CreateElementHasTraitViewStatement = \"\"\"\n",
    "CREATE OR REPLACE VIEW `\"\"\"+schema+\"\"\"`.`addelementhastraitview` AS\n",
    "SELECT t.TraitName AS TraitName, e.ElementID AS ElementID, e.ElementReferenceName AS ElementReferenceName, eht.TraitID AS TraitID\n",
    "FROM element e\n",
    "LEFT JOIN elementhastrait eht ON e.ElementID = eht.ElementID\n",
    "LEFT JOIN trait t on eht.TraitID = t.TraitID\n",
    "\"\"\"\n",
    "try:\n",
    "    cursor.execute(CreateElementHasTraitViewStatement)\n",
    "    print(\"Created elementhastraitview successfully.\")\n",
    "except connector.Error as error:\n",
    "    print(f\"Error creating elementhastraitview: {error}\")\n"
   ]
  },
  {
   "cell_type": "code",
   "execution_count": 104,
   "metadata": {},
   "outputs": [
    {
     "name": "stdout",
     "output_type": "stream",
     "text": [
      "Error dropping addelementnameview: 1051: Unknown table 'testdisenchantment.addelementnameview'\n",
      "Created addelementnameview successfully.\n"
     ]
    }
   ],
   "source": [
    "##---------------------------------------------------------------------------------------------\n",
    "##-addelementnameview\n",
    "##---------------------------------------------------------------------------------------------\n",
    "\n",
    "# Drop the existing view if it exists\n",
    "DropAddElementHasNameViewStatement = f\"DROP VIEW IF EXISTS `{schema}`.`addelementnameview`\"\n",
    "try:\n",
    "    cursor.execute(DropAddElementHasNameViewStatement)\n",
    "    print(\"Dropped addelementnameview successfully.\")\n",
    "except connector.Error as error:\n",
    "    print(f\"Error dropping addelementnameview: {error}\")\n",
    "\n",
    "# Create the view\n",
    "CreateAddElementHasNameViewStatement = \"\"\"\n",
    "CREATE OR REPLACE VIEW `\"\"\"+schema+\"\"\"`.`addelementnameview` AS\n",
    "SELECT e.ElementReferenceName AS ElementReferenceName, e.ElementID AS ElementID, sie.SceneIncludesElementID AS SceneIncludesElementID, sie.SceneID AS SceneID, sheen.SceneHasExampleOfElementNameID as SceneHasExampleOfElementNameID, sheen.EvidenceDescription, ehen.ElementHasNameID AS ElementHasNameID, ehen.ElementNameID AS ElementNameID, en.ElementName AS ElementName, en.NameType AS NameType, en.NamePriority AS NamePriority\n",
    "FROM sceneincludeselement AS sie\n",
    "LEFT JOIN element e ON sie.ElementID = e.ElementID\n",
    "LEFT JOIN scene s ON sie.SceneID = s.SceneID\n",
    "LEFT JOIN scenehasexampleofelementname sheen ON sie.SceneIncludesElementID = sheen.SceneIncludesElementID\n",
    "LEFT JOIN elementhaselementname ehen ON e.ElementID = ehen.ElementID\n",
    "LEFT JOIN elementname en ON ehen.ElementNameID = en.ElementNameID\n",
    "\"\"\"\n",
    "try:\n",
    "    cursor.execute(CreateAddElementHasNameViewStatement)\n",
    "    print(\"Created addelementnameview successfully.\")\n",
    "except connector.Error as error:\n",
    "    print(f\"Error creating addelementnameview: {error}\")"
   ]
  },
  {
   "cell_type": "code",
   "execution_count": 105,
   "metadata": {},
   "outputs": [],
   "source": [
    "cursor.close()\n",
    "connection.close()"
   ]
  }
 ],
 "metadata": {
  "kernelspec": {
   "display_name": "Python 3",
   "language": "python",
   "name": "python3"
  },
  "language_info": {
   "codemirror_mode": {
    "name": "ipython",
    "version": 3
   },
   "file_extension": ".py",
   "mimetype": "text/x-python",
   "name": "python",
   "nbconvert_exporter": "python",
   "pygments_lexer": "ipython3",
   "version": "3.10.8"
  },
  "orig_nbformat": 4
 },
 "nbformat": 4,
 "nbformat_minor": 2
}
