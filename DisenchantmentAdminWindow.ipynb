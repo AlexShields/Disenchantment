{
 "cells": [
  {
   "cell_type": "code",
   "execution_count": 10,
   "metadata": {},
   "outputs": [
    {
     "name": "stdout",
     "output_type": "stream",
     "text": [
      "Connection between MySQL and Python is established.\n",
      "\n",
      "Connection to the database is closed.\n",
      "\n"
     ]
    }
   ],
   "source": [
    "import tkinter as tk\n",
    "import mysql.connector as connector\n",
    "\n",
    "def connect_to_database():\n",
    "    global connection\n",
    "    try:\n",
    "        # Retrieve the password from the entry widget\n",
    "        password = password_entry.get()\n",
    "\n",
    "        # Establish connection between Python and MySQL database via connector API\n",
    "        connection = connector.connect(host=\"localhost\",\n",
    "                                       user=\"DisenchantmentAdmin\", # use your own\n",
    "                                       password=password, # use the entered password\n",
    "                                       raise_on_warnings=True)\n",
    "        print(\"Connection between MySQL and Python is established.\\n\")\n",
    "        connection_label.config(text=\"Connected\")\n",
    "        open_second_window()\n",
    "    except connector.Error as err:\n",
    "        print(f\"Error connecting to the database: {err}\")\n",
    "\n",
    "def close_connection():\n",
    "    global connection\n",
    "    try:\n",
    "        # Close the database connection\n",
    "        connection.close()\n",
    "        print(\"Connection to the database is closed.\\n\")\n",
    "        connection_label.config(text=\"Not Connected\")\n",
    "    except connector.Error as err:\n",
    "        print(f\"Error closing the connection: {err}\")\n",
    "\n",
    "def open_second_window():\n",
    "    second_window = tk.Toplevel()\n",
    "    second_window.title(\"Second Window\")\n",
    "\n",
    "    # Create the \"Elements\" button in the second window\n",
    "    elements_button = tk.Button(second_window, text=\"Elements\")\n",
    "    elements_button.pack()\n",
    "\n",
    "# Create the main window\n",
    "window = tk.Tk()\n",
    "\n",
    "# Create the password entry widget\n",
    "password_entry = tk.Entry(window, show=\"*\")\n",
    "password_entry.pack()\n",
    "\n",
    "# Create the \"Connect\" button\n",
    "connect_button = tk.Button(window, text=\"Connect\", command=connect_to_database)\n",
    "connect_button.pack()\n",
    "\n",
    "# Create the \"Close Connection\" button\n",
    "close_button = tk.Button(window, text=\"Close Connection\", command=close_connection)\n",
    "close_button.pack()\n",
    "\n",
    "# Create the connection status label\n",
    "connection_label = tk.Label(window, text=\"Not Connected\")\n",
    "connection_label.pack()\n",
    "\n",
    "# Start the Tkinter event loop\n",
    "window.mainloop()\n"
   ]
  }
 ],
 "metadata": {
  "kernelspec": {
   "display_name": "Python 3",
   "language": "python",
   "name": "python3"
  },
  "language_info": {
   "codemirror_mode": {
    "name": "ipython",
    "version": 3
   },
   "file_extension": ".py",
   "mimetype": "text/x-python",
   "name": "python",
   "nbconvert_exporter": "python",
   "pygments_lexer": "ipython3",
   "version": "3.10.8"
  },
  "orig_nbformat": 4
 },
 "nbformat": 4,
 "nbformat_minor": 2
}
