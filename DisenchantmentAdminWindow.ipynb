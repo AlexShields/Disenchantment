{
 "cells": [
  {
   "cell_type": "code",
   "execution_count": 5,
   "metadata": {},
   "outputs": [],
   "source": [
    "## Import tkinter \n",
    "import tkinter as tk\n",
    "\n"
   ]
  },
  {
   "cell_type": "code",
   "execution_count": 6,
   "metadata": {},
   "outputs": [
    {
     "ename": "TclError",
     "evalue": "bad fill style \"n\": must be none, x, y, or both",
     "output_type": "error",
     "traceback": [
      "\u001b[1;31m---------------------------------------------------------------------------\u001b[0m",
      "\u001b[1;31mTclError\u001b[0m                                  Traceback (most recent call last)",
      "Cell \u001b[1;32mIn[6], line 5\u001b[0m\n\u001b[0;32m      3\u001b[0m windowMessage \u001b[39m=\u001b[39m tk\u001b[39m.\u001b[39mLabel(text\u001b[39m=\u001b[39m\u001b[39m\"\u001b[39m\u001b[39mAdmin Window Introduction Message\u001b[39m\u001b[39m\"\u001b[39m)\n\u001b[0;32m      4\u001b[0m frame1 \u001b[39m=\u001b[39m tk\u001b[39m.\u001b[39mFrame(master\u001b[39m=\u001b[39madminWindow, width\u001b[39m=\u001b[39m\u001b[39m350\u001b[39m, height\u001b[39m=\u001b[39m\u001b[39m100\u001b[39m, bg\u001b[39m=\u001b[39m\u001b[39m\"\u001b[39m\u001b[39mwhite\u001b[39m\u001b[39m\"\u001b[39m)\n\u001b[1;32m----> 5\u001b[0m frame1\u001b[39m.\u001b[39;49mpack(fill\u001b[39m=\u001b[39;49mtk\u001b[39m.\u001b[39;49mN, side\u001b[39m=\u001b[39;49mtk\u001b[39m.\u001b[39;49mLEFT)\n\u001b[0;32m      7\u001b[0m frame2 \u001b[39m=\u001b[39m tk\u001b[39m.\u001b[39mFrame(master\u001b[39m=\u001b[39madminWindow, width\u001b[39m=\u001b[39m\u001b[39m350\u001b[39m, height\u001b[39m=\u001b[39m\u001b[39m100\u001b[39m, bg\u001b[39m=\u001b[39m\u001b[39m\"\u001b[39m\u001b[39mwhite\u001b[39m\u001b[39m\"\u001b[39m)\n\u001b[0;32m      8\u001b[0m frame2\u001b[39m.\u001b[39mpack(fill\u001b[39m=\u001b[39mtk\u001b[39m.\u001b[39mN, side\u001b[39m=\u001b[39mtk\u001b[39m.\u001b[39mLEFT)\n",
      "File \u001b[1;32mc:\\Users\\Alex\\AppData\\Local\\Programs\\Python\\Python310\\lib\\tkinter\\__init__.py:2425\u001b[0m, in \u001b[0;36mPack.pack_configure\u001b[1;34m(self, cnf, **kw)\u001b[0m\n\u001b[0;32m   2409\u001b[0m \u001b[39mdef\u001b[39;00m \u001b[39mpack_configure\u001b[39m(\u001b[39mself\u001b[39m, cnf\u001b[39m=\u001b[39m{}, \u001b[39m*\u001b[39m\u001b[39m*\u001b[39mkw):\n\u001b[0;32m   2410\u001b[0m     \u001b[39m\"\"\"Pack a widget in the parent widget. Use as options:\u001b[39;00m\n\u001b[0;32m   2411\u001b[0m \u001b[39m    after=widget - pack it after you have packed widget\u001b[39;00m\n\u001b[0;32m   2412\u001b[0m \u001b[39m    anchor=NSEW (or subset) - position widget according to\u001b[39;00m\n\u001b[1;32m   (...)\u001b[0m\n\u001b[0;32m   2423\u001b[0m \u001b[39m    side=TOP or BOTTOM or LEFT or RIGHT -  where to add this widget.\u001b[39;00m\n\u001b[0;32m   2424\u001b[0m \u001b[39m    \"\"\"\u001b[39;00m\n\u001b[1;32m-> 2425\u001b[0m     \u001b[39mself\u001b[39;49m\u001b[39m.\u001b[39;49mtk\u001b[39m.\u001b[39;49mcall(\n\u001b[0;32m   2426\u001b[0m           (\u001b[39m'\u001b[39;49m\u001b[39mpack\u001b[39;49m\u001b[39m'\u001b[39;49m, \u001b[39m'\u001b[39;49m\u001b[39mconfigure\u001b[39;49m\u001b[39m'\u001b[39;49m, \u001b[39mself\u001b[39;49m\u001b[39m.\u001b[39;49m_w)\n\u001b[0;32m   2427\u001b[0m           \u001b[39m+\u001b[39;49m \u001b[39mself\u001b[39;49m\u001b[39m.\u001b[39;49m_options(cnf, kw))\n",
      "\u001b[1;31mTclError\u001b[0m: bad fill style \"n\": must be none, x, y, or both"
     ]
    },
    {
     "ename": "",
     "evalue": "",
     "output_type": "error",
     "traceback": [
      "\u001b[1;31mThe Kernel crashed while executing code in the the current cell or a previous cell. Please review the code in the cell(s) to identify a possible cause of the failure. Click <a href='https://aka.ms/vscodeJupyterKernelCrash'>here</a> for more info. View Jupyter <a href='command:jupyter.viewOutput'>log</a> for further details."
     ]
    }
   ],
   "source": [
    "## Create Admin Window and establish it as part of the main event loop\n",
    "adminWindow = tk.Tk()\n",
    "windowMessage = tk.Label(text=\"Admin Window Introduction Message\")\n",
    "sceneButton = tk.Button(\n",
    "    frame1,\n",
    "    text=\"Scenes\",\n",
    "    width=200,\n",
    "    height=25,\n",
    "    bg=\"gray\",\n",
    "    fg=\"black\",\n",
    ")\n",
    "sceneButton.place(x=0, y=0)\n",
    "elementButton = tk.Button(\n",
    "    \n",
    "    text=\"Elements\",\n",
    "    width=200,\n",
    "    height=25,\n",
    "    bg=\"gray\",\n",
    "    fg=\"black\",\n",
    ")\n",
    "elementButton.place(x=0, y=0)\n",
    "elementButton.pack()\n",
    "\n",
    "adminWindow.mainloop()"
   ]
  },
  {
   "cell_type": "code",
   "execution_count": null,
   "metadata": {},
   "outputs": [],
   "source": []
  }
 ],
 "metadata": {
  "kernelspec": {
   "display_name": "Python 3",
   "language": "python",
   "name": "python3"
  },
  "language_info": {
   "codemirror_mode": {
    "name": "ipython",
    "version": 3
   },
   "file_extension": ".py",
   "mimetype": "text/x-python",
   "name": "python",
   "nbconvert_exporter": "python",
   "pygments_lexer": "ipython3",
   "version": "3.10.8"
  },
  "orig_nbformat": 4
 },
 "nbformat": 4,
 "nbformat_minor": 2
}
