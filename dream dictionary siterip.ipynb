{
 "cells": [
  {
   "cell_type": "code",
   "execution_count": 72,
   "metadata": {},
   "outputs": [
    {
     "name": "stdout",
     "output_type": "stream",
     "text": [
      "Looking in indexes: https://pypi.org/simple, https://pypi.ngc.nvidia.com\n",
      "Requirement already satisfied: beautifulsoup4 in c:\\users\\alex\\appdata\\local\\programs\\python\\python310\\lib\\site-packages (4.11.1)\n",
      "Requirement already satisfied: soupsieve>1.2 in c:\\users\\alex\\appdata\\local\\programs\\python\\python310\\lib\\site-packages (from beautifulsoup4) (2.3.2.post1)\n",
      "Note: you may need to restart the kernel to use updated packages.\n",
      "Looking in indexes: https://pypi.org/simple, https://pypi.ngc.nvidia.com\n",
      "Requirement already satisfied: requests in c:\\users\\alex\\appdata\\local\\programs\\python\\python310\\lib\\site-packages (2.31.0)\n",
      "Requirement already satisfied: charset-normalizer<4,>=2 in c:\\users\\alex\\appdata\\local\\programs\\python\\python310\\lib\\site-packages (from requests) (3.2.0)\n",
      "Requirement already satisfied: idna<4,>=2.5 in c:\\users\\alex\\appdata\\local\\programs\\python\\python310\\lib\\site-packages (from requests) (3.4)\n",
      "Requirement already satisfied: urllib3<3,>=1.21.1 in c:\\users\\alex\\appdata\\local\\programs\\python\\python310\\lib\\site-packages (from requests) (2.0.4)\n",
      "Requirement already satisfied: certifi>=2017.4.17 in c:\\users\\alex\\appdata\\local\\programs\\python\\python310\\lib\\site-packages (from requests) (2023.7.22)\n",
      "Note: you may need to restart the kernel to use updated packages.\n",
      "Looking in indexes: https://pypi.org/simple, https://pypi.ngc.nvidia.com\n",
      "Requirement already satisfied: selenium in c:\\users\\alex\\appdata\\local\\programs\\python\\python310\\lib\\site-packages (4.11.2)\n",
      "Requirement already satisfied: urllib3[socks]<3,>=1.26 in c:\\users\\alex\\appdata\\local\\programs\\python\\python310\\lib\\site-packages (from selenium) (2.0.4)\n",
      "Requirement already satisfied: trio~=0.17 in c:\\users\\alex\\appdata\\local\\programs\\python\\python310\\lib\\site-packages (from selenium) (0.22.2)\n",
      "Requirement already satisfied: trio-websocket~=0.9 in c:\\users\\alex\\appdata\\local\\programs\\python\\python310\\lib\\site-packages (from selenium) (0.10.3)\n",
      "Requirement already satisfied: certifi>=2021.10.8 in c:\\users\\alex\\appdata\\local\\programs\\python\\python310\\lib\\site-packages (from selenium) (2023.7.22)\n",
      "Requirement already satisfied: attrs>=20.1.0 in c:\\users\\alex\\appdata\\local\\programs\\python\\python310\\lib\\site-packages (from trio~=0.17->selenium) (22.2.0)\n",
      "Requirement already satisfied: sortedcontainers in c:\\users\\alex\\appdata\\local\\programs\\python\\python310\\lib\\site-packages (from trio~=0.17->selenium) (2.4.0)\n",
      "Requirement already satisfied: idna in c:\\users\\alex\\appdata\\local\\programs\\python\\python310\\lib\\site-packages (from trio~=0.17->selenium) (3.4)\n",
      "Requirement already satisfied: outcome in c:\\users\\alex\\appdata\\local\\programs\\python\\python310\\lib\\site-packages (from trio~=0.17->selenium) (1.2.0)\n",
      "Requirement already satisfied: sniffio in c:\\users\\alex\\appdata\\local\\programs\\python\\python310\\lib\\site-packages (from trio~=0.17->selenium) (1.3.0)\n",
      "Requirement already satisfied: cffi>=1.14 in c:\\users\\alex\\appdata\\local\\programs\\python\\python310\\lib\\site-packages (from trio~=0.17->selenium) (1.15.1)\n",
      "Requirement already satisfied: exceptiongroup>=1.0.0rc9 in c:\\users\\alex\\appdata\\local\\programs\\python\\python310\\lib\\site-packages (from trio~=0.17->selenium) (1.1.3)\n",
      "Requirement already satisfied: wsproto>=0.14 in c:\\users\\alex\\appdata\\local\\programs\\python\\python310\\lib\\site-packages (from trio-websocket~=0.9->selenium) (1.2.0)\n",
      "Requirement already satisfied: pysocks!=1.5.7,<2.0,>=1.5.6 in c:\\users\\alex\\appdata\\local\\programs\\python\\python310\\lib\\site-packages (from urllib3[socks]<3,>=1.26->selenium) (1.7.1)\n",
      "Requirement already satisfied: pycparser in c:\\users\\alex\\appdata\\local\\programs\\python\\python310\\lib\\site-packages (from cffi>=1.14->trio~=0.17->selenium) (2.21)\n",
      "Requirement already satisfied: h11<1,>=0.9.0 in c:\\users\\alex\\appdata\\local\\programs\\python\\python310\\lib\\site-packages (from wsproto>=0.14->trio-websocket~=0.9->selenium) (0.14.0)\n",
      "Note: you may need to restart the kernel to use updated packages.\n",
      "Looking in indexes: https://pypi.org/simple, https://pypi.ngc.nvidia.com\n",
      "Requirement already satisfied: mysql-connector-python in c:\\users\\alex\\appdata\\local\\programs\\python\\python310\\lib\\site-packages (8.0.31)\n",
      "Requirement already satisfied: protobuf<=3.20.1,>=3.11.0 in c:\\users\\alex\\appdata\\local\\programs\\python\\python310\\lib\\site-packages (from mysql-connector-python) (3.20.1)\n",
      "Note: you may need to restart the kernel to use updated packages.\n"
     ]
    }
   ],
   "source": [
    "%pip install beautifulsoup4\n",
    "%pip install requests\n",
    "%pip install selenium\n",
    "%pip install mysql-connector-python\n"
   ]
  },
  {
   "cell_type": "code",
   "execution_count": 101,
   "metadata": {},
   "outputs": [
    {
     "name": "stdout",
     "output_type": "stream",
     "text": [
      "Connection between MySQL and Python is established.\n",
      "\n",
      "Entry 'Z' added to the database.\n",
      "Entry 'Zebra' added to the database.\n",
      "Entry 'Zero' added to the database.\n",
      "Entry 'Zombie' added to the database.\n",
      "Entry 'Zoo' added to the database.\n",
      "Connection closed.\n"
     ]
    }
   ],
   "source": [
    "from bs4 import BeautifulSoup\n",
    "import mysql.connector as connector\n",
    "\n",
    "# HTML content goes here\n",
    "html_content = \"\"\" \n",
    "\n",
    "\n",
    "<div class=\"container-module--root--JHM7J\"><div class=\"dream-dictionary-module--dreamDictionary--Ek1VD\"><h1>Dream Dictionary</h1><div class=\"dream-dictionary-module--alphaSearch--SSu8L\"><div class=\"alpha-nav-module--alphabetNav--aPd1h\"><a href=\"/oracles/dream-dictionary?letter=a\">A</a><a href=\"/oracles/dream-dictionary?letter=b\">B</a><a href=\"/oracles/dream-dictionary?letter=c\">C</a><a href=\"/oracles/dream-dictionary?letter=d\">D</a><a href=\"/oracles/dream-dictionary?letter=e\">E</a><a href=\"/oracles/dream-dictionary?letter=f\">F</a><a href=\"/oracles/dream-dictionary?letter=g\">G</a><a href=\"/oracles/dream-dictionary?letter=h\">H</a><a href=\"/oracles/dream-dictionary?letter=i\">I</a><a href=\"/oracles/dream-dictionary?letter=j\">J</a><a href=\"/oracles/dream-dictionary?letter=k\">K</a><a href=\"/oracles/dream-dictionary?letter=l\">L</a><a href=\"/oracles/dream-dictionary?letter=m\">M</a><a href=\"/oracles/dream-dictionary?letter=n\">N</a><a href=\"/oracles/dream-dictionary?letter=o\">O</a><a href=\"/oracles/dream-dictionary?letter=p\">P</a><a href=\"/oracles/dream-dictionary?letter=q\">Q</a><a href=\"/oracles/dream-dictionary?letter=r\">R</a><a href=\"/oracles/dream-dictionary?letter=s\">S</a><a href=\"/oracles/dream-dictionary?letter=t\">T</a><a href=\"/oracles/dream-dictionary?letter=u\">U</a><a href=\"/oracles/dream-dictionary?letter=v\">V</a><a href=\"/oracles/dream-dictionary?letter=w\">W</a><a href=\"/oracles/dream-dictionary?letter=x\">X</a><a href=\"/oracles/dream-dictionary?letter=y\">Y</a><a href=\"/oracles/dream-dictionary?letter=z\">Z</a></div><form class=\"search-form-module--searchForm--ydcHR\"><input type=\"text\" name=\"search_term\" value=\"\"><button type=\"submit\" name=\"search\">Search Dictionary</button></form></div><h2>Terms for letter: Z</h2><div class=\"dream-dictionary-module--anchorNav--dMYmt\"><a href=\"/oracles/dream-dictionary/z\">Z</a><a href=\"/oracles/dream-dictionary/zebra\">Zebra</a><a href=\"/oracles/dream-dictionary/zero\">Zero</a><a href=\"/oracles/dream-dictionary/zombie\">Zombie</a><a href=\"/oracles/dream-dictionary/zoo\">Zoo</a></div><div class=\"dream-dictionary-module--dictionaryResults--Eadvz\"><div><h3><a href=\"/oracles/dream-dictionary/z\">Z</a></h3><div><div><img loading=\"lazy\" src=\"https://images.unsplash.com/photo-1590728320367-e2870ecffbb9?crop=entropy&amp;cs=srgb&amp;fm=jpg&amp;ixid=MXwxNjk0NTl8MHwxfHNlYXJjaHwxfHxafGVufDB8MHx8&amp;ixlib=rb-1.2.1&amp;q=85&amp;w=800\" alt=\"black and red backpack on black motorcycle\" style=\"width: 100%;\"></div><figcaption class=\"layout-module--caption--n8RoN\">Photo by <a href=\"https://unsplash.com/@verstappen_photography?utm_source=Cafe%20au%20Soul&amp;utm_medium=referral\">Verstappen Photography</a> on <a href=\"https://unsplash.com/?utm_source=Cafe%20au%20Soul&amp;utm_medium=referral\">Unsplash</a></figcaption><section class=\"section-module--root--jRTGT white section-module--noPadding---U+0z\"><div class=\"container-module--root--JHM7J\"><p class=\"typography-module--paragraph---kHwl\">Dreaming of the letter \"Z\" can represent the idea of boredom or not feeling connected to life in some way. As a symbol representing finality, it can be describing the end of one road or course of action. You may feel like you are going backwards, but life is a circular journey and you are always moving forward as the path zig zags in your growth.</p></div></section></div><a class=\"dream-dictionary-module--topLink--9VuUh\" href=\"#\">Back to top</a></div><div><h3><a href=\"/oracles/dream-dictionary/zebra\">Zebra</a></h3><div><div><img loading=\"lazy\" src=\"https://images.unsplash.com/photo-1539770158377-43832757b687?crop=entropy&amp;cs=srgb&amp;fm=jpg&amp;ixid=MXwxNjk0NTl8MHwxfHNlYXJjaHwxfHxaZWJyYXxlbnwwfDB8fA&amp;ixlib=rb-1.2.1&amp;q=85&amp;w=800\" alt=\"black and white zebra skin\" style=\"width: 100%;\"></div><figcaption class=\"layout-module--caption--n8RoN\">Photo by <a href=\"https://unsplash.com/@stefyaich?utm_source=Cafe%20au%20Soul&amp;utm_medium=referral\">Stephane YAICH</a> on <a href=\"https://unsplash.com/?utm_source=Cafe%20au%20Soul&amp;utm_medium=referral\">Unsplash</a></figcaption><section class=\"section-module--root--jRTGT white section-module--noPadding---U+0z\"><div class=\"container-module--root--JHM7J\"><p class=\"typography-module--paragraph---kHwl\">The zebra demonstrates the qualities of the <a class=\"serializers-module--link--NkDMM\" href=\"/oracles/dream-dictionary/horse\"><strong>horse,</strong></a> but with the added symbolism of spiritual uniqueness. See <a class=\"serializers-module--link--NkDMM\" href=\"/oracles/dream-dictionary/animals\"><strong>Animals</strong></a>.</p></div></section></div><a class=\"dream-dictionary-module--topLink--9VuUh\" href=\"#\">Back to top</a></div><div><h3><a href=\"/oracles/dream-dictionary/zero\">Zero</a></h3><div><div><img loading=\"lazy\" src=\"https://images.unsplash.com/photo-1552665312-09ff7932252e?crop=entropy&amp;cs=srgb&amp;fm=jpg&amp;ixid=MXwxNjk0NTl8MHwxfHNlYXJjaHwxfHxaZXJvfGVufDB8MHx8&amp;ixlib=rb-1.2.1&amp;q=85&amp;w=800\" alt=\"garlics in sacks\" style=\"width: 100%;\"></div><figcaption class=\"layout-module--caption--n8RoN\">Photo by <a href=\"https://unsplash.com/@luamtla?utm_source=Cafe%20au%20Soul&amp;utm_medium=referral\">Laura Mitulla</a> on <a href=\"https://unsplash.com/?utm_source=Cafe%20au%20Soul&amp;utm_medium=referral\">Unsplash</a></figcaption><section class=\"section-module--root--jRTGT white section-module--noPadding---U+0z\"><div class=\"container-module--root--JHM7J\"><p class=\"typography-module--paragraph---kHwl\">Zero can symbolize nothing at the same time that it represents wholeness in the idea that what we think we need may not be right for us. We may need to 'zero' in on what is really important. See <a class=\"serializers-module--link--NkDMM\" href=\"/oracles/dream-dictionary/empty\"><strong>Empty,</strong></a> <a class=\"serializers-module--link--NkDMM\" href=\"/oracles/dream-dictionary/circle\"><strong>Circle </strong></a>and <a class=\"serializers-module--link--NkDMM\" href=\"/oracles/dream-dictionary/numbers\"><strong>Numbers.</strong></a></p></div></section></div><a class=\"dream-dictionary-module--topLink--9VuUh\" href=\"#\">Back to top</a></div><div><h3><a href=\"/oracles/dream-dictionary/zombie\">Zombie</a></h3><div><div><img loading=\"lazy\" src=\"https://images.unsplash.com/photo-1572527561845-bf58d45376bc?crop=entropy&amp;cs=srgb&amp;fm=jpg&amp;ixid=MXwxNjk0NTl8MHwxfHNlYXJjaHwxfHxab21iaWV8ZW58MHwwfHw&amp;ixlib=rb-1.2.1&amp;q=85&amp;w=800\" alt=\"Zombie\" style=\"width: 100%;\"></div><figcaption class=\"layout-module--caption--n8RoN\">Photo by <a href=\"https://unsplash.com/@justzorik?utm_source=Cafe%20au%20Soul&amp;utm_medium=referral\">Zorik D</a> on <a href=\"https://unsplash.com/?utm_source=Cafe%20au%20Soul&amp;utm_medium=referral\">Unsplash</a></figcaption><section class=\"section-module--root--jRTGT white section-module--noPadding---U+0z\"><div class=\"container-module--root--JHM7J\"><p class=\"typography-module--paragraph---kHwl\">Dreams utilize other characters to portray aspects of the individual - so dreaming of a Zombie can portray how you are&nbsp;recognizing a 'lifeless' yet active part of&nbsp;you that needs to be understsood and integrated.&nbsp;Like any stalker dream, the Zombie that pursues us embodies the&nbsp;<a class=\"serializers-module--link--NkDMM\" href=\"/oracles/dream-dictionary/shadow\"><strong>Shadow</strong></a>archetype. We dream of what we are not facing and the zombie can represent a lifeless approach that is uninspired or without vision. While we may feel victimized by events - it can be our 'negativism' that undermines our success. Zombies can also suggest materialism over passion, or vampirism where one side of the self succeeds at the expense of another.The <strong>Zombie Apocalpyse </strong>dream shows the movement of the psyche&nbsp;toward rebirth after overcoming what may have felt like a negative period. In most myths, or the inspiration of the collective unconscious ie: archetypes, the apocalypse is usually followed by a rebirth for civilization. The landscape in a dream shows the current climate of the inner landscape. If the 'world' is ending then an old&nbsp;way of thinking may be passing. If it is ending with a theme of Zombies, the message can be that a rebirth will lead to optimism&nbsp;and a more fulfilling way of interacting with life. <a class=\"serializers-module--link--NkDMM\" href=\"/oracles/dream-dictionary/nightmare\"><strong>Nightmares</strong></a>are a positive sign&nbsp;that something is&nbsp;shifting or coming into consciousness for examination and release.</p></div></section></div><a class=\"dream-dictionary-module--topLink--9VuUh\" href=\"#\">Back to top</a></div><div><h3><a href=\"/oracles/dream-dictionary/zoo\">Zoo</a></h3><div><div><img loading=\"lazy\" src=\"https://images.unsplash.com/photo-1534567153574-2b12153a87f0?crop=entropy&amp;cs=srgb&amp;fm=jpg&amp;ixid=MXwxNjk0NTl8MHwxfHNlYXJjaHwxfHxab298ZW58MHwwfHw&amp;ixlib=rb-1.2.1&amp;q=85&amp;w=800\" alt=\"two giraffe and three zebra on green grass field under trees at daytime\" style=\"width: 100%;\"></div><figcaption class=\"layout-module--caption--n8RoN\">Photo by <a href=\"https://unsplash.com/@nxn?utm_source=Cafe%20au%20Soul&amp;utm_medium=referral\">Nikolay Tchaouchev</a> on <a href=\"https://unsplash.com/?utm_source=Cafe%20au%20Soul&amp;utm_medium=referral\">Unsplash</a></figcaption><section class=\"section-module--root--jRTGT white section-module--noPadding---U+0z\"><div class=\"container-module--root--JHM7J\"><p class=\"typography-module--paragraph---kHwl\">A zoo is a landscape where you explore your passions and earthy drives aside from social conditioning. Since this is a place of exotic animals that are kept in cages, dreaming of a zoo can represent how you are ‘visiting’ the idea of natural expression, but are not expressing your urges. When an animal gets loose from a cage, this part of you is breaking free. Look up the various animals for more clues to the side of you undergoing exploration. See <a class=\"serializers-module--link--NkDMM\"\n",
    "href=\"/oracles/dream-dictionary/animals\"><strong>Animals.</strong></a></p></div></section></div><a class=\"dream-dictionary-module--topLink--9VuUh\" href=\"#\">Back to top</a></div></div></div></div>\n",
    "\n",
    "\n",
    "\"\"\"\n",
    "# Parse the HTML content using BeautifulSoup\n",
    "soup = BeautifulSoup(html_content, \"html.parser\")\n",
    "\n",
    "# Find all h3 elements containing entry labels\n",
    "entry_labels = soup.find_all(\"h3\")\n",
    "\n",
    "# Find all p elements containing entry definitions\n",
    "entry_definitions = soup.find_all(\"p\", class_=\"typography-module--paragraph---kHwl\")\n",
    "\n",
    "# Create a dictionary to store entries and definitions\n",
    "entries_dict = {}\n",
    "\n",
    "# Loop through each entry label and corresponding definition\n",
    "for label, definition in zip(entry_labels, entry_definitions):\n",
    "    entry_name = label.find(\"a\").get_text()\n",
    "    entry_definition = definition.get_text()\n",
    "    entries_dict[entry_name] = entry_definition\n",
    "\n",
    "# MySQL database connection\n",
    "connection = connector.connect(\n",
    "    host=\"localhost\",\n",
    "    user=\"DisenchantmentAdmin\",  # use your own\n",
    "    password=\"Bean\",  # use your own\n",
    "    database=\"TestDisenchantment\"  # use your own\n",
    ")\n",
    "print(\"Connection between MySQL and Python is established.\\n\")\n",
    "\n",
    "try:\n",
    "    # Loop through the extracted entries and insert into the database\n",
    "    for entry_name, entry_definition in entries_dict.items():\n",
    "        element_type = \"Theme\"\n",
    "        element_reference_name = entry_name\n",
    "        element_description = entry_definition\n",
    "\n",
    "        # SQL query to insert the entry into the database\n",
    "        add_element_query = \"\"\"\n",
    "        INSERT INTO element (ElementType, ElementReferenceName, ElementDescription)\n",
    "        VALUES (%s, %s, %s)\n",
    "        \"\"\"\n",
    "\n",
    "        # Execute the query with the provided values\n",
    "        with connection.cursor() as cursor:\n",
    "            cursor.execute(add_element_query, (element_type, element_reference_name, element_description))\n",
    "            connection.commit()\n",
    "\n",
    "        print(f\"Entry '{entry_name}' added to the database.\")\n",
    "\n",
    "except connector.Error as err:\n",
    "    print(\"Error:\", err)\n",
    "\n",
    "finally:\n",
    "    # Close the database connection\n",
    "    connection.close()\n",
    "    print(\"Connection closed.\")"
   ]
  }
 ],
 "metadata": {
  "kernelspec": {
   "display_name": "Python 3",
   "language": "python",
   "name": "python3"
  },
  "language_info": {
   "codemirror_mode": {
    "name": "ipython",
    "version": 3
   },
   "file_extension": ".py",
   "mimetype": "text/x-python",
   "name": "python",
   "nbconvert_exporter": "python",
   "pygments_lexer": "ipython3",
   "version": "3.10.8"
  },
  "orig_nbformat": 4
 },
 "nbformat": 4,
 "nbformat_minor": 2
}
